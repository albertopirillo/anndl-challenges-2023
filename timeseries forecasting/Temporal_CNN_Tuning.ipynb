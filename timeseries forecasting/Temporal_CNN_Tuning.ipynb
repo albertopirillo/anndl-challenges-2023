{
  "cells": [
    {
      "cell_type": "code",
      "execution_count": null,
      "metadata": {
        "id": "5VuOSHwwFIIj",
        "colab": {
          "base_uri": "https://localhost:8080/"
        },
        "outputId": "98366343-3719-4d4c-92a4-601c32c58cee",
        "ExecuteTime": {
          "end_time": "2023-12-18T08:41:19.455903210Z",
          "start_time": "2023-12-18T08:41:19.447213920Z"
        }
      },
      "outputs": [
        {
          "output_type": "stream",
          "name": "stdout",
          "text": [
            "Mounted at /content/drive\n",
            "/content/drive/My Drive/ann challenge\n"
          ]
        }
      ],
      "source": [
        "from google.colab import drive\n",
        "drive.mount('/content/drive')\n",
        "%cd /content/drive/My Drive/ann challenge"
      ]
    },
    {
      "cell_type": "code",
      "source": [
        "!pip install -q wandb"
      ],
      "metadata": {
        "id": "2AmL7GlNHYf7",
        "colab": {
          "base_uri": "https://localhost:8080/"
        },
        "outputId": "2fe4359d-ba98-44de-9f3b-c9027b7d0836"
      },
      "execution_count": null,
      "outputs": [
        {
          "output_type": "stream",
          "name": "stdout",
          "text": [
            "\u001b[2K     \u001b[90m━━━━━━━━━━━━━━━━━━━━━━━━━━━━━━━━━━━━━━━━\u001b[0m \u001b[32m2.1/2.1 MB\u001b[0m \u001b[31m10.9 MB/s\u001b[0m eta \u001b[36m0:00:00\u001b[0m\n",
            "\u001b[2K     \u001b[90m━━━━━━━━━━━━━━━━━━━━━━━━━━━━━━━━━━━━━━━━\u001b[0m \u001b[32m190.6/190.6 kB\u001b[0m \u001b[31m17.3 MB/s\u001b[0m eta \u001b[36m0:00:00\u001b[0m\n",
            "\u001b[2K     \u001b[90m━━━━━━━━━━━━━━━━━━━━━━━━━━━━━━━━━━━━━━━━\u001b[0m \u001b[32m254.1/254.1 kB\u001b[0m \u001b[31m19.1 MB/s\u001b[0m eta \u001b[36m0:00:00\u001b[0m\n",
            "\u001b[2K     \u001b[90m━━━━━━━━━━━━━━━━━━━━━━━━━━━━━━━━━━━━━━━━\u001b[0m \u001b[32m62.7/62.7 kB\u001b[0m \u001b[31m10.0 MB/s\u001b[0m eta \u001b[36m0:00:00\u001b[0m\n",
            "\u001b[?25h"
          ]
        }
      ]
    },
    {
      "cell_type": "markdown",
      "metadata": {
        "id": "ap3o8JayfgEM"
      },
      "source": [
        "### Import libraries"
      ]
    },
    {
      "cell_type": "code",
      "execution_count": null,
      "metadata": {
        "id": "aR-w0eZ-ABIT",
        "ExecuteTime": {
          "end_time": "2023-12-18T08:41:19.460183413Z",
          "start_time": "2023-12-18T08:41:19.450775972Z"
        }
      },
      "outputs": [],
      "source": [
        "# Fix randomness and hide warnings\n",
        "seed = 42\n",
        "\n",
        "import os\n",
        "os.environ['TF_CPP_MIN_LOG_LEVEL'] = '3'\n",
        "os.environ['PYTHONHASHSEED'] = str(seed)\n",
        "os.environ['MPLCONFIGDIR'] = os.getcwd()+'/configs/'\n",
        "\n",
        "import warnings\n",
        "warnings.simplefilter(action='ignore', category=FutureWarning)\n",
        "warnings.simplefilter(action='ignore', category=Warning)\n",
        "\n",
        "import numpy as np\n",
        "np.random.seed(seed)\n",
        "\n",
        "import logging\n",
        "\n",
        "import random\n",
        "random.seed(seed)"
      ]
    },
    {
      "cell_type": "code",
      "execution_count": null,
      "metadata": {
        "colab": {
          "base_uri": "https://localhost:8080/"
        },
        "id": "e06wPZJbADcv",
        "outputId": "9983cb74-e3bf-41b9-e18b-29a88163aad7",
        "ExecuteTime": {
          "end_time": "2023-12-18T08:41:23.351313212Z",
          "start_time": "2023-12-18T08:41:19.451499293Z"
        }
      },
      "outputs": [
        {
          "output_type": "stream",
          "name": "stdout",
          "text": [
            "2.15.0\n"
          ]
        }
      ],
      "source": [
        "# Import tensorflow\n",
        "import tensorflow as tf\n",
        "from tensorflow import keras as tfk\n",
        "from tensorflow.keras import layers as tfkl\n",
        "tf.autograph.set_verbosity(0)\n",
        "tf.get_logger().setLevel(logging.ERROR)\n",
        "tf.compat.v1.logging.set_verbosity(tf.compat.v1.logging.ERROR)\n",
        "tf.random.set_seed(seed)\n",
        "tf.compat.v1.set_random_seed(seed)\n",
        "print(tf.__version__)"
      ]
    },
    {
      "cell_type": "code",
      "execution_count": null,
      "metadata": {
        "id": "fN6wKImkADfL",
        "ExecuteTime": {
          "end_time": "2023-12-18T08:41:23.725884725Z",
          "start_time": "2023-12-18T08:41:23.353590571Z"
        }
      },
      "outputs": [],
      "source": [
        "# Import other libraries\n",
        "import matplotlib.pyplot as plt\n",
        "import seaborn as sns\n",
        "plt.rc('font', size=16)\n",
        "sns.set_theme()\n",
        "import wandb"
      ]
    },
    {
      "cell_type": "markdown",
      "metadata": {
        "id": "efzZcamrkckv"
      },
      "source": [
        "## Auxiliary functions"
      ]
    },
    {
      "cell_type": "code",
      "execution_count": null,
      "metadata": {
        "id": "vb98Ss-flyym",
        "ExecuteTime": {
          "end_time": "2023-12-18T08:41:23.743727494Z",
          "start_time": "2023-12-18T08:41:23.727458997Z"
        }
      },
      "outputs": [],
      "source": [
        "def plot_time_series(x: np.ndarray) -> None:\n",
        "  plt.figure(figsize=(16, 4))\n",
        "  plt.plot(x)\n",
        "  plt.title(f\"Time series\")\n",
        "  plt.show()"
      ]
    },
    {
      "cell_type": "code",
      "execution_count": null,
      "metadata": {
        "id": "O3NOqwcllyaU",
        "ExecuteTime": {
          "end_time": "2023-12-18T08:41:23.749701279Z",
          "start_time": "2023-12-18T08:41:23.742714571Z"
        }
      },
      "outputs": [],
      "source": [
        "def plot_history(history, log_scale: bool = False) -> None:\n",
        "  mae = history['mae']\n",
        "  val_mae = history['val_mae']\n",
        "  loss = history['loss']\n",
        "  val_loss = history['val_loss']\n",
        "  best_epoch = np.argmin(val_loss)\n",
        "\n",
        "  plt.figure(figsize=(18, 6))\n",
        "  plt.subplot(1, 2, 1)\n",
        "  plt.title('Training and validation MSE')\n",
        "  plt.xlabel('Epoch')\n",
        "  plt.ylabel('Mean Squared Error')\n",
        "\n",
        "  if log_scale:\n",
        "      plt.semilogy(loss, label='Training MSE', color='#ff7f0e')\n",
        "      plt.semilogy(val_loss, label='Validation MSE', color='#4D61E2')\n",
        "  else:\n",
        "      plt.plot(loss, label='Training MSE', color='#ff7f0e')\n",
        "      plt.plot(val_loss, label='Validation MSE', color='#4D61E2')\n",
        "\n",
        "  plt.plot(best_epoch, history['val_loss'][best_epoch], marker='*', alpha=0.8, markersize=10, color='#4D61E2')\n",
        "  plt.grid(True)\n",
        "  plt.legend()\n",
        "\n",
        "  plt.subplot(1, 2, 2)\n",
        "  plt.title('Training and validation MAE')\n",
        "  plt.xlabel('Epoch')\n",
        "  plt.ylabel('Mean Absolute Error')\n",
        "\n",
        "  if log_scale:\n",
        "     plt.semilogy(mae, label='Training MAE', color='#ff7f0e')\n",
        "     plt.semilogy(val_mae, label='Validation MAE', color='#4D61E2')\n",
        "  else:\n",
        "    plt.plot(mae, label='Training MAE', color='#ff7f0e')\n",
        "    plt.plot(val_mae, label='Validation MAE', color='#4D61E2')\n",
        "\n",
        "  plt.plot(best_epoch, history['val_mae'][best_epoch], marker='*', alpha=0.8, markersize=10, color='#4D61E2')\n",
        "  plt.grid(True)\n",
        "  plt.legend()\n",
        "  plt.show()"
      ]
    },
    {
      "cell_type": "markdown",
      "metadata": {
        "id": "effwKXIa8w_0"
      },
      "source": [
        "## Load data"
      ]
    },
    {
      "cell_type": "code",
      "execution_count": null,
      "metadata": {
        "id": "-r3S-hwJU8Ez",
        "ExecuteTime": {
          "end_time": "2023-12-18T08:41:23.779343774Z",
          "start_time": "2023-12-18T08:41:23.747341558Z"
        }
      },
      "outputs": [],
      "source": [
        "data = np.load('preprocessed_data_stride_50.npz', allow_pickle=True)"
      ]
    },
    {
      "cell_type": "code",
      "execution_count": null,
      "metadata": {
        "id": "ZxDloiGeVZh2",
        "ExecuteTime": {
          "end_time": "2023-12-18T08:41:25.772202423Z",
          "start_time": "2023-12-18T08:41:23.752098576Z"
        }
      },
      "outputs": [],
      "source": [
        "X_train, X_val, y_train, y_val = data[\"X_train\"], data[\"X_val\"], data[\"y_train\"], data[\"y_val\"]"
      ]
    },
    {
      "cell_type": "code",
      "execution_count": null,
      "metadata": {
        "id": "_4NcSPQLfrkM",
        "ExecuteTime": {
          "end_time": "2023-12-18T08:41:25.785244693Z",
          "start_time": "2023-12-18T08:41:25.774345706Z"
        }
      },
      "outputs": [],
      "source": [
        "X_train = np.expand_dims(X_train, axis=-1)\n",
        "X_val = np.expand_dims(X_val, axis=-1)\n",
        "y_train = np.expand_dims(y_train, axis=-1)\n",
        "y_val= np.expand_dims(y_val, axis=-1)"
      ]
    },
    {
      "cell_type": "code",
      "execution_count": null,
      "metadata": {
        "colab": {
          "base_uri": "https://localhost:8080/"
        },
        "id": "7eMPyLgIemFe",
        "outputId": "78ec3c68-8efe-4edd-f945-8237a71de905",
        "ExecuteTime": {
          "end_time": "2023-12-18T08:41:25.786521896Z",
          "start_time": "2023-12-18T08:41:25.779176554Z"
        }
      },
      "outputs": [
        {
          "output_type": "stream",
          "name": "stdout",
          "text": [
            "Training Data Shape: (154277, 200, 1)\n",
            "Training Label Shape: (154277, 9, 1)\n",
            "Validation Data Shape: (17142, 200, 1)\n",
            "Validation Label Shape: (17142, 9, 1)\n"
          ]
        }
      ],
      "source": [
        "print(\"Training Data Shape:\", X_train.shape)\n",
        "print(\"Training Label Shape:\", y_train.shape)\n",
        "print(\"Validation Data Shape:\", X_val.shape)\n",
        "print(\"Validation Label Shape:\", y_val.shape)"
      ]
    },
    {
      "cell_type": "markdown",
      "metadata": {
        "id": "koD0CNhCet2J"
      },
      "source": [
        "## Build the model"
      ]
    },
    {
      "cell_type": "code",
      "execution_count": null,
      "metadata": {
        "colab": {
          "base_uri": "https://localhost:8080/"
        },
        "id": "FyqqER01ent-",
        "outputId": "19278406-7189-495c-ae96-5661c921422f",
        "ExecuteTime": {
          "end_time": "2023-12-18T08:41:25.789058493Z",
          "start_time": "2023-12-18T08:41:25.784112547Z"
        }
      },
      "outputs": [
        {
          "output_type": "stream",
          "name": "stdout",
          "text": [
            "Epochs: 200\n",
            "Batch Size: 256\n",
            "Input Shape: (200, 1)\n",
            "Output Shape: (9, 1)\n"
          ]
        }
      ],
      "source": [
        "# Define key model parameters\n",
        "input_shape = X_train.shape[1:]         # Input shape for the model\n",
        "output_shape = y_train.shape[1:]        # Output shape for the model\n",
        "batch_size = 256                        # Batch size for training\n",
        "epochs = 200                            # Number of training epochs\n",
        "\n",
        "# Print the defined parameters\n",
        "print(\"Epochs:\", epochs)\n",
        "print(\"Batch Size:\", batch_size)\n",
        "print(\"Input Shape:\", input_shape)\n",
        "print(\"Output Shape:\", output_shape)"
      ]
    },
    {
      "cell_type": "code",
      "execution_count": null,
      "outputs": [],
      "source": [
        "from tcn import TCN"
      ],
      "metadata": {
        "id": "dd6aSSihlIUU",
        "ExecuteTime": {
          "end_time": "2023-12-18T08:41:25.847964841Z",
          "start_time": "2023-12-18T08:41:25.788734930Z"
        }
      }
    },
    {
      "cell_type": "code",
      "execution_count": null,
      "outputs": [],
      "source": [
        "def TemporalConvNet(num_filters, kernel_size, return_sequences, dilations, dropout_rate=0.0, nb_stacks=1):\n",
        "    return TCN(\n",
        "        nb_filters=num_filters,\n",
        "        kernel_size=kernel_size,\n",
        "        dilations=dilations,\n",
        "        nb_stacks=nb_stacks,\n",
        "        use_skip_connections=True,\n",
        "        dropout_rate=dropout_rate,\n",
        "        return_sequences=return_sequences,\n",
        "        activation='swish',\n",
        "        kernel_initializer=tf.keras.initializers.HeNormal(),\n",
        "        use_batch_norm=False,\n",
        "        go_backwards=False,\n",
        "        return_state=False\n",
        "    )"
      ],
      "metadata": {
        "id": "YODESqX3lIUU",
        "ExecuteTime": {
          "end_time": "2023-12-18T08:41:25.849121886Z",
          "start_time": "2023-12-18T08:41:25.833076833Z"
        }
      }
    },
    {
      "cell_type": "code",
      "execution_count": null,
      "outputs": [],
      "source": [
        "# Helper function to compute the receptive field of a TCN\n",
        "receptive_field = lambda k_size, dilations: 1 + 2 * (k_size - 1) * np.sum(dilations)"
      ],
      "metadata": {
        "id": "tmD1Nk9HlIUU",
        "ExecuteTime": {
          "end_time": "2023-12-18T08:41:25.850075281Z",
          "start_time": "2023-12-18T08:41:25.833413984Z"
        }
      }
    },
    {
      "cell_type": "code",
      "execution_count": null,
      "outputs": [
        {
          "output_type": "stream",
          "name": "stdout",
          "text": [
            "255\n",
            "253\n",
            "249\n",
            "181\n",
            "241\n"
          ]
        }
      ],
      "source": [
        "print(receptive_field(2, (1, 2, 4, 8, 16, 32, 64)))\n",
        "print(receptive_field(3, (1, 2, 4, 8, 16, 32)))\n",
        "print(receptive_field(5, (1, 2, 4, 8, 16)))\n",
        "print(receptive_field(7, (1, 2, 4, 8)))\n",
        "print(receptive_field(9, (1, 2, 4, 8)))"
      ],
      "metadata": {
        "id": "rWk-IBzOlIUU",
        "outputId": "ea9e073f-5ba9-48d0-c624-7d80d8abfa30",
        "colab": {
          "base_uri": "https://localhost:8080/"
        },
        "ExecuteTime": {
          "end_time": "2023-12-18T08:41:25.851105145Z",
          "start_time": "2023-12-18T08:41:25.833653860Z"
        }
      }
    },
    {
      "cell_type": "code",
      "execution_count": null,
      "outputs": [],
      "source": [
        "def build_model(input_shape, output_shape, hyperparams):\n",
        "    # Ensure the input time steps are at least as many as the output time steps\n",
        "    assert input_shape[0] >= output_shape[0]\n",
        "\n",
        "    # Define hyperparameters\n",
        "    initializer = tf.keras.initializers.HeNormal()\n",
        "    num_filters =  hyperparams['num_filters']\n",
        "    kernel_size = hyperparams['kernel_size']\n",
        "    conv_dropout = hyperparams['conv_dropout']\n",
        "    dense_dropout = hyperparams['dense_dropout']\n",
        "\n",
        "    match kernel_size:\n",
        "      case 5:\n",
        "        dilations = (1, 2, 4, 8, 16)\n",
        "      case 7:\n",
        "        dilations = (1, 2, 4, 8)\n",
        "      case 9:\n",
        "        dilations = (1, 2, 4, 8)\n",
        "      case _:\n",
        "          raise ValueError(\"Unknown dilation size\")\n",
        "\n",
        "    # Define the input layer with the specified shape\n",
        "    input_layer = tfkl.Input(shape=input_shape, name='input_layer')\n",
        "\n",
        "    # Feature extractor\n",
        "    x = TemporalConvNet(num_filters, kernel_size, return_sequences=True, dilations=dilations, dropout_rate=conv_dropout)(input_layer)\n",
        "    x = tfkl.Flatten()(x)\n",
        "\n",
        "    # Dense regressor\n",
        "    while x.shape[1] > 512:\n",
        "        x = tfkl.Dense(x.shape[1] // 4, kernel_initializer=initializer)(x)\n",
        "        x = tfkl.Activation('swish')(x)\n",
        "        x = tfkl.Dropout(dense_dropout)(x)\n",
        "\n",
        "    output_layer = tfkl.Dense(9, activation='linear')(x)\n",
        "\n",
        "    # Construct the model by connecting input and output layers\n",
        "    model = tf.keras.Model(inputs=input_layer, outputs=output_layer, name='Temporal_CNN')\n",
        "\n",
        "    # Compile the model with Mean Squared Error loss and Adam optimizer\n",
        "    num_batches = int(np.ceil(X_train.shape[0] / batch_size))\n",
        "    lr_scheduler = tf.keras.optimizers.schedules.ExponentialDecay(initial_learning_rate=1e-3, decay_steps=(num_batches * 5), decay_rate=0.9, staircase=True)\n",
        "    model.compile(loss=tf.keras.losses.MeanSquaredError(), optimizer=tf.keras.optimizers.AdamW(learning_rate=lr_scheduler), metrics=['mae'])\n",
        "\n",
        "    return model"
      ],
      "metadata": {
        "id": "GBrgXzV6QQ0_",
        "ExecuteTime": {
          "end_time": "2023-12-18T08:41:25.852001590Z",
          "start_time": "2023-12-18T08:41:25.833902237Z"
        }
      }
    },
    {
      "cell_type": "code",
      "execution_count": null,
      "metadata": {
        "colab": {
          "base_uri": "https://localhost:8080/"
        },
        "id": "I2FODZMLxw74",
        "outputId": "cc6ead99-8539-467e-9bd2-5b7753d7f31a",
        "ExecuteTime": {
          "end_time": "2023-12-18T08:41:27.196368471Z",
          "start_time": "2023-12-18T08:41:25.834193139Z"
        }
      },
      "outputs": [
        {
          "output_type": "stream",
          "name": "stdout",
          "text": [
            "Model: \"Temporal_CNN\"\n",
            "_________________________________________________________________\n",
            " Layer (type)                Output Shape              Param #   \n",
            "=================================================================\n",
            " input_layer (InputLayer)    [(None, 200, 1)]          0         \n",
            "                                                                 \n",
            " tcn (TCN)                   (None, 200, 16)           16432     \n",
            "                                                                 \n",
            " flatten (Flatten)           (None, 3200)              0         \n",
            "                                                                 \n",
            " dense (Dense)               (None, 800)               2560800   \n",
            "                                                                 \n",
            " activation (Activation)     (None, 800)               0         \n",
            "                                                                 \n",
            " dropout (Dropout)           (None, 800)               0         \n",
            "                                                                 \n",
            " dense_1 (Dense)             (None, 200)               160200    \n",
            "                                                                 \n",
            " activation_1 (Activation)   (None, 200)               0         \n",
            "                                                                 \n",
            " dropout_1 (Dropout)         (None, 200)               0         \n",
            "                                                                 \n",
            " dense_2 (Dense)             (None, 9)                 1809      \n",
            "                                                                 \n",
            "=================================================================\n",
            "Total params: 2739241 (10.45 MB)\n",
            "Trainable params: 2739241 (10.45 MB)\n",
            "Non-trainable params: 0 (0.00 Byte)\n",
            "_________________________________________________________________\n"
          ]
        }
      ],
      "source": [
        "model = build_model(input_shape, output_shape, {'num_filters': 16, 'kernel_size': 9, 'conv_dropout': 0.3, 'dense_dropout': 0.2})\n",
        "model_name = model.name\n",
        "model.summary()"
      ]
    },
    {
      "cell_type": "code",
      "execution_count": null,
      "outputs": [
        {
          "output_type": "execute_result",
          "data": {
            "image/png": "[encoded data removed]",
            "text/plain": [
              "<IPython.core.display.Image object>"
            ]
          },
          "metadata": {},
          "execution_count": 20
        }
      ],
      "source": [
        "tfk.utils.plot_model(model, show_shapes=True)"
      ],
      "metadata": {
        "id": "jn42PznflIUV",
        "outputId": "99af2c76-0d9a-441e-b36c-48c74ce2a423",
        "colab": {
          "base_uri": "https://localhost:8080/",
          "height": 1000
        },
        "ExecuteTime": {
          "end_time": "2023-12-18T08:41:27.256243359Z",
          "start_time": "2023-12-18T08:41:27.186512208Z"
        }
      }
    },
    {
      "cell_type": "code",
      "source": [
        "del model"
      ],
      "metadata": {
        "id": "iUDnIEDeCMje",
        "ExecuteTime": {
          "end_time": "2023-12-18T08:41:27.258324454Z",
          "start_time": "2023-12-18T08:41:27.242827448Z"
        }
      },
      "execution_count": null,
      "outputs": []
    },
    {
      "cell_type": "code",
      "execution_count": null,
      "metadata": {
        "id": "b9VmdepRUQlw",
        "ExecuteTime": {
          "end_time": "2023-12-18T08:41:27.260085525Z",
          "start_time": "2023-12-18T08:41:27.247811084Z"
        }
      },
      "outputs": [],
      "source": [
        "lr_patience = 5\n",
        "es_patience = 15\n",
        "num_batches = int(np.ceil(X_train.shape[0] / batch_size))"
      ]
    },
    {
      "cell_type": "markdown",
      "source": [
        "## Tuning"
      ],
      "metadata": {
        "collapsed": false,
        "id": "YxHPmrX_HV27"
      }
    },
    {
      "cell_type": "code",
      "execution_count": null,
      "outputs": [],
      "source": [
        "def run(config=None):\n",
        "    with wandb.init(config=config):\n",
        "        # Fix randomness\n",
        "        seed = 42\n",
        "        os.environ['PYTHONHASHSEED'] = str(seed)\n",
        "        np.random.seed(seed)\n",
        "        random.seed(seed)\n",
        "        tf.random.set_seed(seed)\n",
        "        tf.compat.v1.set_random_seed(seed)\n",
        "\n",
        "        # Build the model\n",
        "        config = wandb.config\n",
        "        model = build_model(input_shape, output_shape, hyperparams=config)\n",
        "\n",
        "        # Define callbacks\n",
        "        callbacks = [\n",
        "            tfk.callbacks.TerminateOnNaN(),\n",
        "            tfk.callbacks.ReduceLROnPlateau('val_loss', patience=lr_patience, factor=0.3, min_lr=1e-5, verbose=1),\n",
        "            tfk.callbacks.EarlyStopping('val_loss', patience=es_patience, min_delta=1e-4, restore_best_weights=True, verbose=1),\n",
        "            wandb.keras.WandbMetricsLogger(log_freq='epoch'),\n",
        "            # tfk.callbacks.ModelCheckpoint('checkpoints/' + model_name + '_{epoch:02d}', monitor='val_loss', save_freq=(num_batches * 3))\n",
        "        ]\n",
        "\n",
        "        # Train the model\n",
        "        model.fit(\n",
        "            x=X_train,\n",
        "            y=y_train,\n",
        "            batch_size=batch_size,\n",
        "            epochs=epochs,\n",
        "            validation_data=(X_val, y_val),\n",
        "            callbacks=callbacks,\n",
        "        )\n",
        "        del model"
      ],
      "metadata": {
        "ExecuteTime": {
          "end_time": "2023-12-18T08:41:27.276600684Z",
          "start_time": "2023-12-18T08:41:27.256120976Z"
        },
        "id": "DCAUSaOBHV27"
      }
    },
    {
      "cell_type": "code",
      "execution_count": null,
      "outputs": [
        {
          "output_type": "stream",
          "name": "stderr",
          "text": [
            "\u001b[34m\u001b[1mwandb\u001b[0m: Agent Starting Run: mgmde8dr with config:\n",
            "\u001b[34m\u001b[1mwandb\u001b[0m: \tconv_dropout: 0.15\n",
            "\u001b[34m\u001b[1mwandb\u001b[0m: \tdense_dropout: 0.25\n",
            "\u001b[34m\u001b[1mwandb\u001b[0m: \tkernel_size: 9\n",
            "\u001b[34m\u001b[1mwandb\u001b[0m: \tnum_filters: 16\n",
            "\u001b[34m\u001b[1mwandb\u001b[0m: Currently logged in as: \u001b[33malberto-pirillo\u001b[0m. Use \u001b[1m`wandb login --relogin`\u001b[0m to force relogin\n"
          ]
        },
        {
          "output_type": "display_data",
          "data": {
            "text/plain": [
              "<IPython.core.display.HTML object>"
            ],
            "text/html": [
              "Tracking run with wandb version 0.16.1"
            ]
          },
          "metadata": {}
        },
        {
          "output_type": "display_data",
          "data": {
            "text/plain": [
              "<IPython.core.display.HTML object>"
            ],
            "text/html": [
              "Run data is saved locally in <code>/content/drive/My Drive/ann challenge/wandb/run-20231218_140333-mgmde8dr</code>"
            ]
          },
          "metadata": {}
        },
        {
          "output_type": "display_data",
          "data": {
            "text/plain": [
              "<IPython.core.display.HTML object>"
            ],
            "text/html": [
              "Syncing run <strong><a href='https://wandb.ai/alberto-pirillo/anndl-forecasting/runs/mgmde8dr' target=\"_blank\">autumn-sweep-15</a></strong> to <a href='https://wandb.ai/alberto-pirillo/anndl-forecasting' target=\"_blank\">Weights & Biases</a> (<a href='https://wandb.me/run' target=\"_blank\">docs</a>)<br/>Sweep page: <a href='https://wandb.ai/alberto-pirillo/anndl-forecasting/sweeps/mbbt7ltu' target=\"_blank\">https://wandb.ai/alberto-pirillo/anndl-forecasting/sweeps/mbbt7ltu</a>"
            ]
          },
          "metadata": {}
        },
        {
          "output_type": "display_data",
          "data": {
            "text/plain": [
              "<IPython.core.display.HTML object>"
            ],
            "text/html": [
              " View project at <a href='https://wandb.ai/alberto-pirillo/anndl-forecasting' target=\"_blank\">https://wandb.ai/alberto-pirillo/anndl-forecasting</a>"
            ]
          },
          "metadata": {}
        },
        {
          "output_type": "display_data",
          "data": {
            "text/plain": [
              "<IPython.core.display.HTML object>"
            ],
            "text/html": [
              " View sweep at <a href='https://wandb.ai/alberto-pirillo/anndl-forecasting/sweeps/mbbt7ltu' target=\"_blank\">https://wandb.ai/alberto-pirillo/anndl-forecasting/sweeps/mbbt7ltu</a>"
            ]
          },
          "metadata": {}
        },
        {
          "output_type": "display_data",
          "data": {
            "text/plain": [
              "<IPython.core.display.HTML object>"
            ],
            "text/html": [
              " View run at <a href='https://wandb.ai/alberto-pirillo/anndl-forecasting/runs/mgmde8dr' target=\"_blank\">https://wandb.ai/alberto-pirillo/anndl-forecasting/runs/mgmde8dr</a>"
            ]
          },
          "metadata": {}
        },
        {
          "output_type": "stream",
          "name": "stdout",
          "text": [
            "Epoch 1/200\n",
            "603/603 [==============================] - 24s 24ms/step - loss: 0.0303 - mae: 0.1180 - val_loss: 0.0102 - val_mae: 0.0691 - lr: 0.0010\n",
            "Epoch 2/200\n",
            "603/603 [==============================] - 13s 21ms/step - loss: 0.0137 - mae: 0.0838 - val_loss: 0.0111 - val_mae: 0.0723 - lr: 0.0010\n",
            "Epoch 3/200\n",
            "603/603 [==============================] - 13s 22ms/step - loss: 0.0123 - mae: 0.0783 - val_loss: 0.0095 - val_mae: 0.0635 - lr: 0.0010\n",
            "Epoch 4/200\n",
            "603/603 [==============================] - 13s 21ms/step - loss: 0.0114 - mae: 0.0746 - val_loss: 0.0098 - val_mae: 0.0679 - lr: 0.0010\n",
            "Epoch 5/200\n",
            "603/603 [==============================] - 13s 21ms/step - loss: 0.0110 - mae: 0.0727 - val_loss: 0.0091 - val_mae: 0.0622 - lr: 0.0010\n",
            "Epoch 6/200\n",
            "603/603 [==============================] - 13s 21ms/step - loss: 0.0104 - mae: 0.0702 - val_loss: 0.0093 - val_mae: 0.0660 - lr: 9.0000e-04\n",
            "Epoch 7/200\n",
            "603/603 [==============================] - 13s 21ms/step - loss: 0.0101 - mae: 0.0692 - val_loss: 0.0087 - val_mae: 0.0607 - lr: 9.0000e-04\n",
            "Epoch 8/200\n",
            "603/603 [==============================] - 12s 20ms/step - loss: 0.0098 - mae: 0.0678 - val_loss: 0.0089 - val_mae: 0.0617 - lr: 9.0000e-04\n",
            "Epoch 9/200\n",
            "603/603 [==============================] - 13s 21ms/step - loss: 0.0096 - mae: 0.0668 - val_loss: 0.0086 - val_mae: 0.0610 - lr: 9.0000e-04\n",
            "Epoch 10/200\n",
            "603/603 [==============================] - 13s 21ms/step - loss: 0.0094 - mae: 0.0662 - val_loss: 0.0083 - val_mae: 0.0592 - lr: 9.0000e-04\n",
            "Epoch 11/200\n",
            "603/603 [==============================] - 13s 21ms/step - loss: 0.0091 - mae: 0.0649 - val_loss: 0.0083 - val_mae: 0.0604 - lr: 8.1000e-04\n",
            "Epoch 12/200\n",
            "603/603 [==============================] - 13s 21ms/step - loss: 0.0090 - mae: 0.0644 - val_loss: 0.0082 - val_mae: 0.0591 - lr: 8.1000e-04\n",
            "Epoch 13/200\n",
            "603/603 [==============================] - 13s 21ms/step - loss: 0.0088 - mae: 0.0638 - val_loss: 0.0081 - val_mae: 0.0601 - lr: 8.1000e-04\n",
            "Epoch 14/200\n",
            "603/603 [==============================] - 12s 21ms/step - loss: 0.0087 - mae: 0.0638 - val_loss: 0.0079 - val_mae: 0.0577 - lr: 8.1000e-04\n",
            "Epoch 15/200\n",
            "603/603 [==============================] - 13s 21ms/step - loss: 0.0085 - mae: 0.0629 - val_loss: 0.0078 - val_mae: 0.0572 - lr: 8.1000e-04\n",
            "Epoch 16/200\n",
            "603/603 [==============================] - 13s 21ms/step - loss: 0.0083 - mae: 0.0622 - val_loss: 0.0078 - val_mae: 0.0579 - lr: 7.2900e-04\n",
            "Epoch 17/200\n",
            "603/603 [==============================] - 13s 21ms/step - loss: 0.0081 - mae: 0.0617 - val_loss: 0.0076 - val_mae: 0.0562 - lr: 7.2900e-04\n",
            "Epoch 18/200\n",
            "603/603 [==============================] - 13s 21ms/step - loss: 0.0079 - mae: 0.0612 - val_loss: 0.0075 - val_mae: 0.0561 - lr: 7.2900e-04\n",
            "Epoch 19/200\n",
            "603/603 [==============================] - 13s 21ms/step - loss: 0.0078 - mae: 0.0608 - val_loss: 0.0075 - val_mae: 0.0576 - lr: 7.2900e-04\n",
            "Epoch 20/200\n",
            "603/603 [==============================] - 13s 21ms/step - loss: 0.0077 - mae: 0.0603 - val_loss: 0.0073 - val_mae: 0.0553 - lr: 7.2900e-04\n",
            "Epoch 21/200\n",
            "603/603 [==============================] - 13s 21ms/step - loss: 0.0074 - mae: 0.0593 - val_loss: 0.0073 - val_mae: 0.0557 - lr: 6.5610e-04\n",
            "Epoch 22/200\n",
            "603/603 [==============================] - 12s 21ms/step - loss: 0.0073 - mae: 0.0590 - val_loss: 0.0072 - val_mae: 0.0551 - lr: 6.5610e-04\n",
            "Epoch 23/200\n",
            "603/603 [==============================] - 12s 21ms/step - loss: 0.0071 - mae: 0.0584 - val_loss: 0.0071 - val_mae: 0.0548 - lr: 6.5610e-04\n",
            "Epoch 24/200\n",
            "603/603 [==============================] - 13s 21ms/step - loss: 0.0070 - mae: 0.0581 - val_loss: 0.0072 - val_mae: 0.0569 - lr: 6.5610e-04\n",
            "Epoch 25/200\n",
            "603/603 [==============================] - 13s 21ms/step - loss: 0.0069 - mae: 0.0578 - val_loss: 0.0068 - val_mae: 0.0529 - lr: 6.5610e-04\n",
            "Epoch 26/200\n",
            "603/603 [==============================] - 13s 21ms/step - loss: 0.0067 - mae: 0.0569 - val_loss: 0.0069 - val_mae: 0.0540 - lr: 5.9049e-04\n",
            "Epoch 27/200\n",
            "603/603 [==============================] - 13s 21ms/step - loss: 0.0066 - mae: 0.0567 - val_loss: 0.0072 - val_mae: 0.0566 - lr: 5.9049e-04\n",
            "Epoch 28/200\n",
            "603/603 [==============================] - 12s 20ms/step - loss: 0.0065 - mae: 0.0562 - val_loss: 0.0069 - val_mae: 0.0539 - lr: 5.9049e-04\n",
            "Epoch 29/200\n",
            "603/603 [==============================] - 13s 21ms/step - loss: 0.0064 - mae: 0.0559 - val_loss: 0.0068 - val_mae: 0.0534 - lr: 5.9049e-04\n",
            "Epoch 30/200\n",
            "602/603 [============================>.] - ETA: 0s - loss: 0.0063 - mae: 0.0556\n",
            "Epoch 30: ReduceLROnPlateau reducing learning rate to 0.000177146983332932.\n",
            "603/603 [==============================] - 13s 21ms/step - loss: 0.0063 - mae: 0.0556 - val_loss: 0.0068 - val_mae: 0.0532 - lr: 5.9049e-04\n",
            "Epoch 31/200\n",
            "603/603 [==============================] - 13s 21ms/step - loss: 0.0062 - mae: 0.0549 - val_loss: 0.0066 - val_mae: 0.0519 - lr: 5.3144e-04\n",
            "Epoch 32/200\n",
            "603/603 [==============================] - 13s 21ms/step - loss: 0.0061 - mae: 0.0548 - val_loss: 0.0066 - val_mae: 0.0517 - lr: 5.3144e-04\n",
            "Epoch 33/200\n",
            "603/603 [==============================] - 13s 21ms/step - loss: 0.0060 - mae: 0.0543 - val_loss: 0.0066 - val_mae: 0.0525 - lr: 5.3144e-04\n",
            "Epoch 34/200\n",
            "603/603 [==============================] - 13s 21ms/step - loss: 0.0059 - mae: 0.0541 - val_loss: 0.0066 - val_mae: 0.0531 - lr: 5.3144e-04\n",
            "Epoch 35/200\n",
            "603/603 [==============================] - 13s 21ms/step - loss: 0.0059 - mae: 0.0539 - val_loss: 0.0066 - val_mae: 0.0522 - lr: 5.3144e-04\n",
            "Epoch 36/200\n",
            "603/603 [==============================] - 14s 23ms/step - loss: 0.0057 - mae: 0.0533 - val_loss: 0.0065 - val_mae: 0.0517 - lr: 4.7830e-04\n",
            "Epoch 37/200\n",
            "603/603 [==============================] - 13s 21ms/step - loss: 0.0057 - mae: 0.0531 - val_loss: 0.0064 - val_mae: 0.0508 - lr: 4.7830e-04\n",
            "Epoch 38/200\n",
            "603/603 [==============================] - 13s 21ms/step - loss: 0.0056 - mae: 0.0527 - val_loss: 0.0064 - val_mae: 0.0515 - lr: 4.7830e-04\n",
            "Epoch 39/200\n",
            "603/603 [==============================] - 13s 21ms/step - loss: 0.0056 - mae: 0.0526 - val_loss: 0.0064 - val_mae: 0.0511 - lr: 4.7830e-04\n",
            "Epoch 40/200\n",
            "603/603 [==============================] - 12s 20ms/step - loss: 0.0055 - mae: 0.0524 - val_loss: 0.0065 - val_mae: 0.0527 - lr: 4.7830e-04\n",
            "Epoch 41/200\n",
            "603/603 [==============================] - 13s 21ms/step - loss: 0.0054 - mae: 0.0518 - val_loss: 0.0064 - val_mae: 0.0506 - lr: 4.3047e-04\n",
            "Epoch 42/200\n",
            "603/603 [==============================] - 13s 21ms/step - loss: 0.0053 - mae: 0.0516 - val_loss: 0.0063 - val_mae: 0.0509 - lr: 4.3047e-04\n",
            "Epoch 43/200\n",
            "603/603 [==============================] - 13s 21ms/step - loss: 0.0053 - mae: 0.0514 - val_loss: 0.0064 - val_mae: 0.0519 - lr: 4.3047e-04\n",
            "Epoch 44/200\n",
            "603/603 [==============================] - 13s 21ms/step - loss: 0.0052 - mae: 0.0513 - val_loss: 0.0064 - val_mae: 0.0518 - lr: 4.3047e-04\n",
            "Epoch 45/200\n",
            "603/603 [==============================] - 13s 21ms/step - loss: 0.0052 - mae: 0.0510 - val_loss: 0.0063 - val_mae: 0.0506 - lr: 4.3047e-04\n",
            "Epoch 46/200\n",
            "602/603 [============================>.] - ETA: 0s - loss: 0.0051 - mae: 0.0506\n",
            "Epoch 46: ReduceLROnPlateau reducing learning rate to 0.00011622612364590167.\n",
            "603/603 [==============================] - 13s 21ms/step - loss: 0.0051 - mae: 0.0506 - val_loss: 0.0063 - val_mae: 0.0501 - lr: 3.8742e-04\n",
            "Epoch 47/200\n",
            "603/603 [==============================] - 13s 21ms/step - loss: 0.0050 - mae: 0.0504 - val_loss: 0.0063 - val_mae: 0.0499 - lr: 3.8742e-04\n",
            "Epoch 48/200\n",
            "603/603 [==============================] - 13s 21ms/step - loss: 0.0050 - mae: 0.0502 - val_loss: 0.0063 - val_mae: 0.0513 - lr: 3.8742e-04\n",
            "Epoch 49/200\n",
            "603/603 [==============================] - 13s 21ms/step - loss: 0.0050 - mae: 0.0501 - val_loss: 0.0063 - val_mae: 0.0505 - lr: 3.8742e-04\n",
            "Epoch 50/200\n",
            "603/603 [==============================] - 12s 21ms/step - loss: 0.0049 - mae: 0.0499 - val_loss: 0.0062 - val_mae: 0.0502 - lr: 3.8742e-04\n",
            "Epoch 51/200\n",
            "603/603 [==============================] - 13s 21ms/step - loss: 0.0049 - mae: 0.0496 - val_loss: 0.0061 - val_mae: 0.0494 - lr: 3.4868e-04\n",
            "Epoch 52/200\n",
            "603/603 [==============================] - 13s 21ms/step - loss: 0.0048 - mae: 0.0494 - val_loss: 0.0062 - val_mae: 0.0508 - lr: 3.4868e-04\n",
            "Epoch 53/200\n",
            "603/603 [==============================] - 12s 21ms/step - loss: 0.0048 - mae: 0.0492 - val_loss: 0.0062 - val_mae: 0.0494 - lr: 3.4868e-04\n",
            "Epoch 54/200\n",
            "603/603 [==============================] - 12s 20ms/step - loss: 0.0048 - mae: 0.0491 - val_loss: 0.0062 - val_mae: 0.0506 - lr: 3.4868e-04\n",
            "Epoch 55/200\n",
            "603/603 [==============================] - 13s 21ms/step - loss: 0.0047 - mae: 0.0490 - val_loss: 0.0061 - val_mae: 0.0493 - lr: 3.4868e-04\n",
            "Epoch 56/200\n",
            "601/603 [============================>.] - ETA: 0s - loss: 0.0047 - mae: 0.0487\n",
            "Epoch 56: ReduceLROnPlateau reducing learning rate to 9.414315281901509e-05.\n",
            "603/603 [==============================] - 13s 21ms/step - loss: 0.0047 - mae: 0.0487 - val_loss: 0.0062 - val_mae: 0.0499 - lr: 3.1381e-04\n",
            "Epoch 57/200\n",
            "603/603 [==============================] - 13s 21ms/step - loss: 0.0046 - mae: 0.0484 - val_loss: 0.0061 - val_mae: 0.0497 - lr: 3.1381e-04\n",
            "Epoch 58/200\n",
            "603/603 [==============================] - 13s 21ms/step - loss: 0.0046 - mae: 0.0483 - val_loss: 0.0061 - val_mae: 0.0501 - lr: 3.1381e-04\n",
            "Epoch 59/200\n",
            "603/603 [==============================] - 13s 21ms/step - loss: 0.0046 - mae: 0.0483 - val_loss: 0.0062 - val_mae: 0.0506 - lr: 3.1381e-04\n",
            "Epoch 60/200\n",
            "603/603 [==============================] - 13s 21ms/step - loss: 0.0046 - mae: 0.0482 - val_loss: 0.0061 - val_mae: 0.0499 - lr: 3.1381e-04\n",
            "Epoch 61/200\n",
            "603/603 [==============================] - ETA: 0s - loss: 0.0045 - mae: 0.0479\n",
            "Epoch 61: ReduceLROnPlateau reducing learning rate to 8.472883491776884e-05.\n",
            "603/603 [==============================] - 13s 21ms/step - loss: 0.0045 - mae: 0.0479 - val_loss: 0.0061 - val_mae: 0.0495 - lr: 2.8243e-04\n",
            "Epoch 62/200\n",
            "603/603 [==============================] - 13s 21ms/step - loss: 0.0045 - mae: 0.0477 - val_loss: 0.0061 - val_mae: 0.0494 - lr: 2.8243e-04\n",
            "Epoch 63/200\n",
            "603/603 [==============================] - 13s 21ms/step - loss: 0.0044 - mae: 0.0475 - val_loss: 0.0061 - val_mae: 0.0499 - lr: 2.8243e-04\n",
            "Epoch 64/200\n",
            "603/603 [==============================] - 13s 21ms/step - loss: 0.0044 - mae: 0.0476 - val_loss: 0.0060 - val_mae: 0.0487 - lr: 2.8243e-04\n",
            "Epoch 65/200\n",
            "603/603 [==============================] - 13s 22ms/step - loss: 0.0044 - mae: 0.0474 - val_loss: 0.0061 - val_mae: 0.0492 - lr: 2.8243e-04\n",
            "Epoch 66/200\n",
            "603/603 [==============================] - 13s 21ms/step - loss: 0.0044 - mae: 0.0472 - val_loss: 0.0060 - val_mae: 0.0485 - lr: 2.5419e-04\n",
            "Epoch 67/200\n",
            "603/603 [==============================] - 13s 21ms/step - loss: 0.0043 - mae: 0.0471 - val_loss: 0.0060 - val_mae: 0.0485 - lr: 2.5419e-04\n",
            "Epoch 68/200\n",
            "603/603 [==============================] - 13s 21ms/step - loss: 0.0043 - mae: 0.0469 - val_loss: 0.0060 - val_mae: 0.0493 - lr: 2.5419e-04\n",
            "Epoch 69/200\n",
            "602/603 [============================>.] - ETA: 0s - loss: 0.0043 - mae: 0.0469\n",
            "Epoch 69: ReduceLROnPlateau reducing learning rate to 7.625594444107264e-05.\n",
            "603/603 [==============================] - 13s 21ms/step - loss: 0.0043 - mae: 0.0469 - val_loss: 0.0060 - val_mae: 0.0488 - lr: 2.5419e-04\n",
            "Epoch 70/200\n",
            "603/603 [==============================] - 13s 22ms/step - loss: 0.0043 - mae: 0.0468 - val_loss: 0.0060 - val_mae: 0.0489 - lr: 2.5419e-04\n",
            "Epoch 71/200\n",
            "603/603 [==============================] - 13s 21ms/step - loss: 0.0042 - mae: 0.0465 - val_loss: 0.0060 - val_mae: 0.0486 - lr: 2.2877e-04\n",
            "Epoch 72/200\n",
            "603/603 [==============================] - 13s 21ms/step - loss: 0.0042 - mae: 0.0464 - val_loss: 0.0059 - val_mae: 0.0480 - lr: 2.2877e-04\n",
            "Epoch 73/200\n",
            "603/603 [==============================] - 13s 21ms/step - loss: 0.0042 - mae: 0.0464 - val_loss: 0.0060 - val_mae: 0.0487 - lr: 2.2877e-04\n",
            "Epoch 74/200\n",
            "602/603 [============================>.] - ETA: 0s - loss: 0.0042 - mae: 0.0462\n",
            "Epoch 74: ReduceLROnPlateau reducing learning rate to 6.863035087008029e-05.\n",
            "603/603 [==============================] - 13s 21ms/step - loss: 0.0042 - mae: 0.0462 - val_loss: 0.0060 - val_mae: 0.0486 - lr: 2.2877e-04\n",
            "Epoch 75/200\n",
            "603/603 [==============================] - 12s 21ms/step - loss: 0.0042 - mae: 0.0462 - val_loss: 0.0060 - val_mae: 0.0485 - lr: 2.2877e-04\n",
            "Epoch 76/200\n",
            "603/603 [==============================] - 12s 21ms/step - loss: 0.0041 - mae: 0.0460 - val_loss: 0.0060 - val_mae: 0.0487 - lr: 2.0589e-04\n",
            "Epoch 77/200\n",
            "603/603 [==============================] - 13s 21ms/step - loss: 0.0041 - mae: 0.0458 - val_loss: 0.0059 - val_mae: 0.0481 - lr: 2.0589e-04\n",
            "Epoch 78/200\n",
            "603/603 [==============================] - 13s 21ms/step - loss: 0.0041 - mae: 0.0458 - val_loss: 0.0059 - val_mae: 0.0484 - lr: 2.0589e-04\n",
            "Epoch 79/200\n",
            "603/603 [==============================] - ETA: 0s - loss: 0.0041 - mae: 0.0457\n",
            "Epoch 79: ReduceLROnPlateau reducing learning rate to 6.1767318402417e-05.\n",
            "Restoring model weights from the end of the best epoch: 64.\n",
            "603/603 [==============================] - 13s 21ms/step - loss: 0.0041 - mae: 0.0457 - val_loss: 0.0059 - val_mae: 0.0482 - lr: 2.0589e-04\n",
            "Epoch 79: early stopping\n"
          ]
        },
        {
          "output_type": "display_data",
          "data": {
            "text/plain": [
              "VBox(children=(Label(value='0.001 MB of 0.001 MB uploaded\\r'), FloatProgress(value=1.0, max=1.0)))"
            ],
            "application/vnd.jupyter.widget-view+json": {
              "version_major": 2,
              "version_minor": 0,
              "model_id": "03a1456591914c7ca53c510641210c20"
            }
          },
          "metadata": {}
        },
        {
          "output_type": "display_data",
          "data": {
            "text/plain": [
              "<IPython.core.display.HTML object>"
            ],
            "text/html": [
              "<style>\n",
              "    table.wandb td:nth-child(1) { padding: 0 10px; text-align: left ; width: auto;} td:nth-child(2) {text-align: left ; width: 100%}\n",
              "    .wandb-row { display: flex; flex-direction: row; flex-wrap: wrap; justify-content: flex-start; width: 100% }\n",
              "    .wandb-col { display: flex; flex-direction: column; flex-basis: 100%; flex: 1; padding: 10px; }\n",
              "    </style>\n",
              "<div class=\"wandb-row\"><div class=\"wandb-col\"><h3>Run history:</h3><br/><table class=\"wandb\"><tr><td>epoch/epoch</td><td>▁▁▁▂▂▂▂▂▂▃▃▃▃▃▄▄▄▄▄▄▅▅▅▅▅▅▆▆▆▆▆▇▇▇▇▇▇███</td></tr><tr><td>epoch/learning_rate</td><td>███▇▇▇▇▇▆▆▅▅▅▅▅▅▅▅▄▄▄▄▄▃▃▃▃▃▃▃▁▃▃▂▁▂▂▂▂▁</td></tr><tr><td>epoch/loss</td><td>█▃▃▃▂▂▂▂▂▂▂▂▂▂▂▂▂▁▁▁▁▁▁▁▁▁▁▁▁▁▁▁▁▁▁▁▁▁▁▁</td></tr><tr><td>epoch/lr</td><td>███▇▇▆▆▆▆▆▅▅▅▄▄▄▄▄▃▃▃▃▃▃▃▂▂▂▂▂▂▂▂▁▁▁▁▁▁▁</td></tr><tr><td>epoch/mae</td><td>█▄▄▃▃▃▃▃▃▂▂▂▂▂▂▂▂▂▂▂▂▂▂▁▁▁▁▁▁▁▁▁▁▁▁▁▁▁▁▁</td></tr><tr><td>epoch/val_loss</td><td>█▇▆▅▅▅▄▄▄▄▃▃▂▃▂▂▂▂▂▂▂▂▂▂▂▁▁▁▁▁▁▁▁▁▁▁▁▁▁▁</td></tr><tr><td>epoch/val_mae</td><td>█▆▆▅▅▅▅▄▄▄▄▃▃▄▃▂▂▂▂▂▂▂▂▂▂▁▁▁▂▂▁▂▁▁▁▁▁▁▁▁</td></tr></table><br/></div><div class=\"wandb-col\"><h3>Run summary:</h3><br/><table class=\"wandb\"><tr><td>epoch/epoch</td><td>78</td></tr><tr><td>epoch/learning_rate</td><td>6e-05</td></tr><tr><td>epoch/loss</td><td>0.00406</td></tr><tr><td>epoch/lr</td><td>0.00021</td></tr><tr><td>epoch/mae</td><td>0.04573</td></tr><tr><td>epoch/val_loss</td><td>0.00593</td></tr><tr><td>epoch/val_mae</td><td>0.04824</td></tr></table><br/></div></div>"
            ]
          },
          "metadata": {}
        },
        {
          "output_type": "display_data",
          "data": {
            "text/plain": [
              "<IPython.core.display.HTML object>"
            ],
            "text/html": [
              " View run <strong style=\"color:#cdcd00\">autumn-sweep-15</strong> at: <a href='https://wandb.ai/alberto-pirillo/anndl-forecasting/runs/mgmde8dr' target=\"_blank\">https://wandb.ai/alberto-pirillo/anndl-forecasting/runs/mgmde8dr</a><br/>Synced 5 W&B file(s), 0 media file(s), 0 artifact file(s) and 0 other file(s)"
            ]
          },
          "metadata": {}
        },
        {
          "output_type": "display_data",
          "data": {
            "text/plain": [
              "<IPython.core.display.HTML object>"
            ],
            "text/html": [
              "Find logs at: <code>./wandb/run-20231218_140333-mgmde8dr/logs</code>"
            ]
          },
          "metadata": {}
        },
        {
          "output_type": "stream",
          "name": "stderr",
          "text": [
            "\u001b[34m\u001b[1mwandb\u001b[0m: Agent Starting Run: t9qn7kqb with config:\n",
            "\u001b[34m\u001b[1mwandb\u001b[0m: \tconv_dropout: 0.05\n",
            "\u001b[34m\u001b[1mwandb\u001b[0m: \tdense_dropout: 0.25\n",
            "\u001b[34m\u001b[1mwandb\u001b[0m: \tkernel_size: 9\n",
            "\u001b[34m\u001b[1mwandb\u001b[0m: \tnum_filters: 8\n"
          ]
        },
        {
          "output_type": "display_data",
          "data": {
            "text/plain": [
              "<IPython.core.display.HTML object>"
            ],
            "text/html": [
              "Tracking run with wandb version 0.16.1"
            ]
          },
          "metadata": {}
        },
        {
          "output_type": "display_data",
          "data": {
            "text/plain": [
              "<IPython.core.display.HTML object>"
            ],
            "text/html": [
              "Run data is saved locally in <code>/content/drive/My Drive/ann challenge/wandb/run-20231218_142042-t9qn7kqb</code>"
            ]
          },
          "metadata": {}
        },
        {
          "output_type": "display_data",
          "data": {
            "text/plain": [
              "<IPython.core.display.HTML object>"
            ],
            "text/html": [
              "Syncing run <strong><a href='https://wandb.ai/alberto-pirillo/anndl-forecasting/runs/t9qn7kqb' target=\"_blank\">vivid-sweep-16</a></strong> to <a href='https://wandb.ai/alberto-pirillo/anndl-forecasting' target=\"_blank\">Weights & Biases</a> (<a href='https://wandb.me/run' target=\"_blank\">docs</a>)<br/>Sweep page: <a href='https://wandb.ai/alberto-pirillo/anndl-forecasting/sweeps/mbbt7ltu' target=\"_blank\">https://wandb.ai/alberto-pirillo/anndl-forecasting/sweeps/mbbt7ltu</a>"
            ]
          },
          "metadata": {}
        },
        {
          "output_type": "display_data",
          "data": {
            "text/plain": [
              "<IPython.core.display.HTML object>"
            ],
            "text/html": [
              " View project at <a href='https://wandb.ai/alberto-pirillo/anndl-forecasting' target=\"_blank\">https://wandb.ai/alberto-pirillo/anndl-forecasting</a>"
            ]
          },
          "metadata": {}
        },
        {
          "output_type": "display_data",
          "data": {
            "text/plain": [
              "<IPython.core.display.HTML object>"
            ],
            "text/html": [
              " View sweep at <a href='https://wandb.ai/alberto-pirillo/anndl-forecasting/sweeps/mbbt7ltu' target=\"_blank\">https://wandb.ai/alberto-pirillo/anndl-forecasting/sweeps/mbbt7ltu</a>"
            ]
          },
          "metadata": {}
        },
        {
          "output_type": "display_data",
          "data": {
            "text/plain": [
              "<IPython.core.display.HTML object>"
            ],
            "text/html": [
              " View run at <a href='https://wandb.ai/alberto-pirillo/anndl-forecasting/runs/t9qn7kqb' target=\"_blank\">https://wandb.ai/alberto-pirillo/anndl-forecasting/runs/t9qn7kqb</a>"
            ]
          },
          "metadata": {}
        },
        {
          "output_type": "stream",
          "name": "stdout",
          "text": [
            "Epoch 1/200\n",
            "603/603 [==============================] - 15s 15ms/step - loss: 0.0709 - mae: 0.1406 - val_loss: 0.0123 - val_mae: 0.0782 - lr: 0.0010\n",
            "Epoch 2/200\n",
            "603/603 [==============================] - 7s 11ms/step - loss: 0.0160 - mae: 0.0912 - val_loss: 0.0104 - val_mae: 0.0691 - lr: 0.0010\n",
            "Epoch 3/200\n",
            "603/603 [==============================] - 8s 12ms/step - loss: 0.0134 - mae: 0.0819 - val_loss: 0.0098 - val_mae: 0.0661 - lr: 0.0010\n",
            "Epoch 4/200\n",
            "603/603 [==============================] - 7s 11ms/step - loss: 0.0122 - mae: 0.0771 - val_loss: 0.0096 - val_mae: 0.0640 - lr: 0.0010\n",
            "Epoch 5/200\n",
            "603/603 [==============================] - 8s 13ms/step - loss: 0.0116 - mae: 0.0745 - val_loss: 0.0098 - val_mae: 0.0670 - lr: 0.0010\n",
            "Epoch 6/200\n",
            "603/603 [==============================] - 7s 11ms/step - loss: 0.0111 - mae: 0.0723 - val_loss: 0.0095 - val_mae: 0.0647 - lr: 9.0000e-04\n",
            "Epoch 7/200\n",
            "603/603 [==============================] - 8s 13ms/step - loss: 0.0108 - mae: 0.0711 - val_loss: 0.0093 - val_mae: 0.0629 - lr: 9.0000e-04\n",
            "Epoch 8/200\n",
            "603/603 [==============================] - 7s 11ms/step - loss: 0.0105 - mae: 0.0699 - val_loss: 0.0093 - val_mae: 0.0631 - lr: 9.0000e-04\n",
            "Epoch 9/200\n",
            "603/603 [==============================] - 8s 13ms/step - loss: 0.0103 - mae: 0.0690 - val_loss: 0.0094 - val_mae: 0.0641 - lr: 9.0000e-04\n",
            "Epoch 10/200\n",
            "603/603 [==============================] - 7s 11ms/step - loss: 0.0102 - mae: 0.0683 - val_loss: 0.0091 - val_mae: 0.0625 - lr: 9.0000e-04\n",
            "Epoch 11/200\n",
            "603/603 [==============================] - 8s 13ms/step - loss: 0.0100 - mae: 0.0674 - val_loss: 0.0090 - val_mae: 0.0624 - lr: 8.1000e-04\n",
            "Epoch 12/200\n",
            "603/603 [==============================] - 7s 11ms/step - loss: 0.0099 - mae: 0.0671 - val_loss: 0.0091 - val_mae: 0.0632 - lr: 8.1000e-04\n",
            "Epoch 13/200\n",
            "603/603 [==============================] - 8s 13ms/step - loss: 0.0098 - mae: 0.0666 - val_loss: 0.0091 - val_mae: 0.0631 - lr: 8.1000e-04\n",
            "Epoch 14/200\n",
            "603/603 [==============================] - 7s 11ms/step - loss: 0.0097 - mae: 0.0662 - val_loss: 0.0091 - val_mae: 0.0648 - lr: 8.1000e-04\n",
            "Epoch 15/200\n",
            "603/603 [==============================] - 8s 13ms/step - loss: 0.0096 - mae: 0.0656 - val_loss: 0.0087 - val_mae: 0.0604 - lr: 8.1000e-04\n",
            "Epoch 16/200\n",
            "603/603 [==============================] - 7s 11ms/step - loss: 0.0094 - mae: 0.0649 - val_loss: 0.0087 - val_mae: 0.0605 - lr: 7.2900e-04\n",
            "Epoch 17/200\n",
            "603/603 [==============================] - 9s 15ms/step - loss: 0.0093 - mae: 0.0644 - val_loss: 0.0086 - val_mae: 0.0596 - lr: 7.2900e-04\n",
            "Epoch 18/200\n",
            "603/603 [==============================] - 7s 11ms/step - loss: 0.0092 - mae: 0.0641 - val_loss: 0.0085 - val_mae: 0.0597 - lr: 7.2900e-04\n",
            "Epoch 19/200\n",
            "603/603 [==============================] - 7s 12ms/step - loss: 0.0091 - mae: 0.0636 - val_loss: 0.0084 - val_mae: 0.0591 - lr: 7.2900e-04\n",
            "Epoch 20/200\n",
            "603/603 [==============================] - 7s 11ms/step - loss: 0.0090 - mae: 0.0632 - val_loss: 0.0084 - val_mae: 0.0595 - lr: 7.2900e-04\n",
            "Epoch 21/200\n",
            "603/603 [==============================] - 7s 12ms/step - loss: 0.0088 - mae: 0.0626 - val_loss: 0.0083 - val_mae: 0.0581 - lr: 6.5610e-04\n",
            "Epoch 22/200\n",
            "603/603 [==============================] - 7s 12ms/step - loss: 0.0088 - mae: 0.0623 - val_loss: 0.0082 - val_mae: 0.0576 - lr: 6.5610e-04\n",
            "Epoch 23/200\n",
            "603/603 [==============================] - 7s 12ms/step - loss: 0.0086 - mae: 0.0619 - val_loss: 0.0081 - val_mae: 0.0579 - lr: 6.5610e-04\n",
            "Epoch 24/200\n",
            "603/603 [==============================] - 7s 12ms/step - loss: 0.0086 - mae: 0.0616 - val_loss: 0.0081 - val_mae: 0.0581 - lr: 6.5610e-04\n",
            "Epoch 25/200\n",
            "603/603 [==============================] - 7s 12ms/step - loss: 0.0085 - mae: 0.0614 - val_loss: 0.0080 - val_mae: 0.0574 - lr: 6.5610e-04\n",
            "Epoch 26/200\n",
            "603/603 [==============================] - 7s 12ms/step - loss: 0.0083 - mae: 0.0609 - val_loss: 0.0080 - val_mae: 0.0579 - lr: 5.9049e-04\n",
            "Epoch 27/200\n",
            "603/603 [==============================] - 7s 11ms/step - loss: 0.0083 - mae: 0.0606 - val_loss: 0.0080 - val_mae: 0.0584 - lr: 5.9049e-04\n",
            "Epoch 28/200\n",
            "603/603 [==============================] - 7s 12ms/step - loss: 0.0082 - mae: 0.0604 - val_loss: 0.0081 - val_mae: 0.0595 - lr: 5.9049e-04\n",
            "Epoch 29/200\n",
            "603/603 [==============================] - 7s 11ms/step - loss: 0.0081 - mae: 0.0602 - val_loss: 0.0080 - val_mae: 0.0584 - lr: 5.9049e-04\n",
            "Epoch 30/200\n",
            "603/603 [==============================] - 8s 13ms/step - loss: 0.0080 - mae: 0.0598 - val_loss: 0.0078 - val_mae: 0.0575 - lr: 5.9049e-04\n",
            "Epoch 31/200\n",
            "603/603 [==============================] - 7s 11ms/step - loss: 0.0079 - mae: 0.0594 - val_loss: 0.0077 - val_mae: 0.0563 - lr: 5.3144e-04\n",
            "Epoch 32/200\n",
            "603/603 [==============================] - 8s 13ms/step - loss: 0.0078 - mae: 0.0591 - val_loss: 0.0077 - val_mae: 0.0569 - lr: 5.3144e-04\n",
            "Epoch 33/200\n",
            "603/603 [==============================] - 7s 11ms/step - loss: 0.0077 - mae: 0.0589 - val_loss: 0.0076 - val_mae: 0.0561 - lr: 5.3144e-04\n",
            "Epoch 34/200\n",
            "603/603 [==============================] - 8s 13ms/step - loss: 0.0076 - mae: 0.0587 - val_loss: 0.0076 - val_mae: 0.0564 - lr: 5.3144e-04\n",
            "Epoch 35/200\n",
            "603/603 [==============================] - 7s 11ms/step - loss: 0.0075 - mae: 0.0584 - val_loss: 0.0075 - val_mae: 0.0552 - lr: 5.3144e-04\n",
            "Epoch 36/200\n",
            "603/603 [==============================] - 8s 13ms/step - loss: 0.0074 - mae: 0.0580 - val_loss: 0.0075 - val_mae: 0.0559 - lr: 4.7830e-04\n",
            "Epoch 37/200\n",
            "603/603 [==============================] - 7s 11ms/step - loss: 0.0074 - mae: 0.0578 - val_loss: 0.0075 - val_mae: 0.0561 - lr: 4.7830e-04\n",
            "Epoch 38/200\n",
            "603/603 [==============================] - 8s 13ms/step - loss: 0.0073 - mae: 0.0576 - val_loss: 0.0074 - val_mae: 0.0548 - lr: 4.7830e-04\n",
            "Epoch 39/200\n",
            "603/603 [==============================] - 7s 11ms/step - loss: 0.0072 - mae: 0.0573 - val_loss: 0.0074 - val_mae: 0.0551 - lr: 4.7830e-04\n",
            "Epoch 40/200\n",
            "603/603 [==============================] - 8s 13ms/step - loss: 0.0071 - mae: 0.0570 - val_loss: 0.0073 - val_mae: 0.0545 - lr: 4.7830e-04\n",
            "Epoch 41/200\n",
            "603/603 [==============================] - 7s 11ms/step - loss: 0.0071 - mae: 0.0567 - val_loss: 0.0072 - val_mae: 0.0544 - lr: 4.3047e-04\n",
            "Epoch 42/200\n",
            "603/603 [==============================] - 8s 13ms/step - loss: 0.0070 - mae: 0.0565 - val_loss: 0.0074 - val_mae: 0.0557 - lr: 4.3047e-04\n",
            "Epoch 43/200\n",
            "603/603 [==============================] - 7s 11ms/step - loss: 0.0069 - mae: 0.0563 - val_loss: 0.0073 - val_mae: 0.0555 - lr: 4.3047e-04\n",
            "Epoch 44/200\n",
            "603/603 [==============================] - 8s 13ms/step - loss: 0.0069 - mae: 0.0562 - val_loss: 0.0072 - val_mae: 0.0543 - lr: 4.3047e-04\n",
            "Epoch 45/200\n",
            "603/603 [==============================] - 7s 11ms/step - loss: 0.0068 - mae: 0.0559 - val_loss: 0.0072 - val_mae: 0.0541 - lr: 4.3047e-04\n",
            "Epoch 46/200\n",
            "601/603 [============================>.] - ETA: 0s - loss: 0.0067 - mae: 0.0555\n",
            "Epoch 46: ReduceLROnPlateau reducing learning rate to 0.00011622612364590167.\n",
            "603/603 [==============================] - 7s 12ms/step - loss: 0.0067 - mae: 0.0555 - val_loss: 0.0071 - val_mae: 0.0536 - lr: 3.8742e-04\n",
            "Epoch 47/200\n",
            "603/603 [==============================] - 7s 11ms/step - loss: 0.0067 - mae: 0.0553 - val_loss: 0.0071 - val_mae: 0.0536 - lr: 3.8742e-04\n",
            "Epoch 48/200\n",
            "603/603 [==============================] - 7s 12ms/step - loss: 0.0066 - mae: 0.0552 - val_loss: 0.0073 - val_mae: 0.0556 - lr: 3.8742e-04\n",
            "Epoch 49/200\n",
            "603/603 [==============================] - 7s 12ms/step - loss: 0.0066 - mae: 0.0551 - val_loss: 0.0070 - val_mae: 0.0533 - lr: 3.8742e-04\n",
            "Epoch 50/200\n",
            "603/603 [==============================] - 7s 12ms/step - loss: 0.0065 - mae: 0.0549 - val_loss: 0.0070 - val_mae: 0.0534 - lr: 3.8742e-04\n",
            "Epoch 51/200\n",
            "603/603 [==============================] - 7s 12ms/step - loss: 0.0065 - mae: 0.0545 - val_loss: 0.0072 - val_mae: 0.0551 - lr: 3.4868e-04\n",
            "Epoch 52/200\n",
            "602/603 [============================>.] - ETA: 0s - loss: 0.0064 - mae: 0.0545\n",
            "Epoch 52: ReduceLROnPlateau reducing learning rate to 0.00010460350604262203.\n",
            "603/603 [==============================] - 7s 12ms/step - loss: 0.0064 - mae: 0.0544 - val_loss: 0.0070 - val_mae: 0.0535 - lr: 3.4868e-04\n",
            "Epoch 53/200\n",
            "603/603 [==============================] - 8s 12ms/step - loss: 0.0064 - mae: 0.0544 - val_loss: 0.0070 - val_mae: 0.0536 - lr: 3.4868e-04\n",
            "Epoch 54/200\n",
            "603/603 [==============================] - 7s 12ms/step - loss: 0.0063 - mae: 0.0542 - val_loss: 0.0070 - val_mae: 0.0534 - lr: 3.4868e-04\n",
            "Epoch 55/200\n",
            "603/603 [==============================] - 7s 12ms/step - loss: 0.0063 - mae: 0.0541 - val_loss: 0.0070 - val_mae: 0.0536 - lr: 3.4868e-04\n",
            "Epoch 56/200\n",
            "603/603 [==============================] - 7s 11ms/step - loss: 0.0062 - mae: 0.0538 - val_loss: 0.0069 - val_mae: 0.0525 - lr: 3.1381e-04\n",
            "Epoch 57/200\n",
            "603/603 [==============================] - 7s 12ms/step - loss: 0.0062 - mae: 0.0537 - val_loss: 0.0069 - val_mae: 0.0531 - lr: 3.1381e-04\n",
            "Epoch 58/200\n",
            "603/603 [==============================] - 7s 11ms/step - loss: 0.0062 - mae: 0.0535 - val_loss: 0.0069 - val_mae: 0.0528 - lr: 3.1381e-04\n",
            "Epoch 59/200\n",
            "603/603 [==============================] - 8s 13ms/step - loss: 0.0061 - mae: 0.0534 - val_loss: 0.0070 - val_mae: 0.0534 - lr: 3.1381e-04\n",
            "Epoch 60/200\n",
            "603/603 [==============================] - 7s 11ms/step - loss: 0.0061 - mae: 0.0533 - val_loss: 0.0069 - val_mae: 0.0535 - lr: 3.1381e-04\n",
            "Epoch 61/200\n",
            "603/603 [==============================] - ETA: 0s - loss: 0.0060 - mae: 0.0531\n",
            "Epoch 61: ReduceLROnPlateau reducing learning rate to 8.472883491776884e-05.\n",
            "603/603 [==============================] - 8s 13ms/step - loss: 0.0060 - mae: 0.0531 - val_loss: 0.0069 - val_mae: 0.0527 - lr: 2.8243e-04\n",
            "Epoch 62/200\n",
            "603/603 [==============================] - 7s 11ms/step - loss: 0.0060 - mae: 0.0529 - val_loss: 0.0069 - val_mae: 0.0530 - lr: 2.8243e-04\n",
            "Epoch 63/200\n",
            "603/603 [==============================] - 8s 13ms/step - loss: 0.0060 - mae: 0.0528 - val_loss: 0.0069 - val_mae: 0.0524 - lr: 2.8243e-04\n",
            "Epoch 64/200\n",
            "603/603 [==============================] - 7s 11ms/step - loss: 0.0060 - mae: 0.0529 - val_loss: 0.0068 - val_mae: 0.0521 - lr: 2.8243e-04\n",
            "Epoch 65/200\n",
            "603/603 [==============================] - 8s 13ms/step - loss: 0.0059 - mae: 0.0526 - val_loss: 0.0068 - val_mae: 0.0522 - lr: 2.8243e-04\n",
            "Epoch 66/200\n",
            "603/603 [==============================] - 7s 11ms/step - loss: 0.0059 - mae: 0.0524 - val_loss: 0.0068 - val_mae: 0.0522 - lr: 2.5419e-04\n",
            "Epoch 67/200\n",
            "603/603 [==============================] - 8s 13ms/step - loss: 0.0058 - mae: 0.0524 - val_loss: 0.0068 - val_mae: 0.0525 - lr: 2.5419e-04\n",
            "Epoch 68/200\n",
            "603/603 [==============================] - 7s 11ms/step - loss: 0.0058 - mae: 0.0523 - val_loss: 0.0068 - val_mae: 0.0522 - lr: 2.5419e-04\n",
            "Epoch 69/200\n",
            "599/603 [============================>.] - ETA: 0s - loss: 0.0058 - mae: 0.0522\n",
            "Epoch 69: ReduceLROnPlateau reducing learning rate to 7.625594444107264e-05.\n",
            "603/603 [==============================] - 8s 13ms/step - loss: 0.0058 - mae: 0.0522 - val_loss: 0.0068 - val_mae: 0.0521 - lr: 2.5419e-04\n",
            "Epoch 70/200\n",
            "603/603 [==============================] - 7s 11ms/step - loss: 0.0058 - mae: 0.0521 - val_loss: 0.0068 - val_mae: 0.0521 - lr: 2.5419e-04\n",
            "Epoch 71/200\n",
            "603/603 [==============================] - 8s 13ms/step - loss: 0.0057 - mae: 0.0519 - val_loss: 0.0068 - val_mae: 0.0521 - lr: 2.2877e-04\n",
            "Epoch 72/200\n",
            "603/603 [==============================] - 7s 11ms/step - loss: 0.0057 - mae: 0.0517 - val_loss: 0.0068 - val_mae: 0.0521 - lr: 2.2877e-04\n",
            "Epoch 73/200\n",
            "603/603 [==============================] - 7s 12ms/step - loss: 0.0057 - mae: 0.0517 - val_loss: 0.0068 - val_mae: 0.0526 - lr: 2.2877e-04\n",
            "Epoch 74/200\n",
            "599/603 [============================>.] - ETA: 0s - loss: 0.0057 - mae: 0.0516\n",
            "Epoch 74: ReduceLROnPlateau reducing learning rate to 6.863035087008029e-05.\n",
            "603/603 [==============================] - 7s 11ms/step - loss: 0.0057 - mae: 0.0517 - val_loss: 0.0067 - val_mae: 0.0518 - lr: 2.2877e-04\n",
            "Epoch 75/200\n",
            "603/603 [==============================] - 7s 12ms/step - loss: 0.0057 - mae: 0.0516 - val_loss: 0.0067 - val_mae: 0.0518 - lr: 2.2877e-04\n",
            "Epoch 76/200\n",
            "603/603 [==============================] - 7s 11ms/step - loss: 0.0056 - mae: 0.0513 - val_loss: 0.0067 - val_mae: 0.0520 - lr: 2.0589e-04\n",
            "Epoch 77/200\n",
            "603/603 [==============================] - 7s 12ms/step - loss: 0.0056 - mae: 0.0513 - val_loss: 0.0068 - val_mae: 0.0532 - lr: 2.0589e-04\n",
            "Epoch 78/200\n",
            "603/603 [==============================] - 7s 12ms/step - loss: 0.0056 - mae: 0.0513 - val_loss: 0.0067 - val_mae: 0.0516 - lr: 2.0589e-04\n",
            "Epoch 79/200\n",
            "603/603 [==============================] - 7s 11ms/step - loss: 0.0056 - mae: 0.0512 - val_loss: 0.0067 - val_mae: 0.0516 - lr: 2.0589e-04\n",
            "Epoch 80/200\n",
            "603/603 [==============================] - 7s 12ms/step - loss: 0.0056 - mae: 0.0512 - val_loss: 0.0067 - val_mae: 0.0521 - lr: 2.0589e-04\n",
            "Epoch 81/200\n",
            "603/603 [==============================] - 7s 11ms/step - loss: 0.0055 - mae: 0.0510 - val_loss: 0.0067 - val_mae: 0.0516 - lr: 1.8530e-04\n",
            "Epoch 82/200\n",
            "603/603 [==============================] - 8s 12ms/step - loss: 0.0055 - mae: 0.0510 - val_loss: 0.0067 - val_mae: 0.0515 - lr: 1.8530e-04\n",
            "Epoch 83/200\n",
            "600/603 [============================>.] - ETA: 0s - loss: 0.0055 - mae: 0.0509\n",
            "Epoch 83: ReduceLROnPlateau reducing learning rate to 5.55905804503709e-05.\n",
            "603/603 [==============================] - 7s 11ms/step - loss: 0.0055 - mae: 0.0509 - val_loss: 0.0067 - val_mae: 0.0517 - lr: 1.8530e-04\n",
            "Epoch 84/200\n",
            "603/603 [==============================] - 8s 13ms/step - loss: 0.0055 - mae: 0.0509 - val_loss: 0.0067 - val_mae: 0.0515 - lr: 1.8530e-04\n",
            "Epoch 85/200\n",
            "603/603 [==============================] - 7s 11ms/step - loss: 0.0055 - mae: 0.0508 - val_loss: 0.0067 - val_mae: 0.0513 - lr: 1.8530e-04\n",
            "Epoch 86/200\n",
            "603/603 [==============================] - 8s 13ms/step - loss: 0.0054 - mae: 0.0506 - val_loss: 0.0067 - val_mae: 0.0513 - lr: 1.6677e-04\n",
            "Epoch 87/200\n",
            "603/603 [==============================] - 7s 11ms/step - loss: 0.0054 - mae: 0.0506 - val_loss: 0.0066 - val_mae: 0.0512 - lr: 1.6677e-04\n",
            "Epoch 88/200\n",
            "600/603 [============================>.] - ETA: 0s - loss: 0.0054 - mae: 0.0506\n",
            "Epoch 88: ReduceLROnPlateau reducing learning rate to 5.003151891287416e-05.\n",
            "603/603 [==============================] - 8s 13ms/step - loss: 0.0054 - mae: 0.0506 - val_loss: 0.0067 - val_mae: 0.0514 - lr: 1.6677e-04\n",
            "Epoch 89/200\n",
            "603/603 [==============================] - 7s 11ms/step - loss: 0.0054 - mae: 0.0506 - val_loss: 0.0066 - val_mae: 0.0512 - lr: 1.6677e-04\n",
            "Epoch 90/200\n",
            "603/603 [==============================] - 8s 13ms/step - loss: 0.0054 - mae: 0.0504 - val_loss: 0.0067 - val_mae: 0.0513 - lr: 1.6677e-04\n",
            "Epoch 91/200\n",
            "603/603 [==============================] - 7s 11ms/step - loss: 0.0053 - mae: 0.0502 - val_loss: 0.0066 - val_mae: 0.0512 - lr: 1.5009e-04\n",
            "Epoch 92/200\n",
            "603/603 [==============================] - 8s 13ms/step - loss: 0.0053 - mae: 0.0503 - val_loss: 0.0067 - val_mae: 0.0514 - lr: 1.5009e-04\n",
            "Epoch 93/200\n",
            "600/603 [============================>.] - ETA: 0s - loss: 0.0053 - mae: 0.0502\n",
            "Epoch 93: ReduceLROnPlateau reducing learning rate to 4.502837400650605e-05.\n",
            "Restoring model weights from the end of the best epoch: 78.\n",
            "603/603 [==============================] - 7s 11ms/step - loss: 0.0053 - mae: 0.0502 - val_loss: 0.0066 - val_mae: 0.0511 - lr: 1.5009e-04\n",
            "Epoch 93: early stopping\n"
          ]
        },
        {
          "output_type": "display_data",
          "data": {
            "text/plain": [
              "VBox(children=(Label(value='0.001 MB of 0.001 MB uploaded\\r'), FloatProgress(value=1.0, max=1.0)))"
            ],
            "application/vnd.jupyter.widget-view+json": {
              "version_major": 2,
              "version_minor": 0,
              "model_id": "5eef78a9b20a4080a179b7b015f769d2"
            }
          },
          "metadata": {}
        },
        {
          "output_type": "display_data",
          "data": {
            "text/plain": [
              "<IPython.core.display.HTML object>"
            ],
            "text/html": [
              "<style>\n",
              "    table.wandb td:nth-child(1) { padding: 0 10px; text-align: left ; width: auto;} td:nth-child(2) {text-align: left ; width: 100%}\n",
              "    .wandb-row { display: flex; flex-direction: row; flex-wrap: wrap; justify-content: flex-start; width: 100% }\n",
              "    .wandb-col { display: flex; flex-direction: column; flex-basis: 100%; flex: 1; padding: 10px; }\n",
              "    </style>\n",
              "<div class=\"wandb-row\"><div class=\"wandb-col\"><h3>Run history:</h3><br/><table class=\"wandb\"><tr><td>epoch/epoch</td><td>▁▁▁▂▂▂▂▂▂▃▃▃▃▃▄▄▄▄▄▄▅▅▅▅▅▅▆▆▆▆▆▇▇▇▇▇▇███</td></tr><tr><td>epoch/learning_rate</td><td>███▇▇▇▇▆▆▅▅▅▅▅▅▄▄▄▄▄▄▄▁▃▃▃▃▃▃▁▂▁▂▂▂▁▂▁▂▁</td></tr><tr><td>epoch/loss</td><td>█▂▂▂▂▁▁▁▁▁▁▁▁▁▁▁▁▁▁▁▁▁▁▁▁▁▁▁▁▁▁▁▁▁▁▁▁▁▁▁</td></tr><tr><td>epoch/lr</td><td>███▇▇▆▆▆▆▅▅▅▅▄▄▄▄▃▃▃▃▃▃▃▂▂▂▂▂▂▂▂▁▁▁▁▁▁▁▁</td></tr><tr><td>epoch/mae</td><td>█▃▃▃▂▂▂▂▂▂▂▂▂▂▂▂▂▂▁▁▁▁▁▁▁▁▁▁▁▁▁▁▁▁▁▁▁▁▁▁</td></tr><tr><td>epoch/val_loss</td><td>█▅▅▄▄▄▄▃▃▃▃▃▃▂▂▂▂▂▂▂▂▂▂▁▁▁▁▁▁▁▁▁▁▁▁▁▁▁▁▁</td></tr><tr><td>epoch/val_mae</td><td>█▅▅▄▄▄▃▃▃▃▃▃▃▂▂▂▂▂▂▂▂▂▂▂▂▂▁▁▁▁▁▁▁▁▁▁▁▁▁▁</td></tr></table><br/></div><div class=\"wandb-col\"><h3>Run summary:</h3><br/><table class=\"wandb\"><tr><td>epoch/epoch</td><td>92</td></tr><tr><td>epoch/learning_rate</td><td>5e-05</td></tr><tr><td>epoch/loss</td><td>0.00534</td></tr><tr><td>epoch/lr</td><td>0.00015</td></tr><tr><td>epoch/mae</td><td>0.05022</td></tr><tr><td>epoch/val_loss</td><td>0.00661</td></tr><tr><td>epoch/val_mae</td><td>0.0511</td></tr></table><br/></div></div>"
            ]
          },
          "metadata": {}
        },
        {
          "output_type": "display_data",
          "data": {
            "text/plain": [
              "<IPython.core.display.HTML object>"
            ],
            "text/html": [
              " View run <strong style=\"color:#cdcd00\">vivid-sweep-16</strong> at: <a href='https://wandb.ai/alberto-pirillo/anndl-forecasting/runs/t9qn7kqb' target=\"_blank\">https://wandb.ai/alberto-pirillo/anndl-forecasting/runs/t9qn7kqb</a><br/>Synced 5 W&B file(s), 0 media file(s), 0 artifact file(s) and 0 other file(s)"
            ]
          },
          "metadata": {}
        },
        {
          "output_type": "display_data",
          "data": {
            "text/plain": [
              "<IPython.core.display.HTML object>"
            ],
            "text/html": [
              "Find logs at: <code>./wandb/run-20231218_142042-t9qn7kqb/logs</code>"
            ]
          },
          "metadata": {}
        },
        {
          "output_type": "stream",
          "name": "stderr",
          "text": [
            "\u001b[34m\u001b[1mwandb\u001b[0m: Sweep Agent: Waiting for job.\n",
            "\u001b[34m\u001b[1mwandb\u001b[0m: Job received.\n",
            "\u001b[34m\u001b[1mwandb\u001b[0m: Agent Starting Run: pkiu76ef with config:\n",
            "\u001b[34m\u001b[1mwandb\u001b[0m: \tconv_dropout: 0.15\n",
            "\u001b[34m\u001b[1mwandb\u001b[0m: \tdense_dropout: 0.15\n",
            "\u001b[34m\u001b[1mwandb\u001b[0m: \tkernel_size: 9\n",
            "\u001b[34m\u001b[1mwandb\u001b[0m: \tnum_filters: 8\n"
          ]
        },
        {
          "output_type": "display_data",
          "data": {
            "text/plain": [
              "<IPython.core.display.HTML object>"
            ],
            "text/html": [
              "Tracking run with wandb version 0.16.1"
            ]
          },
          "metadata": {}
        },
        {
          "output_type": "display_data",
          "data": {
            "text/plain": [
              "<IPython.core.display.HTML object>"
            ],
            "text/html": [
              "Run data is saved locally in <code>/content/drive/My Drive/ann challenge/wandb/run-20231218_143219-pkiu76ef</code>"
            ]
          },
          "metadata": {}
        },
        {
          "output_type": "display_data",
          "data": {
            "text/plain": [
              "<IPython.core.display.HTML object>"
            ],
            "text/html": [
              "Syncing run <strong><a href='https://wandb.ai/alberto-pirillo/anndl-forecasting/runs/pkiu76ef' target=\"_blank\">pleasant-sweep-17</a></strong> to <a href='https://wandb.ai/alberto-pirillo/anndl-forecasting' target=\"_blank\">Weights & Biases</a> (<a href='https://wandb.me/run' target=\"_blank\">docs</a>)<br/>Sweep page: <a href='https://wandb.ai/alberto-pirillo/anndl-forecasting/sweeps/mbbt7ltu' target=\"_blank\">https://wandb.ai/alberto-pirillo/anndl-forecasting/sweeps/mbbt7ltu</a>"
            ]
          },
          "metadata": {}
        },
        {
          "output_type": "display_data",
          "data": {
            "text/plain": [
              "<IPython.core.display.HTML object>"
            ],
            "text/html": [
              " View project at <a href='https://wandb.ai/alberto-pirillo/anndl-forecasting' target=\"_blank\">https://wandb.ai/alberto-pirillo/anndl-forecasting</a>"
            ]
          },
          "metadata": {}
        },
        {
          "output_type": "display_data",
          "data": {
            "text/plain": [
              "<IPython.core.display.HTML object>"
            ],
            "text/html": [
              " View sweep at <a href='https://wandb.ai/alberto-pirillo/anndl-forecasting/sweeps/mbbt7ltu' target=\"_blank\">https://wandb.ai/alberto-pirillo/anndl-forecasting/sweeps/mbbt7ltu</a>"
            ]
          },
          "metadata": {}
        },
        {
          "output_type": "display_data",
          "data": {
            "text/plain": [
              "<IPython.core.display.HTML object>"
            ],
            "text/html": [
              " View run at <a href='https://wandb.ai/alberto-pirillo/anndl-forecasting/runs/pkiu76ef' target=\"_blank\">https://wandb.ai/alberto-pirillo/anndl-forecasting/runs/pkiu76ef</a>"
            ]
          },
          "metadata": {}
        },
        {
          "output_type": "stream",
          "name": "stdout",
          "text": [
            "Epoch 1/200\n",
            "603/603 [==============================] - 12s 13ms/step - loss: 0.1028 - mae: 0.1601 - val_loss: 0.0162 - val_mae: 0.0953 - lr: 0.0010\n",
            "Epoch 2/200\n",
            "603/603 [==============================] - 7s 12ms/step - loss: 0.0204 - mae: 0.1050 - val_loss: 0.0113 - val_mae: 0.0747 - lr: 0.0010\n",
            "Epoch 3/200\n",
            "603/603 [==============================] - 7s 12ms/step - loss: 0.0155 - mae: 0.0898 - val_loss: 0.0104 - val_mae: 0.0711 - lr: 0.0010\n",
            "Epoch 4/200\n",
            "603/603 [==============================] - 7s 12ms/step - loss: 0.0133 - mae: 0.0820 - val_loss: 0.0100 - val_mae: 0.0669 - lr: 0.0010\n",
            "Epoch 5/200\n",
            "603/603 [==============================] - 7s 11ms/step - loss: 0.0122 - mae: 0.0773 - val_loss: 0.0096 - val_mae: 0.0657 - lr: 0.0010\n",
            "Epoch 6/200\n",
            "603/603 [==============================] - 8s 13ms/step - loss: 0.0115 - mae: 0.0744 - val_loss: 0.0097 - val_mae: 0.0660 - lr: 9.0000e-04\n",
            "Epoch 7/200\n",
            "603/603 [==============================] - 7s 11ms/step - loss: 0.0111 - mae: 0.0726 - val_loss: 0.0095 - val_mae: 0.0635 - lr: 9.0000e-04\n",
            "Epoch 8/200\n",
            "603/603 [==============================] - 8s 13ms/step - loss: 0.0108 - mae: 0.0710 - val_loss: 0.0092 - val_mae: 0.0630 - lr: 9.0000e-04\n",
            "Epoch 9/200\n",
            "603/603 [==============================] - 7s 11ms/step - loss: 0.0105 - mae: 0.0700 - val_loss: 0.0093 - val_mae: 0.0632 - lr: 9.0000e-04\n",
            "Epoch 10/200\n",
            "603/603 [==============================] - 8s 13ms/step - loss: 0.0104 - mae: 0.0692 - val_loss: 0.0092 - val_mae: 0.0627 - lr: 9.0000e-04\n",
            "Epoch 11/200\n",
            "603/603 [==============================] - 6s 11ms/step - loss: 0.0101 - mae: 0.0681 - val_loss: 0.0090 - val_mae: 0.0623 - lr: 8.1000e-04\n",
            "Epoch 12/200\n",
            "603/603 [==============================] - 8s 13ms/step - loss: 0.0100 - mae: 0.0676 - val_loss: 0.0091 - val_mae: 0.0626 - lr: 8.1000e-04\n",
            "Epoch 13/200\n",
            "603/603 [==============================] - 7s 11ms/step - loss: 0.0099 - mae: 0.0670 - val_loss: 0.0091 - val_mae: 0.0631 - lr: 8.1000e-04\n",
            "Epoch 14/200\n",
            "603/603 [==============================] - 8s 13ms/step - loss: 0.0098 - mae: 0.0667 - val_loss: 0.0092 - val_mae: 0.0653 - lr: 8.1000e-04\n",
            "Epoch 15/200\n",
            "603/603 [==============================] - 7s 11ms/step - loss: 0.0096 - mae: 0.0659 - val_loss: 0.0087 - val_mae: 0.0612 - lr: 8.1000e-04\n",
            "Epoch 16/200\n",
            "603/603 [==============================] - 8s 13ms/step - loss: 0.0094 - mae: 0.0651 - val_loss: 0.0087 - val_mae: 0.0604 - lr: 7.2900e-04\n",
            "Epoch 17/200\n",
            "603/603 [==============================] - 6s 11ms/step - loss: 0.0093 - mae: 0.0646 - val_loss: 0.0086 - val_mae: 0.0596 - lr: 7.2900e-04\n",
            "Epoch 18/200\n",
            "603/603 [==============================] - 8s 12ms/step - loss: 0.0092 - mae: 0.0642 - val_loss: 0.0085 - val_mae: 0.0592 - lr: 7.2900e-04\n",
            "Epoch 19/200\n",
            "603/603 [==============================] - 7s 11ms/step - loss: 0.0091 - mae: 0.0639 - val_loss: 0.0085 - val_mae: 0.0597 - lr: 7.2900e-04\n",
            "Epoch 20/200\n",
            "603/603 [==============================] - 9s 15ms/step - loss: 0.0090 - mae: 0.0633 - val_loss: 0.0084 - val_mae: 0.0597 - lr: 7.2900e-04\n",
            "Epoch 21/200\n",
            "603/603 [==============================] - 7s 12ms/step - loss: 0.0088 - mae: 0.0627 - val_loss: 0.0082 - val_mae: 0.0579 - lr: 6.5610e-04\n",
            "Epoch 22/200\n",
            "603/603 [==============================] - 7s 12ms/step - loss: 0.0087 - mae: 0.0624 - val_loss: 0.0081 - val_mae: 0.0576 - lr: 6.5610e-04\n",
            "Epoch 23/200\n",
            "603/603 [==============================] - 7s 12ms/step - loss: 0.0087 - mae: 0.0621 - val_loss: 0.0082 - val_mae: 0.0580 - lr: 6.5610e-04\n",
            "Epoch 24/200\n",
            "603/603 [==============================] - 7s 12ms/step - loss: 0.0086 - mae: 0.0617 - val_loss: 0.0081 - val_mae: 0.0581 - lr: 6.5610e-04\n",
            "Epoch 25/200\n",
            "603/603 [==============================] - 7s 12ms/step - loss: 0.0085 - mae: 0.0616 - val_loss: 0.0080 - val_mae: 0.0570 - lr: 6.5610e-04\n",
            "Epoch 26/200\n",
            "603/603 [==============================] - 7s 11ms/step - loss: 0.0084 - mae: 0.0610 - val_loss: 0.0080 - val_mae: 0.0575 - lr: 5.9049e-04\n",
            "Epoch 27/200\n",
            "603/603 [==============================] - 7s 12ms/step - loss: 0.0083 - mae: 0.0608 - val_loss: 0.0081 - val_mae: 0.0587 - lr: 5.9049e-04\n",
            "Epoch 28/200\n",
            "603/603 [==============================] - 7s 11ms/step - loss: 0.0082 - mae: 0.0606 - val_loss: 0.0081 - val_mae: 0.0593 - lr: 5.9049e-04\n",
            "Epoch 29/200\n",
            "603/603 [==============================] - 8s 13ms/step - loss: 0.0082 - mae: 0.0603 - val_loss: 0.0080 - val_mae: 0.0580 - lr: 5.9049e-04\n",
            "Epoch 30/200\n",
            "603/603 [==============================] - 7s 11ms/step - loss: 0.0081 - mae: 0.0600 - val_loss: 0.0079 - val_mae: 0.0575 - lr: 5.9049e-04\n",
            "Epoch 31/200\n",
            "603/603 [==============================] - 8s 13ms/step - loss: 0.0080 - mae: 0.0597 - val_loss: 0.0077 - val_mae: 0.0566 - lr: 5.3144e-04\n",
            "Epoch 32/200\n",
            "603/603 [==============================] - 7s 11ms/step - loss: 0.0079 - mae: 0.0594 - val_loss: 0.0077 - val_mae: 0.0569 - lr: 5.3144e-04\n",
            "Epoch 33/200\n",
            "603/603 [==============================] - 8s 13ms/step - loss: 0.0078 - mae: 0.0592 - val_loss: 0.0076 - val_mae: 0.0562 - lr: 5.3144e-04\n",
            "Epoch 34/200\n",
            "603/603 [==============================] - 7s 11ms/step - loss: 0.0078 - mae: 0.0590 - val_loss: 0.0077 - val_mae: 0.0564 - lr: 5.3144e-04\n",
            "Epoch 35/200\n",
            "603/603 [==============================] - 8s 13ms/step - loss: 0.0077 - mae: 0.0588 - val_loss: 0.0076 - val_mae: 0.0554 - lr: 5.3144e-04\n",
            "Epoch 36/200\n",
            "603/603 [==============================] - 7s 11ms/step - loss: 0.0076 - mae: 0.0584 - val_loss: 0.0076 - val_mae: 0.0557 - lr: 4.7830e-04\n",
            "Epoch 37/200\n",
            "603/603 [==============================] - 8s 13ms/step - loss: 0.0075 - mae: 0.0582 - val_loss: 0.0075 - val_mae: 0.0555 - lr: 4.7830e-04\n",
            "Epoch 38/200\n",
            "603/603 [==============================] - 7s 11ms/step - loss: 0.0074 - mae: 0.0579 - val_loss: 0.0075 - val_mae: 0.0557 - lr: 4.7830e-04\n",
            "Epoch 39/200\n",
            "603/603 [==============================] - 8s 13ms/step - loss: 0.0074 - mae: 0.0578 - val_loss: 0.0075 - val_mae: 0.0551 - lr: 4.7830e-04\n",
            "Epoch 40/200\n",
            "603/603 [==============================] - 7s 11ms/step - loss: 0.0073 - mae: 0.0575 - val_loss: 0.0074 - val_mae: 0.0550 - lr: 4.7830e-04\n",
            "Epoch 41/200\n",
            "603/603 [==============================] - 7s 12ms/step - loss: 0.0072 - mae: 0.0572 - val_loss: 0.0073 - val_mae: 0.0545 - lr: 4.3047e-04\n",
            "Epoch 42/200\n",
            "603/603 [==============================] - 7s 11ms/step - loss: 0.0072 - mae: 0.0569 - val_loss: 0.0074 - val_mae: 0.0551 - lr: 4.3047e-04\n",
            "Epoch 43/200\n",
            "603/603 [==============================] - 7s 12ms/step - loss: 0.0071 - mae: 0.0569 - val_loss: 0.0073 - val_mae: 0.0558 - lr: 4.3047e-04\n",
            "Epoch 44/200\n",
            "603/603 [==============================] - 7s 11ms/step - loss: 0.0071 - mae: 0.0567 - val_loss: 0.0073 - val_mae: 0.0549 - lr: 4.3047e-04\n",
            "Epoch 45/200\n",
            "603/603 [==============================] - ETA: 0s - loss: 0.0070 - mae: 0.0565\n",
            "Epoch 45: ReduceLROnPlateau reducing learning rate to 0.0001291401480557397.\n",
            "603/603 [==============================] - 7s 12ms/step - loss: 0.0070 - mae: 0.0565 - val_loss: 0.0074 - val_mae: 0.0555 - lr: 4.3047e-04\n",
            "Epoch 46/200\n",
            "603/603 [==============================] - 7s 12ms/step - loss: 0.0069 - mae: 0.0561 - val_loss: 0.0073 - val_mae: 0.0540 - lr: 3.8742e-04\n",
            "Epoch 47/200\n",
            "603/603 [==============================] - 7s 11ms/step - loss: 0.0069 - mae: 0.0560 - val_loss: 0.0072 - val_mae: 0.0543 - lr: 3.8742e-04\n",
            "Epoch 48/200\n",
            "603/603 [==============================] - 8s 12ms/step - loss: 0.0068 - mae: 0.0558 - val_loss: 0.0074 - val_mae: 0.0564 - lr: 3.8742e-04\n",
            "Epoch 49/200\n",
            "603/603 [==============================] - 7s 11ms/step - loss: 0.0068 - mae: 0.0557 - val_loss: 0.0072 - val_mae: 0.0541 - lr: 3.8742e-04\n",
            "Epoch 50/200\n",
            "603/603 [==============================] - 7s 12ms/step - loss: 0.0067 - mae: 0.0555 - val_loss: 0.0071 - val_mae: 0.0536 - lr: 3.8742e-04\n",
            "Epoch 51/200\n",
            "603/603 [==============================] - 7s 11ms/step - loss: 0.0067 - mae: 0.0552 - val_loss: 0.0073 - val_mae: 0.0550 - lr: 3.4868e-04\n",
            "Epoch 52/200\n",
            "603/603 [==============================] - 8s 13ms/step - loss: 0.0066 - mae: 0.0550 - val_loss: 0.0071 - val_mae: 0.0534 - lr: 3.4868e-04\n",
            "Epoch 53/200\n",
            "603/603 [==============================] - 7s 11ms/step - loss: 0.0066 - mae: 0.0550 - val_loss: 0.0072 - val_mae: 0.0543 - lr: 3.4868e-04\n",
            "Epoch 54/200\n",
            "603/603 [==============================] - 8s 13ms/step - loss: 0.0066 - mae: 0.0548 - val_loss: 0.0071 - val_mae: 0.0537 - lr: 3.4868e-04\n",
            "Epoch 55/200\n",
            "601/603 [============================>.] - ETA: 0s - loss: 0.0065 - mae: 0.0547\n",
            "Epoch 55: ReduceLROnPlateau reducing learning rate to 0.00010460350604262203.\n",
            "603/603 [==============================] - 7s 11ms/step - loss: 0.0065 - mae: 0.0547 - val_loss: 0.0071 - val_mae: 0.0538 - lr: 3.4868e-04\n",
            "Epoch 56/200\n",
            "603/603 [==============================] - 8s 13ms/step - loss: 0.0065 - mae: 0.0544 - val_loss: 0.0070 - val_mae: 0.0531 - lr: 3.1381e-04\n",
            "Epoch 57/200\n",
            "603/603 [==============================] - 7s 11ms/step - loss: 0.0064 - mae: 0.0543 - val_loss: 0.0070 - val_mae: 0.0530 - lr: 3.1381e-04\n",
            "Epoch 58/200\n",
            "603/603 [==============================] - 8s 13ms/step - loss: 0.0064 - mae: 0.0542 - val_loss: 0.0070 - val_mae: 0.0533 - lr: 3.1381e-04\n",
            "Epoch 59/200\n",
            "603/603 [==============================] - 7s 11ms/step - loss: 0.0064 - mae: 0.0540 - val_loss: 0.0071 - val_mae: 0.0537 - lr: 3.1381e-04\n",
            "Epoch 60/200\n",
            "603/603 [==============================] - 8s 13ms/step - loss: 0.0063 - mae: 0.0540 - val_loss: 0.0070 - val_mae: 0.0534 - lr: 3.1381e-04\n",
            "Epoch 61/200\n",
            "603/603 [==============================] - 7s 11ms/step - loss: 0.0063 - mae: 0.0538 - val_loss: 0.0069 - val_mae: 0.0528 - lr: 2.8243e-04\n",
            "Epoch 62/200\n",
            "601/603 [============================>.] - ETA: 0s - loss: 0.0062 - mae: 0.0536\n",
            "Epoch 62: ReduceLROnPlateau reducing learning rate to 8.472883491776884e-05.\n",
            "603/603 [==============================] - 7s 12ms/step - loss: 0.0062 - mae: 0.0536 - val_loss: 0.0070 - val_mae: 0.0533 - lr: 2.8243e-04\n",
            "Epoch 63/200\n",
            "603/603 [==============================] - 7s 11ms/step - loss: 0.0062 - mae: 0.0535 - val_loss: 0.0070 - val_mae: 0.0531 - lr: 2.8243e-04\n",
            "Epoch 64/200\n",
            "603/603 [==============================] - 7s 12ms/step - loss: 0.0062 - mae: 0.0535 - val_loss: 0.0069 - val_mae: 0.0526 - lr: 2.8243e-04\n",
            "Epoch 65/200\n",
            "603/603 [==============================] - 7s 12ms/step - loss: 0.0062 - mae: 0.0533 - val_loss: 0.0069 - val_mae: 0.0528 - lr: 2.8243e-04\n",
            "Epoch 66/200\n",
            "603/603 [==============================] - 7s 12ms/step - loss: 0.0061 - mae: 0.0531 - val_loss: 0.0069 - val_mae: 0.0526 - lr: 2.5419e-04\n",
            "Epoch 67/200\n",
            "603/603 [==============================] - 7s 12ms/step - loss: 0.0061 - mae: 0.0530 - val_loss: 0.0069 - val_mae: 0.0524 - lr: 2.5419e-04\n",
            "Epoch 68/200\n",
            "603/603 [==============================] - 7s 11ms/step - loss: 0.0061 - mae: 0.0529 - val_loss: 0.0069 - val_mae: 0.0529 - lr: 2.5419e-04\n",
            "Epoch 69/200\n",
            "603/603 [==============================] - 7s 12ms/step - loss: 0.0061 - mae: 0.0529 - val_loss: 0.0069 - val_mae: 0.0524 - lr: 2.5419e-04\n",
            "Epoch 70/200\n",
            "603/603 [==============================] - 7s 11ms/step - loss: 0.0060 - mae: 0.0528 - val_loss: 0.0069 - val_mae: 0.0524 - lr: 2.5419e-04\n",
            "Epoch 71/200\n",
            "599/603 [============================>.] - ETA: 0s - loss: 0.0060 - mae: 0.0525\n",
            "Epoch 71: ReduceLROnPlateau reducing learning rate to 6.863035087008029e-05.\n",
            "603/603 [==============================] - 8s 13ms/step - loss: 0.0060 - mae: 0.0525 - val_loss: 0.0069 - val_mae: 0.0526 - lr: 2.2877e-04\n",
            "Epoch 72/200\n",
            "603/603 [==============================] - 7s 11ms/step - loss: 0.0060 - mae: 0.0525 - val_loss: 0.0069 - val_mae: 0.0527 - lr: 2.2877e-04\n",
            "Epoch 73/200\n",
            "603/603 [==============================] - 8s 13ms/step - loss: 0.0059 - mae: 0.0523 - val_loss: 0.0068 - val_mae: 0.0526 - lr: 2.2877e-04\n",
            "Epoch 74/200\n",
            "603/603 [==============================] - 7s 11ms/step - loss: 0.0059 - mae: 0.0523 - val_loss: 0.0068 - val_mae: 0.0521 - lr: 2.2877e-04\n",
            "Epoch 75/200\n",
            "603/603 [==============================] - 8s 13ms/step - loss: 0.0059 - mae: 0.0522 - val_loss: 0.0069 - val_mae: 0.0527 - lr: 2.2877e-04\n",
            "Epoch 76/200\n",
            "599/603 [============================>.] - ETA: 0s - loss: 0.0059 - mae: 0.0520\n",
            "Epoch 76: ReduceLROnPlateau reducing learning rate to 6.1767318402417e-05.\n",
            "603/603 [==============================] - 7s 11ms/step - loss: 0.0059 - mae: 0.0520 - val_loss: 0.0068 - val_mae: 0.0525 - lr: 2.0589e-04\n",
            "Epoch 77/200\n",
            "603/603 [==============================] - 8s 13ms/step - loss: 0.0058 - mae: 0.0520 - val_loss: 0.0068 - val_mae: 0.0528 - lr: 2.0589e-04\n",
            "Epoch 78/200\n",
            "603/603 [==============================] - 7s 11ms/step - loss: 0.0058 - mae: 0.0520 - val_loss: 0.0068 - val_mae: 0.0520 - lr: 2.0589e-04\n",
            "Epoch 79/200\n",
            "603/603 [==============================] - 8s 13ms/step - loss: 0.0058 - mae: 0.0518 - val_loss: 0.0068 - val_mae: 0.0521 - lr: 2.0589e-04\n",
            "Epoch 80/200\n",
            "603/603 [==============================] - 7s 11ms/step - loss: 0.0058 - mae: 0.0518 - val_loss: 0.0068 - val_mae: 0.0526 - lr: 2.0589e-04\n",
            "Epoch 81/200\n",
            "603/603 [==============================] - 8s 13ms/step - loss: 0.0057 - mae: 0.0516 - val_loss: 0.0068 - val_mae: 0.0518 - lr: 1.8530e-04\n",
            "Epoch 82/200\n",
            "603/603 [==============================] - 7s 11ms/step - loss: 0.0057 - mae: 0.0516 - val_loss: 0.0068 - val_mae: 0.0521 - lr: 1.8530e-04\n",
            "Epoch 83/200\n",
            "601/603 [============================>.] - ETA: 0s - loss: 0.0057 - mae: 0.0515\n",
            "Epoch 83: ReduceLROnPlateau reducing learning rate to 5.55905804503709e-05.\n",
            "603/603 [==============================] - 8s 13ms/step - loss: 0.0057 - mae: 0.0515 - val_loss: 0.0068 - val_mae: 0.0522 - lr: 1.8530e-04\n",
            "Epoch 84/200\n",
            "603/603 [==============================] - 7s 11ms/step - loss: 0.0057 - mae: 0.0515 - val_loss: 0.0068 - val_mae: 0.0523 - lr: 1.8530e-04\n",
            "Epoch 85/200\n",
            "603/603 [==============================] - 8s 13ms/step - loss: 0.0057 - mae: 0.0515 - val_loss: 0.0068 - val_mae: 0.0518 - lr: 1.8530e-04\n",
            "Epoch 86/200\n",
            "603/603 [==============================] - 7s 11ms/step - loss: 0.0057 - mae: 0.0513 - val_loss: 0.0067 - val_mae: 0.0517 - lr: 1.6677e-04\n",
            "Epoch 87/200\n",
            "603/603 [==============================] - 8s 14ms/step - loss: 0.0056 - mae: 0.0512 - val_loss: 0.0068 - val_mae: 0.0518 - lr: 1.6677e-04\n",
            "Epoch 88/200\n",
            "599/603 [============================>.] - ETA: 0s - loss: 0.0056 - mae: 0.0512\n",
            "Epoch 88: ReduceLROnPlateau reducing learning rate to 5.003151891287416e-05.\n",
            "603/603 [==============================] - 7s 11ms/step - loss: 0.0056 - mae: 0.0512 - val_loss: 0.0069 - val_mae: 0.0526 - lr: 1.6677e-04\n",
            "Epoch 89/200\n",
            "603/603 [==============================] - 8s 13ms/step - loss: 0.0056 - mae: 0.0512 - val_loss: 0.0068 - val_mae: 0.0518 - lr: 1.6677e-04\n",
            "Epoch 90/200\n",
            "603/603 [==============================] - 7s 11ms/step - loss: 0.0056 - mae: 0.0510 - val_loss: 0.0067 - val_mae: 0.0518 - lr: 1.6677e-04\n",
            "Epoch 91/200\n",
            "603/603 [==============================] - 8s 12ms/step - loss: 0.0056 - mae: 0.0509 - val_loss: 0.0068 - val_mae: 0.0518 - lr: 1.5009e-04\n",
            "Epoch 92/200\n",
            "603/603 [==============================] - 7s 12ms/step - loss: 0.0056 - mae: 0.0509 - val_loss: 0.0067 - val_mae: 0.0516 - lr: 1.5009e-04\n",
            "Epoch 93/200\n",
            "602/603 [============================>.] - ETA: 0s - loss: 0.0055 - mae: 0.0508\n",
            "Epoch 93: ReduceLROnPlateau reducing learning rate to 4.502837400650605e-05.\n",
            "Restoring model weights from the end of the best epoch: 78.\n",
            "603/603 [==============================] - 7s 12ms/step - loss: 0.0055 - mae: 0.0508 - val_loss: 0.0067 - val_mae: 0.0515 - lr: 1.5009e-04\n",
            "Epoch 93: early stopping\n"
          ]
        },
        {
          "output_type": "display_data",
          "data": {
            "text/plain": [
              "VBox(children=(Label(value='0.001 MB of 0.001 MB uploaded\\r'), FloatProgress(value=1.0, max=1.0)))"
            ],
            "application/vnd.jupyter.widget-view+json": {
              "version_major": 2,
              "version_minor": 0,
              "model_id": "6cecefe075b140eb92980b114ebeabeb"
            }
          },
          "metadata": {}
        },
        {
          "output_type": "display_data",
          "data": {
            "text/plain": [
              "<IPython.core.display.HTML object>"
            ],
            "text/html": [
              "<style>\n",
              "    table.wandb td:nth-child(1) { padding: 0 10px; text-align: left ; width: auto;} td:nth-child(2) {text-align: left ; width: 100%}\n",
              "    .wandb-row { display: flex; flex-direction: row; flex-wrap: wrap; justify-content: flex-start; width: 100% }\n",
              "    .wandb-col { display: flex; flex-direction: column; flex-basis: 100%; flex: 1; padding: 10px; }\n",
              "    </style>\n",
              "<div class=\"wandb-row\"><div class=\"wandb-col\"><h3>Run history:</h3><br/><table class=\"wandb\"><tr><td>epoch/epoch</td><td>▁▁▁▂▂▂▂▂▂▃▃▃▃▃▄▄▄▄▄▄▅▅▅▅▅▅▆▆▆▆▆▇▇▇▇▇▇███</td></tr><tr><td>epoch/learning_rate</td><td>███▇▇▇▇▆▆▅▅▅▅▅▅▄▄▄▄▂▄▄▃▁▃▃▁▃▃▃▁▂▁▂▂▁▂▁▂▁</td></tr><tr><td>epoch/loss</td><td>█▂▁▁▁▁▁▁▁▁▁▁▁▁▁▁▁▁▁▁▁▁▁▁▁▁▁▁▁▁▁▁▁▁▁▁▁▁▁▁</td></tr><tr><td>epoch/lr</td><td>███▇▇▆▆▆▆▅▅▅▅▄▄▄▄▃▃▃▃▃▃▃▂▂▂▂▂▂▂▂▁▁▁▁▁▁▁▁</td></tr><tr><td>epoch/mae</td><td>█▃▃▂▂▂▂▂▂▂▂▂▂▂▂▁▁▁▁▁▁▁▁▁▁▁▁▁▁▁▁▁▁▁▁▁▁▁▁▁</td></tr><tr><td>epoch/val_loss</td><td>█▄▃▃▃▃▂▂▂▂▂▂▂▂▂▂▂▁▁▁▁▁▁▁▁▁▁▁▁▁▁▁▁▁▁▁▁▁▁▁</td></tr><tr><td>epoch/val_mae</td><td>█▄▃▃▃▃▃▂▂▂▂▂▂▂▂▂▂▁▂▂▂▁▁▁▁▁▁▁▁▁▁▁▁▁▁▁▁▁▁▁</td></tr></table><br/></div><div class=\"wandb-col\"><h3>Run summary:</h3><br/><table class=\"wandb\"><tr><td>epoch/epoch</td><td>92</td></tr><tr><td>epoch/learning_rate</td><td>5e-05</td></tr><tr><td>epoch/loss</td><td>0.00555</td></tr><tr><td>epoch/lr</td><td>0.00015</td></tr><tr><td>epoch/mae</td><td>0.05081</td></tr><tr><td>epoch/val_loss</td><td>0.00671</td></tr><tr><td>epoch/val_mae</td><td>0.05146</td></tr></table><br/></div></div>"
            ]
          },
          "metadata": {}
        },
        {
          "output_type": "display_data",
          "data": {
            "text/plain": [
              "<IPython.core.display.HTML object>"
            ],
            "text/html": [
              " View run <strong style=\"color:#cdcd00\">pleasant-sweep-17</strong> at: <a href='https://wandb.ai/alberto-pirillo/anndl-forecasting/runs/pkiu76ef' target=\"_blank\">https://wandb.ai/alberto-pirillo/anndl-forecasting/runs/pkiu76ef</a><br/>Synced 5 W&B file(s), 0 media file(s), 0 artifact file(s) and 0 other file(s)"
            ]
          },
          "metadata": {}
        },
        {
          "output_type": "display_data",
          "data": {
            "text/plain": [
              "<IPython.core.display.HTML object>"
            ],
            "text/html": [
              "Find logs at: <code>./wandb/run-20231218_143219-pkiu76ef/logs</code>"
            ]
          },
          "metadata": {}
        },
        {
          "output_type": "stream",
          "name": "stderr",
          "text": [
            "\u001b[34m\u001b[1mwandb\u001b[0m: Sweep Agent: Waiting for job.\n",
            "\u001b[34m\u001b[1mwandb\u001b[0m: Job received.\n",
            "\u001b[34m\u001b[1mwandb\u001b[0m: Agent Starting Run: dve39dlc with config:\n",
            "\u001b[34m\u001b[1mwandb\u001b[0m: \tconv_dropout: 0.05\n",
            "\u001b[34m\u001b[1mwandb\u001b[0m: \tdense_dropout: 0.45\n",
            "\u001b[34m\u001b[1mwandb\u001b[0m: \tkernel_size: 9\n",
            "\u001b[34m\u001b[1mwandb\u001b[0m: \tnum_filters: 16\n"
          ]
        },
        {
          "output_type": "display_data",
          "data": {
            "text/plain": [
              "<IPython.core.display.HTML object>"
            ],
            "text/html": [
              "Tracking run with wandb version 0.16.1"
            ]
          },
          "metadata": {}
        },
        {
          "output_type": "display_data",
          "data": {
            "text/plain": [
              "<IPython.core.display.HTML object>"
            ],
            "text/html": [
              "Run data is saved locally in <code>/content/drive/My Drive/ann challenge/wandb/run-20231218_144351-dve39dlc</code>"
            ]
          },
          "metadata": {}
        },
        {
          "output_type": "display_data",
          "data": {
            "text/plain": [
              "<IPython.core.display.HTML object>"
            ],
            "text/html": [
              "Syncing run <strong><a href='https://wandb.ai/alberto-pirillo/anndl-forecasting/runs/dve39dlc' target=\"_blank\">proud-sweep-18</a></strong> to <a href='https://wandb.ai/alberto-pirillo/anndl-forecasting' target=\"_blank\">Weights & Biases</a> (<a href='https://wandb.me/run' target=\"_blank\">docs</a>)<br/>Sweep page: <a href='https://wandb.ai/alberto-pirillo/anndl-forecasting/sweeps/mbbt7ltu' target=\"_blank\">https://wandb.ai/alberto-pirillo/anndl-forecasting/sweeps/mbbt7ltu</a>"
            ]
          },
          "metadata": {}
        },
        {
          "output_type": "display_data",
          "data": {
            "text/plain": [
              "<IPython.core.display.HTML object>"
            ],
            "text/html": [
              " View project at <a href='https://wandb.ai/alberto-pirillo/anndl-forecasting' target=\"_blank\">https://wandb.ai/alberto-pirillo/anndl-forecasting</a>"
            ]
          },
          "metadata": {}
        },
        {
          "output_type": "display_data",
          "data": {
            "text/plain": [
              "<IPython.core.display.HTML object>"
            ],
            "text/html": [
              " View sweep at <a href='https://wandb.ai/alberto-pirillo/anndl-forecasting/sweeps/mbbt7ltu' target=\"_blank\">https://wandb.ai/alberto-pirillo/anndl-forecasting/sweeps/mbbt7ltu</a>"
            ]
          },
          "metadata": {}
        },
        {
          "output_type": "display_data",
          "data": {
            "text/plain": [
              "<IPython.core.display.HTML object>"
            ],
            "text/html": [
              " View run at <a href='https://wandb.ai/alberto-pirillo/anndl-forecasting/runs/dve39dlc' target=\"_blank\">https://wandb.ai/alberto-pirillo/anndl-forecasting/runs/dve39dlc</a>"
            ]
          },
          "metadata": {}
        },
        {
          "output_type": "stream",
          "name": "stdout",
          "text": [
            "Epoch 1/200\n",
            "603/603 [==============================] - 18s 21ms/step - loss: 0.0290 - mae: 0.1174 - val_loss: 0.0101 - val_mae: 0.0687 - lr: 0.0010\n",
            "Epoch 2/200\n",
            "603/603 [==============================] - 13s 21ms/step - loss: 0.0141 - mae: 0.0855 - val_loss: 0.0105 - val_mae: 0.0693 - lr: 0.0010\n",
            "Epoch 3/200\n",
            "603/603 [==============================] - 13s 22ms/step - loss: 0.0126 - mae: 0.0796 - val_loss: 0.0098 - val_mae: 0.0653 - lr: 0.0010\n",
            "Epoch 4/200\n",
            "603/603 [==============================] - 13s 21ms/step - loss: 0.0118 - mae: 0.0761 - val_loss: 0.0096 - val_mae: 0.0657 - lr: 0.0010\n",
            "Epoch 5/200\n",
            "603/603 [==============================] - 13s 21ms/step - loss: 0.0114 - mae: 0.0743 - val_loss: 0.0095 - val_mae: 0.0652 - lr: 0.0010\n",
            "Epoch 6/200\n",
            "603/603 [==============================] - 13s 21ms/step - loss: 0.0109 - mae: 0.0721 - val_loss: 0.0096 - val_mae: 0.0664 - lr: 9.0000e-04\n",
            "Epoch 7/200\n",
            "603/603 [==============================] - 13s 21ms/step - loss: 0.0107 - mae: 0.0712 - val_loss: 0.0093 - val_mae: 0.0640 - lr: 9.0000e-04\n",
            "Epoch 8/200\n",
            "603/603 [==============================] - 13s 21ms/step - loss: 0.0105 - mae: 0.0705 - val_loss: 0.0090 - val_mae: 0.0611 - lr: 9.0000e-04\n",
            "Epoch 9/200\n",
            "603/603 [==============================] - 13s 21ms/step - loss: 0.0103 - mae: 0.0698 - val_loss: 0.0089 - val_mae: 0.0620 - lr: 9.0000e-04\n",
            "Epoch 10/200\n",
            "603/603 [==============================] - 13s 22ms/step - loss: 0.0102 - mae: 0.0695 - val_loss: 0.0089 - val_mae: 0.0630 - lr: 9.0000e-04\n",
            "Epoch 11/200\n",
            "603/603 [==============================] - 13s 22ms/step - loss: 0.0100 - mae: 0.0688 - val_loss: 0.0090 - val_mae: 0.0650 - lr: 8.1000e-04\n",
            "Epoch 12/200\n",
            "603/603 [==============================] - 13s 21ms/step - loss: 0.0099 - mae: 0.0687 - val_loss: 0.0086 - val_mae: 0.0610 - lr: 8.1000e-04\n",
            "Epoch 13/200\n",
            "603/603 [==============================] - 13s 21ms/step - loss: 0.0098 - mae: 0.0681 - val_loss: 0.0086 - val_mae: 0.0628 - lr: 8.1000e-04\n",
            "Epoch 14/200\n",
            "603/603 [==============================] - 13s 21ms/step - loss: 0.0098 - mae: 0.0682 - val_loss: 0.0086 - val_mae: 0.0610 - lr: 8.1000e-04\n",
            "Epoch 15/200\n",
            "603/603 [==============================] - 13s 21ms/step - loss: 0.0096 - mae: 0.0676 - val_loss: 0.0083 - val_mae: 0.0587 - lr: 8.1000e-04\n",
            "Epoch 16/200\n",
            "603/603 [==============================] - 13s 21ms/step - loss: 0.0095 - mae: 0.0673 - val_loss: 0.0082 - val_mae: 0.0590 - lr: 7.2900e-04\n",
            "Epoch 17/200\n",
            "603/603 [==============================] - 13s 21ms/step - loss: 0.0094 - mae: 0.0670 - val_loss: 0.0084 - val_mae: 0.0610 - lr: 7.2900e-04\n",
            "Epoch 18/200\n",
            "603/603 [==============================] - 13s 21ms/step - loss: 0.0093 - mae: 0.0667 - val_loss: 0.0081 - val_mae: 0.0589 - lr: 7.2900e-04\n",
            "Epoch 19/200\n",
            "603/603 [==============================] - 13s 21ms/step - loss: 0.0092 - mae: 0.0664 - val_loss: 0.0080 - val_mae: 0.0586 - lr: 7.2900e-04\n",
            "Epoch 20/200\n",
            "603/603 [==============================] - 13s 22ms/step - loss: 0.0091 - mae: 0.0662 - val_loss: 0.0078 - val_mae: 0.0566 - lr: 7.2900e-04\n",
            "Epoch 21/200\n",
            "603/603 [==============================] - 13s 22ms/step - loss: 0.0090 - mae: 0.0656 - val_loss: 0.0080 - val_mae: 0.0585 - lr: 6.5610e-04\n",
            "Epoch 22/200\n",
            "603/603 [==============================] - 13s 21ms/step - loss: 0.0089 - mae: 0.0655 - val_loss: 0.0078 - val_mae: 0.0575 - lr: 6.5610e-04\n",
            "Epoch 23/200\n",
            "603/603 [==============================] - 13s 21ms/step - loss: 0.0088 - mae: 0.0650 - val_loss: 0.0077 - val_mae: 0.0571 - lr: 6.5610e-04\n",
            "Epoch 24/200\n",
            "603/603 [==============================] - 13s 21ms/step - loss: 0.0087 - mae: 0.0648 - val_loss: 0.0078 - val_mae: 0.0587 - lr: 6.5610e-04\n",
            "Epoch 25/200\n",
            "603/603 [==============================] - 13s 21ms/step - loss: 0.0086 - mae: 0.0646 - val_loss: 0.0075 - val_mae: 0.0561 - lr: 6.5610e-04\n",
            "Epoch 26/200\n",
            "603/603 [==============================] - 13s 21ms/step - loss: 0.0084 - mae: 0.0638 - val_loss: 0.0074 - val_mae: 0.0558 - lr: 5.9049e-04\n",
            "Epoch 27/200\n",
            "603/603 [==============================] - 13s 21ms/step - loss: 0.0084 - mae: 0.0638 - val_loss: 0.0076 - val_mae: 0.0581 - lr: 5.9049e-04\n",
            "Epoch 28/200\n",
            "603/603 [==============================] - 13s 21ms/step - loss: 0.0082 - mae: 0.0632 - val_loss: 0.0078 - val_mae: 0.0590 - lr: 5.9049e-04\n",
            "Epoch 29/200\n",
            "603/603 [==============================] - 13s 21ms/step - loss: 0.0082 - mae: 0.0632 - val_loss: 0.0074 - val_mae: 0.0561 - lr: 5.9049e-04\n",
            "Epoch 30/200\n",
            "603/603 [==============================] - 12s 21ms/step - loss: 0.0081 - mae: 0.0628 - val_loss: 0.0072 - val_mae: 0.0547 - lr: 5.9049e-04\n",
            "Epoch 31/200\n",
            "603/603 [==============================] - 13s 21ms/step - loss: 0.0079 - mae: 0.0622 - val_loss: 0.0071 - val_mae: 0.0541 - lr: 5.3144e-04\n",
            "Epoch 32/200\n",
            "603/603 [==============================] - 13s 21ms/step - loss: 0.0078 - mae: 0.0619 - val_loss: 0.0072 - val_mae: 0.0556 - lr: 5.3144e-04\n",
            "Epoch 33/200\n",
            "603/603 [==============================] - 13s 21ms/step - loss: 0.0078 - mae: 0.0618 - val_loss: 0.0071 - val_mae: 0.0547 - lr: 5.3144e-04\n",
            "Epoch 34/200\n",
            "603/603 [==============================] - 13s 21ms/step - loss: 0.0077 - mae: 0.0614 - val_loss: 0.0072 - val_mae: 0.0571 - lr: 5.3144e-04\n",
            "Epoch 35/200\n",
            "603/603 [==============================] - 13s 21ms/step - loss: 0.0076 - mae: 0.0614 - val_loss: 0.0070 - val_mae: 0.0540 - lr: 5.3144e-04\n",
            "Epoch 36/200\n",
            "603/603 [==============================] - 13s 21ms/step - loss: 0.0074 - mae: 0.0607 - val_loss: 0.0070 - val_mae: 0.0538 - lr: 4.7830e-04\n",
            "Epoch 37/200\n",
            "603/603 [==============================] - 13s 21ms/step - loss: 0.0074 - mae: 0.0604 - val_loss: 0.0068 - val_mae: 0.0527 - lr: 4.7830e-04\n",
            "Epoch 38/200\n",
            "603/603 [==============================] - 13s 21ms/step - loss: 0.0073 - mae: 0.0601 - val_loss: 0.0068 - val_mae: 0.0526 - lr: 4.7830e-04\n",
            "Epoch 39/200\n",
            "603/603 [==============================] - 13s 21ms/step - loss: 0.0072 - mae: 0.0600 - val_loss: 0.0068 - val_mae: 0.0535 - lr: 4.7830e-04\n",
            "Epoch 40/200\n",
            "603/603 [==============================] - 13s 21ms/step - loss: 0.0071 - mae: 0.0597 - val_loss: 0.0068 - val_mae: 0.0528 - lr: 4.7830e-04\n",
            "Epoch 41/200\n",
            "603/603 [==============================] - 13s 21ms/step - loss: 0.0070 - mae: 0.0592 - val_loss: 0.0067 - val_mae: 0.0525 - lr: 4.3047e-04\n",
            "Epoch 42/200\n",
            "601/603 [============================>.] - ETA: 0s - loss: 0.0069 - mae: 0.0590\n",
            "Epoch 42: ReduceLROnPlateau reducing learning rate to 0.0001291401480557397.\n",
            "603/603 [==============================] - 13s 21ms/step - loss: 0.0070 - mae: 0.0590 - val_loss: 0.0069 - val_mae: 0.0546 - lr: 4.3047e-04\n",
            "Epoch 43/200\n",
            "603/603 [==============================] - 13s 21ms/step - loss: 0.0069 - mae: 0.0589 - val_loss: 0.0067 - val_mae: 0.0531 - lr: 4.3047e-04\n",
            "Epoch 44/200\n",
            "603/603 [==============================] - 13s 21ms/step - loss: 0.0068 - mae: 0.0585 - val_loss: 0.0067 - val_mae: 0.0527 - lr: 4.3047e-04\n",
            "Epoch 45/200\n",
            "603/603 [==============================] - 13s 21ms/step - loss: 0.0068 - mae: 0.0582 - val_loss: 0.0067 - val_mae: 0.0536 - lr: 4.3047e-04\n",
            "Epoch 46/200\n",
            "603/603 [==============================] - 13s 21ms/step - loss: 0.0067 - mae: 0.0579 - val_loss: 0.0066 - val_mae: 0.0527 - lr: 3.8742e-04\n",
            "Epoch 47/200\n",
            "603/603 [==============================] - 13s 22ms/step - loss: 0.0066 - mae: 0.0578 - val_loss: 0.0066 - val_mae: 0.0525 - lr: 3.8742e-04\n",
            "Epoch 48/200\n",
            "603/603 [==============================] - 13s 21ms/step - loss: 0.0066 - mae: 0.0576 - val_loss: 0.0067 - val_mae: 0.0533 - lr: 3.8742e-04\n",
            "Epoch 49/200\n",
            "603/603 [==============================] - 13s 22ms/step - loss: 0.0065 - mae: 0.0573 - val_loss: 0.0065 - val_mae: 0.0516 - lr: 3.8742e-04\n",
            "Epoch 50/200\n",
            "603/603 [==============================] - 13s 21ms/step - loss: 0.0065 - mae: 0.0572 - val_loss: 0.0066 - val_mae: 0.0529 - lr: 3.8742e-04\n",
            "Epoch 51/200\n",
            "603/603 [==============================] - 12s 21ms/step - loss: 0.0064 - mae: 0.0569 - val_loss: 0.0066 - val_mae: 0.0525 - lr: 3.4868e-04\n",
            "Epoch 52/200\n",
            "603/603 [==============================] - 13s 21ms/step - loss: 0.0063 - mae: 0.0566 - val_loss: 0.0065 - val_mae: 0.0518 - lr: 3.4868e-04\n",
            "Epoch 53/200\n",
            "603/603 [==============================] - 13s 21ms/step - loss: 0.0063 - mae: 0.0564 - val_loss: 0.0065 - val_mae: 0.0519 - lr: 3.4868e-04\n",
            "Epoch 54/200\n",
            "603/603 [==============================] - ETA: 0s - loss: 0.0062 - mae: 0.0563\n",
            "Epoch 54: ReduceLROnPlateau reducing learning rate to 0.00010460350604262203.\n",
            "603/603 [==============================] - 13s 21ms/step - loss: 0.0062 - mae: 0.0563 - val_loss: 0.0065 - val_mae: 0.0516 - lr: 3.4868e-04\n",
            "Epoch 55/200\n",
            "603/603 [==============================] - 13s 21ms/step - loss: 0.0062 - mae: 0.0561 - val_loss: 0.0064 - val_mae: 0.0508 - lr: 3.4868e-04\n",
            "Epoch 56/200\n",
            "603/603 [==============================] - 13s 21ms/step - loss: 0.0061 - mae: 0.0558 - val_loss: 0.0064 - val_mae: 0.0505 - lr: 3.1381e-04\n",
            "Epoch 57/200\n",
            "603/603 [==============================] - 13s 21ms/step - loss: 0.0061 - mae: 0.0556 - val_loss: 0.0064 - val_mae: 0.0510 - lr: 3.1381e-04\n",
            "Epoch 58/200\n",
            "603/603 [==============================] - 12s 21ms/step - loss: 0.0060 - mae: 0.0555 - val_loss: 0.0063 - val_mae: 0.0508 - lr: 3.1381e-04\n",
            "Epoch 59/200\n",
            "603/603 [==============================] - 13s 21ms/step - loss: 0.0060 - mae: 0.0554 - val_loss: 0.0065 - val_mae: 0.0533 - lr: 3.1381e-04\n",
            "Epoch 60/200\n",
            "601/603 [============================>.] - ETA: 0s - loss: 0.0060 - mae: 0.0553\n",
            "Epoch 60: ReduceLROnPlateau reducing learning rate to 9.414315281901509e-05.\n",
            "603/603 [==============================] - 13s 21ms/step - loss: 0.0060 - mae: 0.0553 - val_loss: 0.0064 - val_mae: 0.0512 - lr: 3.1381e-04\n",
            "Epoch 61/200\n",
            "603/603 [==============================] - 13s 21ms/step - loss: 0.0059 - mae: 0.0548 - val_loss: 0.0064 - val_mae: 0.0511 - lr: 2.8243e-04\n",
            "Epoch 62/200\n",
            "603/603 [==============================] - 13s 22ms/step - loss: 0.0058 - mae: 0.0546 - val_loss: 0.0064 - val_mae: 0.0507 - lr: 2.8243e-04\n",
            "Epoch 63/200\n",
            "603/603 [==============================] - 13s 21ms/step - loss: 0.0058 - mae: 0.0546 - val_loss: 0.0064 - val_mae: 0.0512 - lr: 2.8243e-04\n",
            "Epoch 64/200\n",
            "603/603 [==============================] - 13s 21ms/step - loss: 0.0058 - mae: 0.0545 - val_loss: 0.0063 - val_mae: 0.0501 - lr: 2.8243e-04\n",
            "Epoch 65/200\n",
            "603/603 [==============================] - 13s 21ms/step - loss: 0.0058 - mae: 0.0543 - val_loss: 0.0063 - val_mae: 0.0502 - lr: 2.8243e-04\n",
            "Epoch 66/200\n",
            "603/603 [==============================] - 14s 24ms/step - loss: 0.0057 - mae: 0.0542 - val_loss: 0.0063 - val_mae: 0.0505 - lr: 2.5419e-04\n",
            "Epoch 67/200\n",
            "603/603 [==============================] - 13s 22ms/step - loss: 0.0057 - mae: 0.0540 - val_loss: 0.0062 - val_mae: 0.0499 - lr: 2.5419e-04\n",
            "Epoch 68/200\n",
            "603/603 [==============================] - 13s 21ms/step - loss: 0.0057 - mae: 0.0540 - val_loss: 0.0062 - val_mae: 0.0499 - lr: 2.5419e-04\n",
            "Epoch 69/200\n",
            "602/603 [============================>.] - ETA: 0s - loss: 0.0056 - mae: 0.0538\n",
            "Epoch 69: ReduceLROnPlateau reducing learning rate to 7.625594444107264e-05.\n",
            "603/603 [==============================] - 13s 21ms/step - loss: 0.0056 - mae: 0.0538 - val_loss: 0.0063 - val_mae: 0.0502 - lr: 2.5419e-04\n",
            "Epoch 70/200\n",
            "603/603 [==============================] - 13s 21ms/step - loss: 0.0056 - mae: 0.0537 - val_loss: 0.0062 - val_mae: 0.0497 - lr: 2.5419e-04\n",
            "Epoch 71/200\n",
            "603/603 [==============================] - 13s 21ms/step - loss: 0.0055 - mae: 0.0534 - val_loss: 0.0062 - val_mae: 0.0498 - lr: 2.2877e-04\n",
            "Epoch 72/200\n",
            "603/603 [==============================] - 13s 21ms/step - loss: 0.0055 - mae: 0.0533 - val_loss: 0.0062 - val_mae: 0.0496 - lr: 2.2877e-04\n",
            "Epoch 73/200\n",
            "603/603 [==============================] - 13s 22ms/step - loss: 0.0055 - mae: 0.0531 - val_loss: 0.0062 - val_mae: 0.0497 - lr: 2.2877e-04\n",
            "Epoch 74/200\n",
            "603/603 [==============================] - ETA: 0s - loss: 0.0055 - mae: 0.0530\n",
            "Epoch 74: ReduceLROnPlateau reducing learning rate to 6.863035087008029e-05.\n",
            "603/603 [==============================] - 13s 21ms/step - loss: 0.0055 - mae: 0.0530 - val_loss: 0.0062 - val_mae: 0.0496 - lr: 2.2877e-04\n",
            "Epoch 75/200\n",
            "603/603 [==============================] - 13s 21ms/step - loss: 0.0054 - mae: 0.0529 - val_loss: 0.0062 - val_mae: 0.0498 - lr: 2.2877e-04\n",
            "Epoch 76/200\n",
            "603/603 [==============================] - 13s 22ms/step - loss: 0.0054 - mae: 0.0528 - val_loss: 0.0061 - val_mae: 0.0493 - lr: 2.0589e-04\n",
            "Epoch 77/200\n",
            "603/603 [==============================] - 13s 21ms/step - loss: 0.0054 - mae: 0.0528 - val_loss: 0.0062 - val_mae: 0.0501 - lr: 2.0589e-04\n",
            "Epoch 78/200\n",
            "603/603 [==============================] - 13s 21ms/step - loss: 0.0053 - mae: 0.0526 - val_loss: 0.0061 - val_mae: 0.0495 - lr: 2.0589e-04\n",
            "Epoch 79/200\n",
            "603/603 [==============================] - 13s 21ms/step - loss: 0.0053 - mae: 0.0525 - val_loss: 0.0061 - val_mae: 0.0496 - lr: 2.0589e-04\n",
            "Epoch 80/200\n",
            "603/603 [==============================] - 13s 21ms/step - loss: 0.0053 - mae: 0.0524 - val_loss: 0.0061 - val_mae: 0.0495 - lr: 2.0589e-04\n",
            "Epoch 81/200\n",
            "601/603 [============================>.] - ETA: 0s - loss: 0.0053 - mae: 0.0523\n",
            "Epoch 81: ReduceLROnPlateau reducing learning rate to 5.55905804503709e-05.\n",
            "603/603 [==============================] - 13s 21ms/step - loss: 0.0053 - mae: 0.0523 - val_loss: 0.0061 - val_mae: 0.0498 - lr: 1.8530e-04\n",
            "Epoch 82/200\n",
            "603/603 [==============================] - 13s 21ms/step - loss: 0.0052 - mae: 0.0520 - val_loss: 0.0061 - val_mae: 0.0492 - lr: 1.8530e-04\n",
            "Epoch 83/200\n",
            "603/603 [==============================] - 13s 21ms/step - loss: 0.0052 - mae: 0.0521 - val_loss: 0.0061 - val_mae: 0.0493 - lr: 1.8530e-04\n",
            "Epoch 84/200\n",
            "603/603 [==============================] - 13s 21ms/step - loss: 0.0052 - mae: 0.0519 - val_loss: 0.0061 - val_mae: 0.0494 - lr: 1.8530e-04\n",
            "Epoch 85/200\n",
            "603/603 [==============================] - 13s 21ms/step - loss: 0.0052 - mae: 0.0519 - val_loss: 0.0061 - val_mae: 0.0488 - lr: 1.8530e-04\n",
            "Epoch 86/200\n",
            "603/603 [==============================] - ETA: 0s - loss: 0.0052 - mae: 0.0517\n",
            "Epoch 86: ReduceLROnPlateau reducing learning rate to 5.003151891287416e-05.\n",
            "603/603 [==============================] - 13s 21ms/step - loss: 0.0052 - mae: 0.0517 - val_loss: 0.0061 - val_mae: 0.0492 - lr: 1.6677e-04\n",
            "Epoch 87/200\n",
            "603/603 [==============================] - 13s 21ms/step - loss: 0.0051 - mae: 0.0516 - val_loss: 0.0061 - val_mae: 0.0491 - lr: 1.6677e-04\n",
            "Epoch 88/200\n",
            "603/603 [==============================] - 13s 21ms/step - loss: 0.0051 - mae: 0.0516 - val_loss: 0.0061 - val_mae: 0.0492 - lr: 1.6677e-04\n",
            "Epoch 89/200\n",
            "603/603 [==============================] - 13s 21ms/step - loss: 0.0051 - mae: 0.0515 - val_loss: 0.0061 - val_mae: 0.0493 - lr: 1.6677e-04\n",
            "Epoch 90/200\n",
            "603/603 [==============================] - 13s 21ms/step - loss: 0.0051 - mae: 0.0514 - val_loss: 0.0061 - val_mae: 0.0490 - lr: 1.6677e-04\n",
            "Epoch 91/200\n",
            "601/603 [============================>.] - ETA: 0s - loss: 0.0051 - mae: 0.0512\n",
            "Epoch 91: ReduceLROnPlateau reducing learning rate to 4.502837400650605e-05.\n",
            "Restoring model weights from the end of the best epoch: 76.\n",
            "603/603 [==============================] - 13s 21ms/step - loss: 0.0051 - mae: 0.0512 - val_loss: 0.0061 - val_mae: 0.0488 - lr: 1.5009e-04\n",
            "Epoch 91: early stopping\n"
          ]
        },
        {
          "output_type": "display_data",
          "data": {
            "text/plain": [
              "VBox(children=(Label(value='0.001 MB of 0.001 MB uploaded\\r'), FloatProgress(value=1.0, max=1.0)))"
            ],
            "application/vnd.jupyter.widget-view+json": {
              "version_major": 2,
              "version_minor": 0,
              "model_id": "cdc9d5c98b704b22a069220b99d25ac5"
            }
          },
          "metadata": {}
        },
        {
          "output_type": "display_data",
          "data": {
            "text/plain": [
              "<IPython.core.display.HTML object>"
            ],
            "text/html": [
              "<style>\n",
              "    table.wandb td:nth-child(1) { padding: 0 10px; text-align: left ; width: auto;} td:nth-child(2) {text-align: left ; width: 100%}\n",
              "    .wandb-row { display: flex; flex-direction: row; flex-wrap: wrap; justify-content: flex-start; width: 100% }\n",
              "    .wandb-col { display: flex; flex-direction: column; flex-basis: 100%; flex: 1; padding: 10px; }\n",
              "    </style>\n",
              "<div class=\"wandb-row\"><div class=\"wandb-col\"><h3>Run history:</h3><br/><table class=\"wandb\"><tr><td>epoch/epoch</td><td>▁▁▁▁▂▂▂▂▂▃▃▃▃▃▄▄▄▄▄▄▅▅▅▅▅▅▆▆▆▆▆▇▇▇▇▇████</td></tr><tr><td>epoch/learning_rate</td><td>███▇▇▇▇▆▆▅▅▅▅▅▅▅▄▄▂▄▃▃▃▁▃▃▁▃▃▃▃▂▁▂▂▁▂▁▂▂</td></tr><tr><td>epoch/loss</td><td>█▃▃▃▂▂▂▂▂▂▂▂▂▂▂▂▂▂▂▂▁▁▁▁▁▁▁▁▁▁▁▁▁▁▁▁▁▁▁▁</td></tr><tr><td>epoch/lr</td><td>███▇▇▆▆▆▆▅▅▅▅▅▄▄▄▄▃▃▃▃▃▃▂▂▂▂▂▂▂▂▂▁▁▁▁▁▁▁</td></tr><tr><td>epoch/mae</td><td>█▄▃▃▃▃▃▃▃▃▂▂▂▂▂▂▂▂▂▂▂▂▂▂▁▁▁▁▁▁▁▁▁▁▁▁▁▁▁▁</td></tr><tr><td>epoch/val_loss</td><td>█▇▇▇▆▅▅▅▄▄▄▃▄▃▃▃▂▂▂▂▂▂▂▂▂▁▂▂▁▁▁▁▁▁▁▁▁▁▁▁</td></tr><tr><td>epoch/val_mae</td><td>█▇▇▆▆▅▅▅▄▄▄▃▅▃▃▃▂▂▃▂▂▂▂▂▂▂▂▂▁▁▁▁▁▁▁▁▁▁▁▁</td></tr></table><br/></div><div class=\"wandb-col\"><h3>Run summary:</h3><br/><table class=\"wandb\"><tr><td>epoch/epoch</td><td>90</td></tr><tr><td>epoch/learning_rate</td><td>5e-05</td></tr><tr><td>epoch/loss</td><td>0.00505</td></tr><tr><td>epoch/lr</td><td>0.00015</td></tr><tr><td>epoch/mae</td><td>0.0512</td></tr><tr><td>epoch/val_loss</td><td>0.00605</td></tr><tr><td>epoch/val_mae</td><td>0.04879</td></tr></table><br/></div></div>"
            ]
          },
          "metadata": {}
        },
        {
          "output_type": "display_data",
          "data": {
            "text/plain": [
              "<IPython.core.display.HTML object>"
            ],
            "text/html": [
              " View run <strong style=\"color:#cdcd00\">proud-sweep-18</strong> at: <a href='https://wandb.ai/alberto-pirillo/anndl-forecasting/runs/dve39dlc' target=\"_blank\">https://wandb.ai/alberto-pirillo/anndl-forecasting/runs/dve39dlc</a><br/>Synced 5 W&B file(s), 0 media file(s), 0 artifact file(s) and 0 other file(s)"
            ]
          },
          "metadata": {}
        },
        {
          "output_type": "display_data",
          "data": {
            "text/plain": [
              "<IPython.core.display.HTML object>"
            ],
            "text/html": [
              "Find logs at: <code>./wandb/run-20231218_144351-dve39dlc/logs</code>"
            ]
          },
          "metadata": {}
        },
        {
          "output_type": "stream",
          "name": "stderr",
          "text": [
            "\u001b[34m\u001b[1mwandb\u001b[0m: Agent Starting Run: ole0ayhs with config:\n",
            "\u001b[34m\u001b[1mwandb\u001b[0m: \tconv_dropout: 0.35\n",
            "\u001b[34m\u001b[1mwandb\u001b[0m: \tdense_dropout: 0.3\n",
            "\u001b[34m\u001b[1mwandb\u001b[0m: \tkernel_size: 9\n",
            "\u001b[34m\u001b[1mwandb\u001b[0m: \tnum_filters: 16\n"
          ]
        },
        {
          "output_type": "display_data",
          "data": {
            "text/plain": [
              "<IPython.core.display.HTML object>"
            ],
            "text/html": [
              "Tracking run with wandb version 0.16.1"
            ]
          },
          "metadata": {}
        },
        {
          "output_type": "display_data",
          "data": {
            "text/plain": [
              "<IPython.core.display.HTML object>"
            ],
            "text/html": [
              "Run data is saved locally in <code>/content/drive/My Drive/ann challenge/wandb/run-20231218_150336-ole0ayhs</code>"
            ]
          },
          "metadata": {}
        },
        {
          "output_type": "display_data",
          "data": {
            "text/plain": [
              "<IPython.core.display.HTML object>"
            ],
            "text/html": [
              "Syncing run <strong><a href='https://wandb.ai/alberto-pirillo/anndl-forecasting/runs/ole0ayhs' target=\"_blank\">celestial-sweep-19</a></strong> to <a href='https://wandb.ai/alberto-pirillo/anndl-forecasting' target=\"_blank\">Weights & Biases</a> (<a href='https://wandb.me/run' target=\"_blank\">docs</a>)<br/>Sweep page: <a href='https://wandb.ai/alberto-pirillo/anndl-forecasting/sweeps/mbbt7ltu' target=\"_blank\">https://wandb.ai/alberto-pirillo/anndl-forecasting/sweeps/mbbt7ltu</a>"
            ]
          },
          "metadata": {}
        },
        {
          "output_type": "display_data",
          "data": {
            "text/plain": [
              "<IPython.core.display.HTML object>"
            ],
            "text/html": [
              " View project at <a href='https://wandb.ai/alberto-pirillo/anndl-forecasting' target=\"_blank\">https://wandb.ai/alberto-pirillo/anndl-forecasting</a>"
            ]
          },
          "metadata": {}
        },
        {
          "output_type": "display_data",
          "data": {
            "text/plain": [
              "<IPython.core.display.HTML object>"
            ],
            "text/html": [
              " View sweep at <a href='https://wandb.ai/alberto-pirillo/anndl-forecasting/sweeps/mbbt7ltu' target=\"_blank\">https://wandb.ai/alberto-pirillo/anndl-forecasting/sweeps/mbbt7ltu</a>"
            ]
          },
          "metadata": {}
        },
        {
          "output_type": "display_data",
          "data": {
            "text/plain": [
              "<IPython.core.display.HTML object>"
            ],
            "text/html": [
              " View run at <a href='https://wandb.ai/alberto-pirillo/anndl-forecasting/runs/ole0ayhs' target=\"_blank\">https://wandb.ai/alberto-pirillo/anndl-forecasting/runs/ole0ayhs</a>"
            ]
          },
          "metadata": {}
        },
        {
          "output_type": "stream",
          "name": "stdout",
          "text": [
            "Epoch 1/200\n",
            "603/603 [==============================] - 17s 21ms/step - loss: 0.0420 - mae: 0.1360 - val_loss: 0.0109 - val_mae: 0.0732 - lr: 0.0010\n",
            "Epoch 2/200\n",
            "603/603 [==============================] - 13s 21ms/step - loss: 0.0157 - mae: 0.0912 - val_loss: 0.0103 - val_mae: 0.0680 - lr: 0.0010\n",
            "Epoch 3/200\n",
            "603/603 [==============================] - 12s 21ms/step - loss: 0.0134 - mae: 0.0828 - val_loss: 0.0096 - val_mae: 0.0639 - lr: 0.0010\n",
            "Epoch 4/200\n",
            "603/603 [==============================] - 13s 21ms/step - loss: 0.0124 - mae: 0.0787 - val_loss: 0.0094 - val_mae: 0.0635 - lr: 0.0010\n",
            "Epoch 5/200\n",
            "603/603 [==============================] - 12s 21ms/step - loss: 0.0117 - mae: 0.0759 - val_loss: 0.0094 - val_mae: 0.0642 - lr: 0.0010\n",
            "Epoch 6/200\n",
            "603/603 [==============================] - 13s 21ms/step - loss: 0.0111 - mae: 0.0735 - val_loss: 0.0092 - val_mae: 0.0632 - lr: 9.0000e-04\n",
            "Epoch 7/200\n",
            "603/603 [==============================] - 13s 21ms/step - loss: 0.0108 - mae: 0.0720 - val_loss: 0.0088 - val_mae: 0.0609 - lr: 9.0000e-04\n",
            "Epoch 8/200\n",
            "603/603 [==============================] - 13s 21ms/step - loss: 0.0105 - mae: 0.0707 - val_loss: 0.0093 - val_mae: 0.0629 - lr: 9.0000e-04\n",
            "Epoch 9/200\n",
            "603/603 [==============================] - 13s 21ms/step - loss: 0.0102 - mae: 0.0697 - val_loss: 0.0092 - val_mae: 0.0650 - lr: 9.0000e-04\n",
            "Epoch 10/200\n",
            "603/603 [==============================] - 13s 21ms/step - loss: 0.0100 - mae: 0.0691 - val_loss: 0.0087 - val_mae: 0.0610 - lr: 9.0000e-04\n",
            "Epoch 11/200\n",
            "603/603 [==============================] - 12s 20ms/step - loss: 0.0097 - mae: 0.0676 - val_loss: 0.0084 - val_mae: 0.0603 - lr: 8.1000e-04\n",
            "Epoch 12/200\n",
            "603/603 [==============================] - 12s 21ms/step - loss: 0.0096 - mae: 0.0673 - val_loss: 0.0084 - val_mae: 0.0596 - lr: 8.1000e-04\n",
            "Epoch 13/200\n",
            "603/603 [==============================] - 13s 21ms/step - loss: 0.0094 - mae: 0.0667 - val_loss: 0.0084 - val_mae: 0.0614 - lr: 8.1000e-04\n",
            "Epoch 14/200\n",
            "603/603 [==============================] - 13s 21ms/step - loss: 0.0094 - mae: 0.0668 - val_loss: 0.0083 - val_mae: 0.0605 - lr: 8.1000e-04\n",
            "Epoch 15/200\n",
            "603/603 [==============================] - 13s 21ms/step - loss: 0.0093 - mae: 0.0662 - val_loss: 0.0083 - val_mae: 0.0591 - lr: 8.1000e-04\n",
            "Epoch 16/200\n",
            "603/603 [==============================] - 13s 21ms/step - loss: 0.0091 - mae: 0.0655 - val_loss: 0.0080 - val_mae: 0.0578 - lr: 7.2900e-04\n",
            "Epoch 17/200\n",
            "603/603 [==============================] - 12s 20ms/step - loss: 0.0090 - mae: 0.0651 - val_loss: 0.0080 - val_mae: 0.0583 - lr: 7.2900e-04\n",
            "Epoch 18/200\n",
            "603/603 [==============================] - 13s 21ms/step - loss: 0.0089 - mae: 0.0649 - val_loss: 0.0079 - val_mae: 0.0583 - lr: 7.2900e-04\n",
            "Epoch 19/200\n",
            "603/603 [==============================] - 12s 21ms/step - loss: 0.0088 - mae: 0.0646 - val_loss: 0.0080 - val_mae: 0.0591 - lr: 7.2900e-04\n",
            "Epoch 20/200\n",
            "603/603 [==============================] - 12s 21ms/step - loss: 0.0086 - mae: 0.0640 - val_loss: 0.0078 - val_mae: 0.0572 - lr: 7.2900e-04\n",
            "Epoch 21/200\n",
            "603/603 [==============================] - 13s 21ms/step - loss: 0.0085 - mae: 0.0637 - val_loss: 0.0080 - val_mae: 0.0595 - lr: 6.5610e-04\n",
            "Epoch 22/200\n",
            "603/603 [==============================] - 13s 21ms/step - loss: 0.0084 - mae: 0.0632 - val_loss: 0.0077 - val_mae: 0.0574 - lr: 6.5610e-04\n",
            "Epoch 23/200\n",
            "603/603 [==============================] - 12s 21ms/step - loss: 0.0083 - mae: 0.0628 - val_loss: 0.0075 - val_mae: 0.0563 - lr: 6.5610e-04\n",
            "Epoch 24/200\n",
            "603/603 [==============================] - 13s 21ms/step - loss: 0.0082 - mae: 0.0626 - val_loss: 0.0075 - val_mae: 0.0568 - lr: 6.5610e-04\n",
            "Epoch 25/200\n",
            "603/603 [==============================] - 13s 21ms/step - loss: 0.0081 - mae: 0.0625 - val_loss: 0.0074 - val_mae: 0.0560 - lr: 6.5610e-04\n",
            "Epoch 26/200\n",
            "603/603 [==============================] - 12s 21ms/step - loss: 0.0080 - mae: 0.0617 - val_loss: 0.0074 - val_mae: 0.0557 - lr: 5.9049e-04\n",
            "Epoch 27/200\n",
            "603/603 [==============================] - 13s 21ms/step - loss: 0.0079 - mae: 0.0615 - val_loss: 0.0077 - val_mae: 0.0591 - lr: 5.9049e-04\n",
            "Epoch 28/200\n",
            "603/603 [==============================] - 13s 21ms/step - loss: 0.0078 - mae: 0.0612 - val_loss: 0.0076 - val_mae: 0.0580 - lr: 5.9049e-04\n",
            "Epoch 29/200\n",
            "603/603 [==============================] - 13s 22ms/step - loss: 0.0077 - mae: 0.0611 - val_loss: 0.0074 - val_mae: 0.0560 - lr: 5.9049e-04\n",
            "Epoch 30/200\n",
            "603/603 [==============================] - 12s 21ms/step - loss: 0.0076 - mae: 0.0607 - val_loss: 0.0072 - val_mae: 0.0548 - lr: 5.9049e-04\n",
            "Epoch 31/200\n",
            "603/603 [==============================] - 13s 21ms/step - loss: 0.0075 - mae: 0.0603 - val_loss: 0.0070 - val_mae: 0.0538 - lr: 5.3144e-04\n",
            "Epoch 32/200\n",
            "603/603 [==============================] - 13s 21ms/step - loss: 0.0075 - mae: 0.0602 - val_loss: 0.0071 - val_mae: 0.0543 - lr: 5.3144e-04\n",
            "Epoch 33/200\n",
            "603/603 [==============================] - 13s 21ms/step - loss: 0.0074 - mae: 0.0598 - val_loss: 0.0071 - val_mae: 0.0547 - lr: 5.3144e-04\n",
            "Epoch 34/200\n",
            "603/603 [==============================] - 13s 22ms/step - loss: 0.0073 - mae: 0.0597 - val_loss: 0.0071 - val_mae: 0.0547 - lr: 5.3144e-04\n",
            "Epoch 35/200\n",
            "603/603 [==============================] - 13s 22ms/step - loss: 0.0073 - mae: 0.0595 - val_loss: 0.0069 - val_mae: 0.0533 - lr: 5.3144e-04\n",
            "Epoch 36/200\n",
            "603/603 [==============================] - 13s 22ms/step - loss: 0.0071 - mae: 0.0589 - val_loss: 0.0069 - val_mae: 0.0536 - lr: 4.7830e-04\n",
            "Epoch 37/200\n",
            "603/603 [==============================] - 13s 22ms/step - loss: 0.0071 - mae: 0.0588 - val_loss: 0.0070 - val_mae: 0.0543 - lr: 4.7830e-04\n",
            "Epoch 38/200\n",
            "603/603 [==============================] - 13s 22ms/step - loss: 0.0070 - mae: 0.0585 - val_loss: 0.0069 - val_mae: 0.0538 - lr: 4.7830e-04\n",
            "Epoch 39/200\n",
            "603/603 [==============================] - 13s 22ms/step - loss: 0.0070 - mae: 0.0584 - val_loss: 0.0069 - val_mae: 0.0529 - lr: 4.7830e-04\n",
            "Epoch 40/200\n",
            "603/603 [==============================] - ETA: 0s - loss: 0.0069 - mae: 0.0582\n",
            "Epoch 40: ReduceLROnPlateau reducing learning rate to 0.00014348904078360645.\n",
            "603/603 [==============================] - 13s 22ms/step - loss: 0.0069 - mae: 0.0582 - val_loss: 0.0069 - val_mae: 0.0538 - lr: 4.7830e-04\n",
            "Epoch 41/200\n",
            "603/603 [==============================] - 13s 22ms/step - loss: 0.0069 - mae: 0.0578 - val_loss: 0.0068 - val_mae: 0.0526 - lr: 4.3047e-04\n",
            "Epoch 42/200\n",
            "603/603 [==============================] - 13s 22ms/step - loss: 0.0068 - mae: 0.0577 - val_loss: 0.0070 - val_mae: 0.0545 - lr: 4.3047e-04\n",
            "Epoch 43/200\n",
            "603/603 [==============================] - 13s 21ms/step - loss: 0.0068 - mae: 0.0575 - val_loss: 0.0069 - val_mae: 0.0543 - lr: 4.3047e-04\n",
            "Epoch 44/200\n",
            "603/603 [==============================] - 12s 21ms/step - loss: 0.0067 - mae: 0.0574 - val_loss: 0.0068 - val_mae: 0.0531 - lr: 4.3047e-04\n",
            "Epoch 45/200\n",
            "603/603 [==============================] - 13s 21ms/step - loss: 0.0067 - mae: 0.0571 - val_loss: 0.0068 - val_mae: 0.0535 - lr: 4.3047e-04\n",
            "Epoch 46/200\n",
            "603/603 [==============================] - ETA: 0s - loss: 0.0066 - mae: 0.0569\n",
            "Epoch 46: ReduceLROnPlateau reducing learning rate to 0.00011622612364590167.\n",
            "603/603 [==============================] - 12s 21ms/step - loss: 0.0066 - mae: 0.0569 - val_loss: 0.0067 - val_mae: 0.0525 - lr: 3.8742e-04\n",
            "Epoch 47/200\n",
            "603/603 [==============================] - 12s 20ms/step - loss: 0.0066 - mae: 0.0567 - val_loss: 0.0067 - val_mae: 0.0526 - lr: 3.8742e-04\n",
            "Epoch 48/200\n",
            "603/603 [==============================] - 13s 21ms/step - loss: 0.0065 - mae: 0.0566 - val_loss: 0.0069 - val_mae: 0.0544 - lr: 3.8742e-04\n",
            "Epoch 49/200\n",
            "603/603 [==============================] - 12s 21ms/step - loss: 0.0065 - mae: 0.0564 - val_loss: 0.0067 - val_mae: 0.0521 - lr: 3.8742e-04\n",
            "Epoch 50/200\n",
            "603/603 [==============================] - 13s 21ms/step - loss: 0.0064 - mae: 0.0564 - val_loss: 0.0067 - val_mae: 0.0523 - lr: 3.8742e-04\n",
            "Epoch 51/200\n",
            "603/603 [==============================] - 13s 21ms/step - loss: 0.0064 - mae: 0.0560 - val_loss: 0.0067 - val_mae: 0.0528 - lr: 3.4868e-04\n",
            "Epoch 52/200\n",
            "603/603 [==============================] - 13s 21ms/step - loss: 0.0063 - mae: 0.0558 - val_loss: 0.0066 - val_mae: 0.0522 - lr: 3.4868e-04\n",
            "Epoch 53/200\n",
            "603/603 [==============================] - 12s 20ms/step - loss: 0.0063 - mae: 0.0557 - val_loss: 0.0066 - val_mae: 0.0522 - lr: 3.4868e-04\n",
            "Epoch 54/200\n",
            "601/603 [============================>.] - ETA: 0s - loss: 0.0063 - mae: 0.0556\n",
            "Epoch 54: ReduceLROnPlateau reducing learning rate to 0.00010460350604262203.\n",
            "603/603 [==============================] - 12s 21ms/step - loss: 0.0063 - mae: 0.0556 - val_loss: 0.0067 - val_mae: 0.0528 - lr: 3.4868e-04\n",
            "Epoch 55/200\n",
            "603/603 [==============================] - 13s 21ms/step - loss: 0.0062 - mae: 0.0554 - val_loss: 0.0066 - val_mae: 0.0516 - lr: 3.4868e-04\n",
            "Epoch 56/200\n",
            "603/603 [==============================] - 13s 21ms/step - loss: 0.0062 - mae: 0.0553 - val_loss: 0.0065 - val_mae: 0.0517 - lr: 3.1381e-04\n",
            "Epoch 57/200\n",
            "603/603 [==============================] - 13s 21ms/step - loss: 0.0061 - mae: 0.0550 - val_loss: 0.0065 - val_mae: 0.0513 - lr: 3.1381e-04\n",
            "Epoch 58/200\n",
            "603/603 [==============================] - 13s 21ms/step - loss: 0.0061 - mae: 0.0551 - val_loss: 0.0065 - val_mae: 0.0512 - lr: 3.1381e-04\n",
            "Epoch 59/200\n",
            "603/603 [==============================] - 13s 21ms/step - loss: 0.0061 - mae: 0.0548 - val_loss: 0.0065 - val_mae: 0.0520 - lr: 3.1381e-04\n",
            "Epoch 60/200\n",
            "601/603 [============================>.] - ETA: 0s - loss: 0.0061 - mae: 0.0548\n",
            "Epoch 60: ReduceLROnPlateau reducing learning rate to 9.414315281901509e-05.\n",
            "603/603 [==============================] - 13s 21ms/step - loss: 0.0061 - mae: 0.0548 - val_loss: 0.0066 - val_mae: 0.0521 - lr: 3.1381e-04\n",
            "Epoch 61/200\n",
            "603/603 [==============================] - 13s 21ms/step - loss: 0.0060 - mae: 0.0545 - val_loss: 0.0065 - val_mae: 0.0518 - lr: 2.8243e-04\n",
            "Epoch 62/200\n",
            "603/603 [==============================] - 13s 21ms/step - loss: 0.0060 - mae: 0.0545 - val_loss: 0.0065 - val_mae: 0.0519 - lr: 2.8243e-04\n",
            "Epoch 63/200\n",
            "603/603 [==============================] - 13s 21ms/step - loss: 0.0059 - mae: 0.0543 - val_loss: 0.0066 - val_mae: 0.0526 - lr: 2.8243e-04\n",
            "Epoch 64/200\n",
            "603/603 [==============================] - 13s 21ms/step - loss: 0.0059 - mae: 0.0543 - val_loss: 0.0064 - val_mae: 0.0508 - lr: 2.8243e-04\n",
            "Epoch 65/200\n",
            "603/603 [==============================] - 12s 21ms/step - loss: 0.0059 - mae: 0.0542 - val_loss: 0.0064 - val_mae: 0.0509 - lr: 2.8243e-04\n",
            "Epoch 66/200\n",
            "603/603 [==============================] - 12s 21ms/step - loss: 0.0059 - mae: 0.0540 - val_loss: 0.0064 - val_mae: 0.0505 - lr: 2.5419e-04\n",
            "Epoch 67/200\n",
            "603/603 [==============================] - 12s 20ms/step - loss: 0.0058 - mae: 0.0538 - val_loss: 0.0063 - val_mae: 0.0504 - lr: 2.5419e-04\n",
            "Epoch 68/200\n",
            "603/603 [==============================] - 12s 21ms/step - loss: 0.0058 - mae: 0.0538 - val_loss: 0.0064 - val_mae: 0.0506 - lr: 2.5419e-04\n",
            "Epoch 69/200\n",
            "602/603 [============================>.] - ETA: 0s - loss: 0.0058 - mae: 0.0537\n",
            "Epoch 69: ReduceLROnPlateau reducing learning rate to 7.625594444107264e-05.\n",
            "603/603 [==============================] - 13s 21ms/step - loss: 0.0058 - mae: 0.0537 - val_loss: 0.0064 - val_mae: 0.0508 - lr: 2.5419e-04\n",
            "Epoch 70/200\n",
            "603/603 [==============================] - 13s 21ms/step - loss: 0.0058 - mae: 0.0537 - val_loss: 0.0064 - val_mae: 0.0506 - lr: 2.5419e-04\n",
            "Epoch 71/200\n",
            "603/603 [==============================] - 13s 21ms/step - loss: 0.0057 - mae: 0.0534 - val_loss: 0.0064 - val_mae: 0.0504 - lr: 2.2877e-04\n",
            "Epoch 72/200\n",
            "603/603 [==============================] - 12s 21ms/step - loss: 0.0057 - mae: 0.0533 - val_loss: 0.0064 - val_mae: 0.0504 - lr: 2.2877e-04\n",
            "Epoch 73/200\n",
            "603/603 [==============================] - 12s 20ms/step - loss: 0.0057 - mae: 0.0533 - val_loss: 0.0063 - val_mae: 0.0504 - lr: 2.2877e-04\n",
            "Epoch 74/200\n",
            "602/603 [============================>.] - ETA: 0s - loss: 0.0057 - mae: 0.0533\n",
            "Epoch 74: ReduceLROnPlateau reducing learning rate to 6.863035087008029e-05.\n",
            "603/603 [==============================] - 13s 21ms/step - loss: 0.0057 - mae: 0.0533 - val_loss: 0.0064 - val_mae: 0.0509 - lr: 2.2877e-04\n",
            "Epoch 75/200\n",
            "603/603 [==============================] - 13s 21ms/step - loss: 0.0057 - mae: 0.0531 - val_loss: 0.0064 - val_mae: 0.0507 - lr: 2.2877e-04\n",
            "Epoch 76/200\n",
            "603/603 [==============================] - 13s 21ms/step - loss: 0.0056 - mae: 0.0529 - val_loss: 0.0063 - val_mae: 0.0507 - lr: 2.0589e-04\n",
            "Epoch 77/200\n",
            "603/603 [==============================] - 13s 21ms/step - loss: 0.0056 - mae: 0.0529 - val_loss: 0.0063 - val_mae: 0.0507 - lr: 2.0589e-04\n",
            "Epoch 78/200\n",
            "603/603 [==============================] - 12s 21ms/step - loss: 0.0056 - mae: 0.0527 - val_loss: 0.0063 - val_mae: 0.0501 - lr: 2.0589e-04\n",
            "Epoch 79/200\n",
            "601/603 [============================>.] - ETA: 0s - loss: 0.0056 - mae: 0.0527\n",
            "Epoch 79: ReduceLROnPlateau reducing learning rate to 6.1767318402417e-05.\n",
            "Restoring model weights from the end of the best epoch: 64.\n",
            "603/603 [==============================] - 12s 21ms/step - loss: 0.0056 - mae: 0.0527 - val_loss: 0.0063 - val_mae: 0.0506 - lr: 2.0589e-04\n",
            "Epoch 79: early stopping\n"
          ]
        },
        {
          "output_type": "display_data",
          "data": {
            "text/plain": [
              "VBox(children=(Label(value='0.001 MB of 0.044 MB uploaded\\r'), FloatProgress(value=0.026553635755732437, max=1…"
            ],
            "application/vnd.jupyter.widget-view+json": {
              "version_major": 2,
              "version_minor": 0,
              "model_id": "a0b3c65b3eec451890975a56750cf4f1"
            }
          },
          "metadata": {}
        },
        {
          "output_type": "display_data",
          "data": {
            "text/plain": [
              "<IPython.core.display.HTML object>"
            ],
            "text/html": [
              "<style>\n",
              "    table.wandb td:nth-child(1) { padding: 0 10px; text-align: left ; width: auto;} td:nth-child(2) {text-align: left ; width: 100%}\n",
              "    .wandb-row { display: flex; flex-direction: row; flex-wrap: wrap; justify-content: flex-start; width: 100% }\n",
              "    .wandb-col { display: flex; flex-direction: column; flex-basis: 100%; flex: 1; padding: 10px; }\n",
              "    </style>\n",
              "<div class=\"wandb-row\"><div class=\"wandb-col\"><h3>Run history:</h3><br/><table class=\"wandb\"><tr><td>epoch/epoch</td><td>▁▁▁▂▂▂▂▂▂▃▃▃▃▃▄▄▄▄▄▄▅▅▅▅▅▅▆▆▆▆▆▇▇▇▇▇▇███</td></tr><tr><td>epoch/learning_rate</td><td>███▇▇▇▇▇▆▆▅▅▅▅▅▅▅▅▄▄▄▄▄▃▃▃▃▃▃▃▃▃▃▂▁▂▂▂▂▁</td></tr><tr><td>epoch/loss</td><td>█▃▂▂▂▂▂▂▂▂▂▂▁▁▁▁▁▁▁▁▁▁▁▁▁▁▁▁▁▁▁▁▁▁▁▁▁▁▁▁</td></tr><tr><td>epoch/lr</td><td>███▇▇▆▆▆▆▆▅▅▅▄▄▄▄▄▃▃▃▃▃▃▃▂▂▂▂▂▂▂▂▁▁▁▁▁▁▁</td></tr><tr><td>epoch/mae</td><td>█▄▃▃▂▂▂▂▂▂▂▂▂▂▂▂▂▂▂▁▁▁▁▁▁▁▁▁▁▁▁▁▁▁▁▁▁▁▁▁</td></tr><tr><td>epoch/val_loss</td><td>█▆▆▅▅▄▄▄▄▄▄▃▃▃▃▂▂▂▂▂▂▂▂▂▂▂▁▁▁▁▁▁▁▁▁▁▁▁▁▁</td></tr><tr><td>epoch/val_mae</td><td>█▅▅▄▅▄▄▄▃▄▄▃▃▄▃▂▂▂▂▂▂▂▂▂▂▂▂▁▁▂▁▂▁▁▁▁▁▁▁▁</td></tr></table><br/></div><div class=\"wandb-col\"><h3>Run summary:</h3><br/><table class=\"wandb\"><tr><td>epoch/epoch</td><td>78</td></tr><tr><td>epoch/learning_rate</td><td>6e-05</td></tr><tr><td>epoch/loss</td><td>0.00557</td></tr><tr><td>epoch/lr</td><td>0.00021</td></tr><tr><td>epoch/mae</td><td>0.05272</td></tr><tr><td>epoch/val_loss</td><td>0.00635</td></tr><tr><td>epoch/val_mae</td><td>0.05058</td></tr></table><br/></div></div>"
            ]
          },
          "metadata": {}
        },
        {
          "output_type": "display_data",
          "data": {
            "text/plain": [
              "<IPython.core.display.HTML object>"
            ],
            "text/html": [
              " View run <strong style=\"color:#cdcd00\">celestial-sweep-19</strong> at: <a href='https://wandb.ai/alberto-pirillo/anndl-forecasting/runs/ole0ayhs' target=\"_blank\">https://wandb.ai/alberto-pirillo/anndl-forecasting/runs/ole0ayhs</a><br/>Synced 5 W&B file(s), 0 media file(s), 0 artifact file(s) and 0 other file(s)"
            ]
          },
          "metadata": {}
        },
        {
          "output_type": "display_data",
          "data": {
            "text/plain": [
              "<IPython.core.display.HTML object>"
            ],
            "text/html": [
              "Find logs at: <code>./wandb/run-20231218_150336-ole0ayhs/logs</code>"
            ]
          },
          "metadata": {}
        },
        {
          "output_type": "stream",
          "name": "stderr",
          "text": [
            "\u001b[34m\u001b[1mwandb\u001b[0m: Agent Starting Run: 2fop4sw7 with config:\n",
            "\u001b[34m\u001b[1mwandb\u001b[0m: \tconv_dropout: 0.2\n",
            "\u001b[34m\u001b[1mwandb\u001b[0m: \tdense_dropout: 0.45\n",
            "\u001b[34m\u001b[1mwandb\u001b[0m: \tkernel_size: 9\n",
            "\u001b[34m\u001b[1mwandb\u001b[0m: \tnum_filters: 16\n"
          ]
        },
        {
          "output_type": "display_data",
          "data": {
            "text/plain": [
              "<IPython.core.display.HTML object>"
            ],
            "text/html": [
              "Tracking run with wandb version 0.16.1"
            ]
          },
          "metadata": {}
        },
        {
          "output_type": "display_data",
          "data": {
            "text/plain": [
              "<IPython.core.display.HTML object>"
            ],
            "text/html": [
              "Run data is saved locally in <code>/content/drive/My Drive/ann challenge/wandb/run-20231218_152107-2fop4sw7</code>"
            ]
          },
          "metadata": {}
        },
        {
          "output_type": "display_data",
          "data": {
            "text/plain": [
              "<IPython.core.display.HTML object>"
            ],
            "text/html": [
              "Syncing run <strong><a href='https://wandb.ai/alberto-pirillo/anndl-forecasting/runs/2fop4sw7' target=\"_blank\">soft-sweep-20</a></strong> to <a href='https://wandb.ai/alberto-pirillo/anndl-forecasting' target=\"_blank\">Weights & Biases</a> (<a href='https://wandb.me/run' target=\"_blank\">docs</a>)<br/>Sweep page: <a href='https://wandb.ai/alberto-pirillo/anndl-forecasting/sweeps/mbbt7ltu' target=\"_blank\">https://wandb.ai/alberto-pirillo/anndl-forecasting/sweeps/mbbt7ltu</a>"
            ]
          },
          "metadata": {}
        },
        {
          "output_type": "display_data",
          "data": {
            "text/plain": [
              "<IPython.core.display.HTML object>"
            ],
            "text/html": [
              " View project at <a href='https://wandb.ai/alberto-pirillo/anndl-forecasting' target=\"_blank\">https://wandb.ai/alberto-pirillo/anndl-forecasting</a>"
            ]
          },
          "metadata": {}
        },
        {
          "output_type": "display_data",
          "data": {
            "text/plain": [
              "<IPython.core.display.HTML object>"
            ],
            "text/html": [
              " View sweep at <a href='https://wandb.ai/alberto-pirillo/anndl-forecasting/sweeps/mbbt7ltu' target=\"_blank\">https://wandb.ai/alberto-pirillo/anndl-forecasting/sweeps/mbbt7ltu</a>"
            ]
          },
          "metadata": {}
        },
        {
          "output_type": "display_data",
          "data": {
            "text/plain": [
              "<IPython.core.display.HTML object>"
            ],
            "text/html": [
              " View run at <a href='https://wandb.ai/alberto-pirillo/anndl-forecasting/runs/2fop4sw7' target=\"_blank\">https://wandb.ai/alberto-pirillo/anndl-forecasting/runs/2fop4sw7</a>"
            ]
          },
          "metadata": {}
        },
        {
          "output_type": "stream",
          "name": "stdout",
          "text": [
            "Epoch 1/200\n",
            "603/603 [==============================] - 21s 23ms/step - loss: 0.0346 - mae: 0.1279 - val_loss: 0.0105 - val_mae: 0.0710 - lr: 0.0010\n",
            "Epoch 2/200\n",
            "603/603 [==============================] - 13s 22ms/step - loss: 0.0150 - mae: 0.0890 - val_loss: 0.0105 - val_mae: 0.0688 - lr: 0.0010\n",
            "Epoch 3/200\n",
            "603/603 [==============================] - 13s 22ms/step - loss: 0.0132 - mae: 0.0820 - val_loss: 0.0098 - val_mae: 0.0656 - lr: 0.0010\n",
            "Epoch 4/200\n",
            "603/603 [==============================] - 13s 21ms/step - loss: 0.0122 - mae: 0.0779 - val_loss: 0.0097 - val_mae: 0.0665 - lr: 0.0010\n",
            "Epoch 5/200\n",
            "603/603 [==============================] - 13s 21ms/step - loss: 0.0117 - mae: 0.0756 - val_loss: 0.0099 - val_mae: 0.0678 - lr: 0.0010\n",
            "Epoch 6/200\n",
            "603/603 [==============================] - 12s 21ms/step - loss: 0.0112 - mae: 0.0733 - val_loss: 0.0093 - val_mae: 0.0636 - lr: 9.0000e-04\n",
            "Epoch 7/200\n",
            "603/603 [==============================] - 12s 21ms/step - loss: 0.0109 - mae: 0.0723 - val_loss: 0.0092 - val_mae: 0.0635 - lr: 9.0000e-04\n",
            "Epoch 8/200\n",
            "603/603 [==============================] - 13s 21ms/step - loss: 0.0106 - mae: 0.0713 - val_loss: 0.0091 - val_mae: 0.0615 - lr: 9.0000e-04\n",
            "Epoch 9/200\n",
            "603/603 [==============================] - 13s 21ms/step - loss: 0.0105 - mae: 0.0708 - val_loss: 0.0091 - val_mae: 0.0637 - lr: 9.0000e-04\n",
            "Epoch 10/200\n",
            "603/603 [==============================] - 13s 21ms/step - loss: 0.0104 - mae: 0.0705 - val_loss: 0.0088 - val_mae: 0.0610 - lr: 9.0000e-04\n",
            "Epoch 11/200\n",
            "603/603 [==============================] - 13s 21ms/step - loss: 0.0101 - mae: 0.0696 - val_loss: 0.0087 - val_mae: 0.0618 - lr: 8.1000e-04\n",
            "Epoch 12/200\n",
            "603/603 [==============================] - 13s 21ms/step - loss: 0.0101 - mae: 0.0696 - val_loss: 0.0085 - val_mae: 0.0598 - lr: 8.1000e-04\n",
            "Epoch 13/200\n",
            "603/603 [==============================] - 13s 21ms/step - loss: 0.0100 - mae: 0.0692 - val_loss: 0.0085 - val_mae: 0.0618 - lr: 8.1000e-04\n",
            "Epoch 14/200\n",
            "603/603 [==============================] - 13s 21ms/step - loss: 0.0099 - mae: 0.0692 - val_loss: 0.0085 - val_mae: 0.0615 - lr: 8.1000e-04\n",
            "Epoch 15/200\n",
            "603/603 [==============================] - 13s 21ms/step - loss: 0.0098 - mae: 0.0687 - val_loss: 0.0083 - val_mae: 0.0588 - lr: 8.1000e-04\n",
            "Epoch 16/200\n",
            "603/603 [==============================] - 13s 21ms/step - loss: 0.0097 - mae: 0.0682 - val_loss: 0.0082 - val_mae: 0.0589 - lr: 7.2900e-04\n",
            "Epoch 17/200\n",
            "603/603 [==============================] - 13s 21ms/step - loss: 0.0096 - mae: 0.0679 - val_loss: 0.0082 - val_mae: 0.0596 - lr: 7.2900e-04\n",
            "Epoch 18/200\n",
            "603/603 [==============================] - 13s 21ms/step - loss: 0.0095 - mae: 0.0678 - val_loss: 0.0081 - val_mae: 0.0591 - lr: 7.2900e-04\n",
            "Epoch 19/200\n",
            "603/603 [==============================] - 13s 21ms/step - loss: 0.0094 - mae: 0.0675 - val_loss: 0.0080 - val_mae: 0.0587 - lr: 7.2900e-04\n",
            "Epoch 20/200\n",
            "603/603 [==============================] - 13s 21ms/step - loss: 0.0094 - mae: 0.0672 - val_loss: 0.0078 - val_mae: 0.0570 - lr: 7.2900e-04\n",
            "Epoch 21/200\n",
            "603/603 [==============================] - 13s 21ms/step - loss: 0.0092 - mae: 0.0667 - val_loss: 0.0080 - val_mae: 0.0583 - lr: 6.5610e-04\n",
            "Epoch 22/200\n",
            "603/603 [==============================] - 13s 21ms/step - loss: 0.0091 - mae: 0.0663 - val_loss: 0.0079 - val_mae: 0.0587 - lr: 6.5610e-04\n",
            "Epoch 23/200\n",
            "603/603 [==============================] - 13s 21ms/step - loss: 0.0090 - mae: 0.0662 - val_loss: 0.0077 - val_mae: 0.0571 - lr: 6.5610e-04\n",
            "Epoch 24/200\n",
            "603/603 [==============================] - 13s 21ms/step - loss: 0.0090 - mae: 0.0660 - val_loss: 0.0080 - val_mae: 0.0607 - lr: 6.5610e-04\n",
            "Epoch 25/200\n",
            "603/603 [==============================] - 13s 21ms/step - loss: 0.0089 - mae: 0.0659 - val_loss: 0.0075 - val_mae: 0.0558 - lr: 6.5610e-04\n",
            "Epoch 26/200\n",
            "603/603 [==============================] - 13s 21ms/step - loss: 0.0088 - mae: 0.0652 - val_loss: 0.0075 - val_mae: 0.0565 - lr: 5.9049e-04\n",
            "Epoch 27/200\n",
            "603/603 [==============================] - 13s 21ms/step - loss: 0.0087 - mae: 0.0651 - val_loss: 0.0078 - val_mae: 0.0591 - lr: 5.9049e-04\n",
            "Epoch 28/200\n",
            "603/603 [==============================] - 12s 20ms/step - loss: 0.0086 - mae: 0.0647 - val_loss: 0.0078 - val_mae: 0.0589 - lr: 5.9049e-04\n",
            "Epoch 29/200\n",
            "603/603 [==============================] - 13s 21ms/step - loss: 0.0086 - mae: 0.0648 - val_loss: 0.0075 - val_mae: 0.0564 - lr: 5.9049e-04\n",
            "Epoch 30/200\n",
            "603/603 [==============================] - 13s 21ms/step - loss: 0.0085 - mae: 0.0644 - val_loss: 0.0073 - val_mae: 0.0550 - lr: 5.9049e-04\n",
            "Epoch 31/200\n",
            "603/603 [==============================] - 13s 21ms/step - loss: 0.0084 - mae: 0.0641 - val_loss: 0.0073 - val_mae: 0.0557 - lr: 5.3144e-04\n",
            "Epoch 32/200\n",
            "603/603 [==============================] - 13s 21ms/step - loss: 0.0083 - mae: 0.0636 - val_loss: 0.0074 - val_mae: 0.0566 - lr: 5.3144e-04\n",
            "Epoch 33/200\n",
            "603/603 [==============================] - 13s 21ms/step - loss: 0.0082 - mae: 0.0636 - val_loss: 0.0073 - val_mae: 0.0554 - lr: 5.3144e-04\n",
            "Epoch 34/200\n",
            "603/603 [==============================] - 13s 21ms/step - loss: 0.0082 - mae: 0.0635 - val_loss: 0.0073 - val_mae: 0.0561 - lr: 5.3144e-04\n",
            "Epoch 35/200\n",
            "601/603 [============================>.] - ETA: 0s - loss: 0.0081 - mae: 0.0633\n",
            "Epoch 35: ReduceLROnPlateau reducing learning rate to 0.00015943228499963879.\n",
            "603/603 [==============================] - 12s 21ms/step - loss: 0.0081 - mae: 0.0633 - val_loss: 0.0073 - val_mae: 0.0555 - lr: 5.3144e-04\n",
            "Epoch 36/200\n",
            "603/603 [==============================] - 12s 21ms/step - loss: 0.0080 - mae: 0.0628 - val_loss: 0.0072 - val_mae: 0.0549 - lr: 4.7830e-04\n",
            "Epoch 37/200\n",
            "603/603 [==============================] - 13s 21ms/step - loss: 0.0079 - mae: 0.0626 - val_loss: 0.0070 - val_mae: 0.0540 - lr: 4.7830e-04\n",
            "Epoch 38/200\n",
            "603/603 [==============================] - 13s 21ms/step - loss: 0.0079 - mae: 0.0624 - val_loss: 0.0070 - val_mae: 0.0536 - lr: 4.7830e-04\n",
            "Epoch 39/200\n",
            "603/603 [==============================] - 13s 21ms/step - loss: 0.0078 - mae: 0.0623 - val_loss: 0.0070 - val_mae: 0.0535 - lr: 4.7830e-04\n",
            "Epoch 40/200\n",
            "603/603 [==============================] - 13s 21ms/step - loss: 0.0078 - mae: 0.0622 - val_loss: 0.0069 - val_mae: 0.0534 - lr: 4.7830e-04\n",
            "Epoch 41/200\n",
            "603/603 [==============================] - 13s 21ms/step - loss: 0.0077 - mae: 0.0616 - val_loss: 0.0069 - val_mae: 0.0530 - lr: 4.3047e-04\n",
            "Epoch 42/200\n",
            "603/603 [==============================] - 12s 21ms/step - loss: 0.0076 - mae: 0.0615 - val_loss: 0.0070 - val_mae: 0.0543 - lr: 4.3047e-04\n",
            "Epoch 43/200\n",
            "603/603 [==============================] - 13s 21ms/step - loss: 0.0076 - mae: 0.0613 - val_loss: 0.0070 - val_mae: 0.0549 - lr: 4.3047e-04\n",
            "Epoch 44/200\n",
            "603/603 [==============================] - 13s 21ms/step - loss: 0.0075 - mae: 0.0611 - val_loss: 0.0072 - val_mae: 0.0568 - lr: 4.3047e-04\n",
            "Epoch 45/200\n",
            "602/603 [============================>.] - ETA: 0s - loss: 0.0075 - mae: 0.0610\n",
            "Epoch 45: ReduceLROnPlateau reducing learning rate to 0.0001291401480557397.\n",
            "603/603 [==============================] - 13s 21ms/step - loss: 0.0075 - mae: 0.0610 - val_loss: 0.0069 - val_mae: 0.0536 - lr: 4.3047e-04\n",
            "Epoch 46/200\n",
            "603/603 [==============================] - 13s 21ms/step - loss: 0.0074 - mae: 0.0607 - val_loss: 0.0068 - val_mae: 0.0524 - lr: 3.8742e-04\n",
            "Epoch 47/200\n",
            "603/603 [==============================] - 13s 21ms/step - loss: 0.0073 - mae: 0.0605 - val_loss: 0.0069 - val_mae: 0.0535 - lr: 3.8742e-04\n",
            "Epoch 48/200\n",
            "603/603 [==============================] - 12s 21ms/step - loss: 0.0073 - mae: 0.0602 - val_loss: 0.0069 - val_mae: 0.0548 - lr: 3.8742e-04\n",
            "Epoch 49/200\n",
            "603/603 [==============================] - 13s 21ms/step - loss: 0.0073 - mae: 0.0603 - val_loss: 0.0068 - val_mae: 0.0528 - lr: 3.8742e-04\n",
            "Epoch 50/200\n",
            "603/603 [==============================] - 13s 21ms/step - loss: 0.0072 - mae: 0.0600 - val_loss: 0.0067 - val_mae: 0.0526 - lr: 3.8742e-04\n",
            "Epoch 51/200\n",
            "603/603 [==============================] - ETA: 0s - loss: 0.0072 - mae: 0.0598\n",
            "Epoch 51: ReduceLROnPlateau reducing learning rate to 0.00010460350604262203.\n",
            "603/603 [==============================] - 13s 21ms/step - loss: 0.0072 - mae: 0.0598 - val_loss: 0.0069 - val_mae: 0.0538 - lr: 3.4868e-04\n",
            "Epoch 52/200\n",
            "603/603 [==============================] - 13s 21ms/step - loss: 0.0071 - mae: 0.0595 - val_loss: 0.0067 - val_mae: 0.0521 - lr: 3.4868e-04\n",
            "Epoch 53/200\n",
            "603/603 [==============================] - 13s 21ms/step - loss: 0.0071 - mae: 0.0595 - val_loss: 0.0067 - val_mae: 0.0526 - lr: 3.4868e-04\n",
            "Epoch 54/200\n",
            "603/603 [==============================] - 13s 21ms/step - loss: 0.0070 - mae: 0.0594 - val_loss: 0.0067 - val_mae: 0.0522 - lr: 3.4868e-04\n",
            "Epoch 55/200\n",
            "603/603 [==============================] - 13s 22ms/step - loss: 0.0070 - mae: 0.0593 - val_loss: 0.0066 - val_mae: 0.0519 - lr: 3.4868e-04\n",
            "Epoch 56/200\n",
            "603/603 [==============================] - 13s 21ms/step - loss: 0.0070 - mae: 0.0590 - val_loss: 0.0066 - val_mae: 0.0513 - lr: 3.1381e-04\n",
            "Epoch 57/200\n",
            "603/603 [==============================] - 13s 21ms/step - loss: 0.0069 - mae: 0.0588 - val_loss: 0.0066 - val_mae: 0.0519 - lr: 3.1381e-04\n",
            "Epoch 58/200\n",
            "603/603 [==============================] - 13s 21ms/step - loss: 0.0069 - mae: 0.0588 - val_loss: 0.0065 - val_mae: 0.0514 - lr: 3.1381e-04\n",
            "Epoch 59/200\n",
            "603/603 [==============================] - 13s 21ms/step - loss: 0.0068 - mae: 0.0586 - val_loss: 0.0067 - val_mae: 0.0538 - lr: 3.1381e-04\n",
            "Epoch 60/200\n",
            "603/603 [==============================] - 13s 21ms/step - loss: 0.0068 - mae: 0.0585 - val_loss: 0.0066 - val_mae: 0.0518 - lr: 3.1381e-04\n",
            "Epoch 61/200\n",
            "602/603 [============================>.] - ETA: 0s - loss: 0.0068 - mae: 0.0583\n",
            "Epoch 61: ReduceLROnPlateau reducing learning rate to 8.472883491776884e-05.\n",
            "603/603 [==============================] - 13s 21ms/step - loss: 0.0068 - mae: 0.0582 - val_loss: 0.0065 - val_mae: 0.0519 - lr: 2.8243e-04\n",
            "Epoch 62/200\n",
            "603/603 [==============================] - 13s 21ms/step - loss: 0.0067 - mae: 0.0581 - val_loss: 0.0066 - val_mae: 0.0523 - lr: 2.8243e-04\n",
            "Epoch 63/200\n",
            "603/603 [==============================] - 13s 21ms/step - loss: 0.0067 - mae: 0.0581 - val_loss: 0.0065 - val_mae: 0.0515 - lr: 2.8243e-04\n",
            "Epoch 64/200\n",
            "603/603 [==============================] - 13s 21ms/step - loss: 0.0067 - mae: 0.0580 - val_loss: 0.0065 - val_mae: 0.0510 - lr: 2.8243e-04\n",
            "Epoch 65/200\n",
            "603/603 [==============================] - 13s 21ms/step - loss: 0.0067 - mae: 0.0580 - val_loss: 0.0065 - val_mae: 0.0509 - lr: 2.8243e-04\n",
            "Epoch 66/200\n",
            "602/603 [============================>.] - ETA: 0s - loss: 0.0066 - mae: 0.0577\n",
            "Epoch 66: ReduceLROnPlateau reducing learning rate to 7.625594444107264e-05.\n",
            "603/603 [==============================] - 13s 21ms/step - loss: 0.0066 - mae: 0.0577 - val_loss: 0.0065 - val_mae: 0.0512 - lr: 2.5419e-04\n",
            "Epoch 67/200\n",
            "603/603 [==============================] - 13s 21ms/step - loss: 0.0066 - mae: 0.0576 - val_loss: 0.0064 - val_mae: 0.0508 - lr: 2.5419e-04\n",
            "Epoch 68/200\n",
            "603/603 [==============================] - 13s 21ms/step - loss: 0.0066 - mae: 0.0575 - val_loss: 0.0064 - val_mae: 0.0512 - lr: 2.5419e-04\n",
            "Epoch 69/200\n",
            "603/603 [==============================] - 12s 21ms/step - loss: 0.0065 - mae: 0.0573 - val_loss: 0.0064 - val_mae: 0.0508 - lr: 2.5419e-04\n",
            "Epoch 70/200\n",
            "603/603 [==============================] - 13s 21ms/step - loss: 0.0065 - mae: 0.0573 - val_loss: 0.0064 - val_mae: 0.0507 - lr: 2.5419e-04\n",
            "Epoch 71/200\n",
            "603/603 [==============================] - 13s 21ms/step - loss: 0.0065 - mae: 0.0572 - val_loss: 0.0064 - val_mae: 0.0509 - lr: 2.2877e-04\n",
            "Epoch 72/200\n",
            "603/603 [==============================] - ETA: 0s - loss: 0.0064 - mae: 0.0570\n",
            "Epoch 72: ReduceLROnPlateau reducing learning rate to 6.863035087008029e-05.\n",
            "603/603 [==============================] - 13s 21ms/step - loss: 0.0064 - mae: 0.0570 - val_loss: 0.0064 - val_mae: 0.0506 - lr: 2.2877e-04\n",
            "Epoch 73/200\n",
            "603/603 [==============================] - 13s 21ms/step - loss: 0.0064 - mae: 0.0568 - val_loss: 0.0064 - val_mae: 0.0507 - lr: 2.2877e-04\n",
            "Epoch 74/200\n",
            "603/603 [==============================] - 13s 21ms/step - loss: 0.0064 - mae: 0.0568 - val_loss: 0.0063 - val_mae: 0.0503 - lr: 2.2877e-04\n",
            "Epoch 75/200\n",
            "603/603 [==============================] - 13s 21ms/step - loss: 0.0064 - mae: 0.0568 - val_loss: 0.0063 - val_mae: 0.0504 - lr: 2.2877e-04\n",
            "Epoch 76/200\n",
            "603/603 [==============================] - 13s 21ms/step - loss: 0.0063 - mae: 0.0565 - val_loss: 0.0063 - val_mae: 0.0504 - lr: 2.0589e-04\n",
            "Epoch 77/200\n",
            "603/603 [==============================] - 13s 21ms/step - loss: 0.0063 - mae: 0.0564 - val_loss: 0.0063 - val_mae: 0.0507 - lr: 2.0589e-04\n",
            "Epoch 78/200\n",
            "603/603 [==============================] - 13s 21ms/step - loss: 0.0063 - mae: 0.0565 - val_loss: 0.0063 - val_mae: 0.0507 - lr: 2.0589e-04\n",
            "Epoch 79/200\n",
            "603/603 [==============================] - 13s 21ms/step - loss: 0.0063 - mae: 0.0563 - val_loss: 0.0063 - val_mae: 0.0503 - lr: 2.0589e-04\n",
            "Epoch 80/200\n",
            "603/603 [==============================] - 13s 21ms/step - loss: 0.0062 - mae: 0.0562 - val_loss: 0.0063 - val_mae: 0.0510 - lr: 2.0589e-04\n",
            "Epoch 81/200\n",
            "601/603 [============================>.] - ETA: 0s - loss: 0.0062 - mae: 0.0561\n",
            "Epoch 81: ReduceLROnPlateau reducing learning rate to 5.55905804503709e-05.\n",
            "603/603 [==============================] - 13s 21ms/step - loss: 0.0062 - mae: 0.0561 - val_loss: 0.0063 - val_mae: 0.0504 - lr: 1.8530e-04\n",
            "Epoch 82/200\n",
            "603/603 [==============================] - 13s 21ms/step - loss: 0.0062 - mae: 0.0560 - val_loss: 0.0063 - val_mae: 0.0501 - lr: 1.8530e-04\n",
            "Epoch 83/200\n",
            "603/603 [==============================] - 12s 21ms/step - loss: 0.0062 - mae: 0.0559 - val_loss: 0.0063 - val_mae: 0.0499 - lr: 1.8530e-04\n",
            "Epoch 84/200\n",
            "603/603 [==============================] - 13s 21ms/step - loss: 0.0062 - mae: 0.0560 - val_loss: 0.0063 - val_mae: 0.0502 - lr: 1.8530e-04\n",
            "Epoch 85/200\n",
            "603/603 [==============================] - 13s 21ms/step - loss: 0.0062 - mae: 0.0560 - val_loss: 0.0063 - val_mae: 0.0501 - lr: 1.8530e-04\n",
            "Epoch 86/200\n",
            "601/603 [============================>.] - ETA: 0s - loss: 0.0061 - mae: 0.0556\n",
            "Epoch 86: ReduceLROnPlateau reducing learning rate to 5.003151891287416e-05.\n",
            "603/603 [==============================] - 13s 21ms/step - loss: 0.0061 - mae: 0.0556 - val_loss: 0.0062 - val_mae: 0.0497 - lr: 1.6677e-04\n",
            "Epoch 87/200\n",
            "603/603 [==============================] - 13s 21ms/step - loss: 0.0061 - mae: 0.0556 - val_loss: 0.0062 - val_mae: 0.0498 - lr: 1.6677e-04\n",
            "Epoch 88/200\n",
            "603/603 [==============================] - 12s 21ms/step - loss: 0.0061 - mae: 0.0556 - val_loss: 0.0063 - val_mae: 0.0501 - lr: 1.6677e-04\n",
            "Epoch 89/200\n",
            "603/603 [==============================] - 13s 21ms/step - loss: 0.0061 - mae: 0.0555 - val_loss: 0.0062 - val_mae: 0.0498 - lr: 1.6677e-04\n",
            "Epoch 90/200\n",
            "603/603 [==============================] - 13s 21ms/step - loss: 0.0061 - mae: 0.0554 - val_loss: 0.0062 - val_mae: 0.0499 - lr: 1.6677e-04\n",
            "Epoch 91/200\n",
            "603/603 [==============================] - 13s 22ms/step - loss: 0.0060 - mae: 0.0552 - val_loss: 0.0062 - val_mae: 0.0496 - lr: 1.5009e-04\n",
            "Epoch 92/200\n",
            "603/603 [==============================] - 13s 21ms/step - loss: 0.0060 - mae: 0.0552 - val_loss: 0.0062 - val_mae: 0.0496 - lr: 1.5009e-04\n",
            "Epoch 93/200\n",
            "603/603 [==============================] - 13s 22ms/step - loss: 0.0060 - mae: 0.0552 - val_loss: 0.0062 - val_mae: 0.0500 - lr: 1.5009e-04\n",
            "Epoch 94/200\n",
            "603/603 [==============================] - 13s 21ms/step - loss: 0.0060 - mae: 0.0551 - val_loss: 0.0062 - val_mae: 0.0497 - lr: 1.5009e-04\n",
            "Epoch 95/200\n",
            "603/603 [==============================] - 13s 21ms/step - loss: 0.0060 - mae: 0.0552 - val_loss: 0.0062 - val_mae: 0.0496 - lr: 1.5009e-04\n",
            "Epoch 96/200\n",
            "603/603 [==============================] - ETA: 0s - loss: 0.0059 - mae: 0.0550\n",
            "Epoch 96: ReduceLROnPlateau reducing learning rate to 4.052552831126377e-05.\n",
            "603/603 [==============================] - 13s 21ms/step - loss: 0.0059 - mae: 0.0550 - val_loss: 0.0062 - val_mae: 0.0493 - lr: 1.3509e-04\n",
            "Epoch 97/200\n",
            "603/603 [==============================] - 13s 21ms/step - loss: 0.0059 - mae: 0.0549 - val_loss: 0.0062 - val_mae: 0.0498 - lr: 1.3509e-04\n",
            "Epoch 98/200\n",
            "603/603 [==============================] - 13s 21ms/step - loss: 0.0059 - mae: 0.0548 - val_loss: 0.0062 - val_mae: 0.0496 - lr: 1.3509e-04\n",
            "Epoch 99/200\n",
            "603/603 [==============================] - 13s 22ms/step - loss: 0.0059 - mae: 0.0547 - val_loss: 0.0062 - val_mae: 0.0499 - lr: 1.3509e-04\n",
            "Epoch 100/200\n",
            "603/603 [==============================] - 13s 22ms/step - loss: 0.0059 - mae: 0.0547 - val_loss: 0.0062 - val_mae: 0.0495 - lr: 1.3509e-04\n",
            "Epoch 101/200\n",
            "602/603 [============================>.] - ETA: 0s - loss: 0.0059 - mae: 0.0546\n",
            "Epoch 101: ReduceLROnPlateau reducing learning rate to 3.647297853603959e-05.\n",
            "603/603 [==============================] - 13s 21ms/step - loss: 0.0059 - mae: 0.0546 - val_loss: 0.0062 - val_mae: 0.0495 - lr: 1.2158e-04\n",
            "Epoch 102/200\n",
            "603/603 [==============================] - 13s 21ms/step - loss: 0.0059 - mae: 0.0546 - val_loss: 0.0062 - val_mae: 0.0494 - lr: 1.2158e-04\n",
            "Epoch 103/200\n",
            "603/603 [==============================] - 13s 21ms/step - loss: 0.0059 - mae: 0.0546 - val_loss: 0.0062 - val_mae: 0.0496 - lr: 1.2158e-04\n",
            "Epoch 104/200\n",
            "603/603 [==============================] - 13s 21ms/step - loss: 0.0059 - mae: 0.0546 - val_loss: 0.0061 - val_mae: 0.0493 - lr: 1.2158e-04\n",
            "Epoch 105/200\n",
            "603/603 [==============================] - 13s 21ms/step - loss: 0.0058 - mae: 0.0544 - val_loss: 0.0061 - val_mae: 0.0492 - lr: 1.2158e-04\n",
            "Epoch 106/200\n",
            "601/603 [============================>.] - ETA: 0s - loss: 0.0058 - mae: 0.0544\n",
            "Epoch 106: ReduceLROnPlateau reducing learning rate to 3.282568068243563e-05.\n",
            "Restoring model weights from the end of the best epoch: 91.\n",
            "603/603 [==============================] - 13s 21ms/step - loss: 0.0058 - mae: 0.0544 - val_loss: 0.0061 - val_mae: 0.0490 - lr: 1.0942e-04\n",
            "Epoch 106: early stopping\n"
          ]
        },
        {
          "output_type": "display_data",
          "data": {
            "text/plain": [
              "VBox(children=(Label(value='0.001 MB of 0.001 MB uploaded\\r'), FloatProgress(value=1.0, max=1.0)))"
            ],
            "application/vnd.jupyter.widget-view+json": {
              "version_major": 2,
              "version_minor": 0,
              "model_id": "47d1c01015d64d0fbe747a91dbc913a4"
            }
          },
          "metadata": {}
        },
        {
          "output_type": "display_data",
          "data": {
            "text/plain": [
              "<IPython.core.display.HTML object>"
            ],
            "text/html": [
              "<style>\n",
              "    table.wandb td:nth-child(1) { padding: 0 10px; text-align: left ; width: auto;} td:nth-child(2) {text-align: left ; width: 100%}\n",
              "    .wandb-row { display: flex; flex-direction: row; flex-wrap: wrap; justify-content: flex-start; width: 100% }\n",
              "    .wandb-col { display: flex; flex-direction: column; flex-basis: 100%; flex: 1; padding: 10px; }\n",
              "    </style>\n",
              "<div class=\"wandb-row\"><div class=\"wandb-col\"><h3>Run history:</h3><br/><table class=\"wandb\"><tr><td>epoch/epoch</td><td>▁▁▁▂▂▂▂▂▂▃▃▃▃▃▃▄▄▄▄▄▅▅▅▅▅▅▆▆▆▆▆▇▇▇▇▇▇███</td></tr><tr><td>epoch/learning_rate</td><td>██▇▇▇▇▆▆▆▆▅▅▅▄▄▄▄▄▄▃▃▃▃▃▃▃▂▂▂▂▁▂▂▂▂▂▂▂▂▁</td></tr><tr><td>epoch/loss</td><td>█▃▂▂▂▂▂▂▂▂▂▂▂▂▁▁▁▁▁▁▁▁▁▁▁▁▁▁▁▁▁▁▁▁▁▁▁▁▁▁</td></tr><tr><td>epoch/lr</td><td>██▇▇▇▇▆▆▅▅▅▅▄▄▄▄▄▃▃▃▃▃▃▂▂▂▂▂▂▂▂▂▁▁▁▁▁▁▁▁</td></tr><tr><td>epoch/mae</td><td>█▄▃▃▂▂▂▂▂▂▂▂▂▂▂▂▂▂▂▁▁▁▁▁▁▁▁▁▁▁▁▁▁▁▁▁▁▁▁▁</td></tr><tr><td>epoch/val_loss</td><td>█▇▆▆▅▅▄▄▄▃▄▃▃▃▂▂▃▂▂▂▂▂▂▂▂▂▁▁▁▁▁▁▁▁▁▁▁▁▁▁</td></tr><tr><td>epoch/val_mae</td><td>█▆▆▆▅▅▄▄▄▃▄▃▃▃▂▂▃▂▂▂▂▂▂▂▂▂▂▂▁▁▁▁▁▁▁▁▁▁▁▁</td></tr></table><br/></div><div class=\"wandb-col\"><h3>Run summary:</h3><br/><table class=\"wandb\"><tr><td>epoch/epoch</td><td>105</td></tr><tr><td>epoch/learning_rate</td><td>3e-05</td></tr><tr><td>epoch/loss</td><td>0.00581</td></tr><tr><td>epoch/lr</td><td>0.00011</td></tr><tr><td>epoch/mae</td><td>0.05438</td></tr><tr><td>epoch/val_loss</td><td>0.00613</td></tr><tr><td>epoch/val_mae</td><td>0.04905</td></tr></table><br/></div></div>"
            ]
          },
          "metadata": {}
        },
        {
          "output_type": "display_data",
          "data": {
            "text/plain": [
              "<IPython.core.display.HTML object>"
            ],
            "text/html": [
              " View run <strong style=\"color:#cdcd00\">soft-sweep-20</strong> at: <a href='https://wandb.ai/alberto-pirillo/anndl-forecasting/runs/2fop4sw7' target=\"_blank\">https://wandb.ai/alberto-pirillo/anndl-forecasting/runs/2fop4sw7</a><br/>Synced 5 W&B file(s), 0 media file(s), 0 artifact file(s) and 0 other file(s)"
            ]
          },
          "metadata": {}
        },
        {
          "output_type": "display_data",
          "data": {
            "text/plain": [
              "<IPython.core.display.HTML object>"
            ],
            "text/html": [
              "Find logs at: <code>./wandb/run-20231218_152107-2fop4sw7/logs</code>"
            ]
          },
          "metadata": {}
        },
        {
          "output_type": "stream",
          "name": "stderr",
          "text": [
            "\u001b[34m\u001b[1mwandb\u001b[0m: Sweep Agent: Waiting for job.\n",
            "\u001b[34m\u001b[1mwandb\u001b[0m: Sweep Agent: Exiting.\n"
          ]
        }
      ],
      "source": [
        "# Start the hyperparameter sweep\n",
        "wandb.agent('mbbt7ltu', run, count=None, project='anndl-forecasting')"
      ],
      "metadata": {
        "is_executing": true,
        "ExecuteTime": {
          "start_time": "2023-12-18T08:41:27.259373066Z"
        },
        "colab": {
          "base_uri": "https://localhost:8080/",
          "height": 1000,
          "referenced_widgets": [
            "03a1456591914c7ca53c510641210c20",
            "3f942b5a7de64238b9a550a5e226912f",
            "b084b5f73f1d4d1da77551a54356cf14",
            "bd624c5f4c2b44e6b37225d7f93357e6",
            "2644df66b98644e8855b828c0e5197a0",
            "b90b7acd6a704f0ba4a3c866ba434612",
            "af2130a88e0943528518b6071f60de39",
            "3fa8e311f80742d0a7f326b393fe9aa3",
            "5eef78a9b20a4080a179b7b015f769d2",
            "8ecb2a9039804494956591732fc3abfa",
            "1c6aa3d60efe488f89a374cb54901756",
            "c6a73ca8ab224394a2c84047b1a78287",
            "ee460838419d4e9baa07d46559118021",
            "dc83a5e7d9cd40c8a0a2f931cf00f447",
            "eac7b9379e42404a9f6efd021fed6af0",
            "69abf0e7d6d1404dbdb884a8c5cd7b9a",
            "6cecefe075b140eb92980b114ebeabeb",
            "45dab3891a7f4301affd1082e8af6ff7",
            "d6a40f6ed6d04f14abba1ea28640b540",
            "c3b7019b57c14f95b488102f896cc3cf",
            "3016eb0918b74f7db089043fecd133dc",
            "a7d1c4df2ce548aebbddc6996ed264b2",
            "c190f3ba3ded4be1b4dd727376ce78f6",
            "3b023ca4c3964f3fb550945e756f7c78",
            "cdc9d5c98b704b22a069220b99d25ac5",
            "0a76947f8c86403fabd5cb888fbe6678",
            "d3e36f6b65604661b1c7dbda2a8c3956",
            "0a2a7d36d44245598c90d5ae614e2c30",
            "738a52cf5c6a44c080a481b066a53e78",
            "7607ad3cf6a24abb8af6863ce5742777",
            "13bb52b08c6c4261a5bf4936deae5227",
            "13adba5bac4e4b06aa33aa5d63b58ffd",
            "a0b3c65b3eec451890975a56750cf4f1",
            "25397073cdc24685ae80de00f9663e97",
            "06108cb7afeb4669aa4054291bba9416",
            "e87282d1f43941488d7059ee09f86402",
            "d3bd6b63b03a4496acc41f77105a2bba",
            "b8bb1696754048f68fb68df633d1a63e",
            "73eefcf8d93448fdb697bdc7c3b45ec0",
            "c2b757f819484cd78ab71f6bf8e40459",
            "47d1c01015d64d0fbe747a91dbc913a4",
            "913d2af2849e4f52a8d116cff4c2a1e5",
            "97d1d2f41e4e46d7878b1218fc1665c1",
            "0d8ce4a601384c44ae5e15f0263ac74d",
            "cb032c2216c64454930c35845b603d06",
            "7a1da1276d404aa89060fc2ad535d9d2",
            "5359da0eec5045f087ae4bd571b2757d",
            "bb3b44fbe39d4f35be6a14a0165e111c"
          ]
        },
        "id": "lFIghlCWHV28",
        "outputId": "74dd462a-8666-45fb-8cd2-6900b835248d"
      }
    },
    {
      "cell_type": "markdown",
      "source": [
        "## Test a model"
      ],
      "metadata": {
        "collapsed": false,
        "id": "saW9Jf9GHV28"
      }
    },
    {
      "cell_type": "code",
      "execution_count": null,
      "outputs": [],
      "source": [
        "model = tfk.models.load_model('models/' + model_name )"
      ],
      "metadata": {
        "is_executing": true,
        "id": "yF446ZDxHV28"
      }
    },
    {
      "cell_type": "code",
      "execution_count": null,
      "outputs": [],
      "source": [
        "mse, mae = model.evaluate(X_val, y_val)\n",
        "print(f\"Mean Squared Error: {mse}\")\n",
        "print(f\"Mean Absolute Error: {mae}\")"
      ],
      "metadata": {
        "id": "mKBbGS6UlIUV",
        "is_executing": true
      }
    }
  ],
  "metadata": {
    "accelerator": "GPU",
    "colab": {
      "provenance": [],
      "collapsed_sections": [
        "ap3o8JayfgEM",
        "efzZcamrkckv"
      ]
    },
    "kernelspec": {
      "name": "python3",
      "language": "python",
      "display_name": "Python 3 (ipykernel)"
    },
    "language_info": {
      "name": "python"
    },
    "widgets": {
      "application/vnd.jupyter.widget-state+json": {
        "03a1456591914c7ca53c510641210c20": {
          "model_module": "@jupyter-widgets/controls",
          "model_name": "VBoxModel",
          "model_module_version": "1.5.0",
          "state": {
            "_dom_classes": [],
            "_model_module": "@jupyter-widgets/controls",
            "_model_module_version": "1.5.0",
            "_model_name": "VBoxModel",
            "_view_count": null,
            "_view_module": "@jupyter-widgets/controls",
            "_view_module_version": "1.5.0",
            "_view_name": "VBoxView",
            "box_style": "",
            "children": [
              "IPY_MODEL_3f942b5a7de64238b9a550a5e226912f",
              "IPY_MODEL_b084b5f73f1d4d1da77551a54356cf14"
            ],
            "layout": "IPY_MODEL_bd624c5f4c2b44e6b37225d7f93357e6"
          }
        },
        "3f942b5a7de64238b9a550a5e226912f": {
          "model_module": "@jupyter-widgets/controls",
          "model_name": "LabelModel",
          "model_module_version": "1.5.0",
          "state": {
            "_dom_classes": [],
            "_model_module": "@jupyter-widgets/controls",
            "_model_module_version": "1.5.0",
            "_model_name": "LabelModel",
            "_view_count": null,
            "_view_module": "@jupyter-widgets/controls",
            "_view_module_version": "1.5.0",
            "_view_name": "LabelView",
            "description": "",
            "description_tooltip": null,
            "layout": "IPY_MODEL_2644df66b98644e8855b828c0e5197a0",
            "placeholder": "​",
            "style": "IPY_MODEL_b90b7acd6a704f0ba4a3c866ba434612",
            "value": "0.044 MB of 0.044 MB uploaded\r"
          }
        },
        "b084b5f73f1d4d1da77551a54356cf14": {
          "model_module": "@jupyter-widgets/controls",
          "model_name": "FloatProgressModel",
          "model_module_version": "1.5.0",
          "state": {
            "_dom_classes": [],
            "_model_module": "@jupyter-widgets/controls",
            "_model_module_version": "1.5.0",
            "_model_name": "FloatProgressModel",
            "_view_count": null,
            "_view_module": "@jupyter-widgets/controls",
            "_view_module_version": "1.5.0",
            "_view_name": "ProgressView",
            "bar_style": "",
            "description": "",
            "description_tooltip": null,
            "layout": "IPY_MODEL_af2130a88e0943528518b6071f60de39",
            "max": 1,
            "min": 0,
            "orientation": "horizontal",
            "style": "IPY_MODEL_3fa8e311f80742d0a7f326b393fe9aa3",
            "value": 1
          }
        },
        "bd624c5f4c2b44e6b37225d7f93357e6": {
          "model_module": "@jupyter-widgets/base",
          "model_name": "LayoutModel",
          "model_module_version": "1.2.0",
          "state": {
            "_model_module": "@jupyter-widgets/base",
            "_model_module_version": "1.2.0",
            "_model_name": "LayoutModel",
            "_view_count": null,
            "_view_module": "@jupyter-widgets/base",
            "_view_module_version": "1.2.0",
            "_view_name": "LayoutView",
            "align_content": null,
            "align_items": null,
            "align_self": null,
            "border": null,
            "bottom": null,
            "display": null,
            "flex": null,
            "flex_flow": null,
            "grid_area": null,
            "grid_auto_columns": null,
            "grid_auto_flow": null,
            "grid_auto_rows": null,
            "grid_column": null,
            "grid_gap": null,
            "grid_row": null,
            "grid_template_areas": null,
            "grid_template_columns": null,
            "grid_template_rows": null,
            "height": null,
            "justify_content": null,
            "justify_items": null,
            "left": null,
            "margin": null,
            "max_height": null,
            "max_width": null,
            "min_height": null,
            "min_width": null,
            "object_fit": null,
            "object_position": null,
            "order": null,
            "overflow": null,
            "overflow_x": null,
            "overflow_y": null,
            "padding": null,
            "right": null,
            "top": null,
            "visibility": null,
            "width": null
          }
        },
        "2644df66b98644e8855b828c0e5197a0": {
          "model_module": "@jupyter-widgets/base",
          "model_name": "LayoutModel",
          "model_module_version": "1.2.0",
          "state": {
            "_model_module": "@jupyter-widgets/base",
            "_model_module_version": "1.2.0",
            "_model_name": "LayoutModel",
            "_view_count": null,
            "_view_module": "@jupyter-widgets/base",
            "_view_module_version": "1.2.0",
            "_view_name": "LayoutView",
            "align_content": null,
            "align_items": null,
            "align_self": null,
            "border": null,
            "bottom": null,
            "display": null,
            "flex": null,
            "flex_flow": null,
            "grid_area": null,
            "grid_auto_columns": null,
            "grid_auto_flow": null,
            "grid_auto_rows": null,
            "grid_column": null,
            "grid_gap": null,
            "grid_row": null,
            "grid_template_areas": null,
            "grid_template_columns": null,
            "grid_template_rows": null,
            "height": null,
            "justify_content": null,
            "justify_items": null,
            "left": null,
            "margin": null,
            "max_height": null,
            "max_width": null,
            "min_height": null,
            "min_width": null,
            "object_fit": null,
            "object_position": null,
            "order": null,
            "overflow": null,
            "overflow_x": null,
            "overflow_y": null,
            "padding": null,
            "right": null,
            "top": null,
            "visibility": null,
            "width": null
          }
        },
        "b90b7acd6a704f0ba4a3c866ba434612": {
          "model_module": "@jupyter-widgets/controls",
          "model_name": "DescriptionStyleModel",
          "model_module_version": "1.5.0",
          "state": {
            "_model_module": "@jupyter-widgets/controls",
            "_model_module_version": "1.5.0",
            "_model_name": "DescriptionStyleModel",
            "_view_count": null,
            "_view_module": "@jupyter-widgets/base",
            "_view_module_version": "1.2.0",
            "_view_name": "StyleView",
            "description_width": ""
          }
        },
        "af2130a88e0943528518b6071f60de39": {
          "model_module": "@jupyter-widgets/base",
          "model_name": "LayoutModel",
          "model_module_version": "1.2.0",
          "state": {
            "_model_module": "@jupyter-widgets/base",
            "_model_module_version": "1.2.0",
            "_model_name": "LayoutModel",
            "_view_count": null,
            "_view_module": "@jupyter-widgets/base",
            "_view_module_version": "1.2.0",
            "_view_name": "LayoutView",
            "align_content": null,
            "align_items": null,
            "align_self": null,
            "border": null,
            "bottom": null,
            "display": null,
            "flex": null,
            "flex_flow": null,
            "grid_area": null,
            "grid_auto_columns": null,
            "grid_auto_flow": null,
            "grid_auto_rows": null,
            "grid_column": null,
            "grid_gap": null,
            "grid_row": null,
            "grid_template_areas": null,
            "grid_template_columns": null,
            "grid_template_rows": null,
            "height": null,
            "justify_content": null,
            "justify_items": null,
            "left": null,
            "margin": null,
            "max_height": null,
            "max_width": null,
            "min_height": null,
            "min_width": null,
            "object_fit": null,
            "object_position": null,
            "order": null,
            "overflow": null,
            "overflow_x": null,
            "overflow_y": null,
            "padding": null,
            "right": null,
            "top": null,
            "visibility": null,
            "width": null
          }
        },
        "3fa8e311f80742d0a7f326b393fe9aa3": {
          "model_module": "@jupyter-widgets/controls",
          "model_name": "ProgressStyleModel",
          "model_module_version": "1.5.0",
          "state": {
            "_model_module": "@jupyter-widgets/controls",
            "_model_module_version": "1.5.0",
            "_model_name": "ProgressStyleModel",
            "_view_count": null,
            "_view_module": "@jupyter-widgets/base",
            "_view_module_version": "1.2.0",
            "_view_name": "StyleView",
            "bar_color": null,
            "description_width": ""
          }
        },
        "5eef78a9b20a4080a179b7b015f769d2": {
          "model_module": "@jupyter-widgets/controls",
          "model_name": "VBoxModel",
          "model_module_version": "1.5.0",
          "state": {
            "_dom_classes": [],
            "_model_module": "@jupyter-widgets/controls",
            "_model_module_version": "1.5.0",
            "_model_name": "VBoxModel",
            "_view_count": null,
            "_view_module": "@jupyter-widgets/controls",
            "_view_module_version": "1.5.0",
            "_view_name": "VBoxView",
            "box_style": "",
            "children": [
              "IPY_MODEL_8ecb2a9039804494956591732fc3abfa",
              "IPY_MODEL_1c6aa3d60efe488f89a374cb54901756"
            ],
            "layout": "IPY_MODEL_c6a73ca8ab224394a2c84047b1a78287"
          }
        },
        "8ecb2a9039804494956591732fc3abfa": {
          "model_module": "@jupyter-widgets/controls",
          "model_name": "LabelModel",
          "model_module_version": "1.5.0",
          "state": {
            "_dom_classes": [],
            "_model_module": "@jupyter-widgets/controls",
            "_model_module_version": "1.5.0",
            "_model_name": "LabelModel",
            "_view_count": null,
            "_view_module": "@jupyter-widgets/controls",
            "_view_module_version": "1.5.0",
            "_view_name": "LabelView",
            "description": "",
            "description_tooltip": null,
            "layout": "IPY_MODEL_ee460838419d4e9baa07d46559118021",
            "placeholder": "​",
            "style": "IPY_MODEL_dc83a5e7d9cd40c8a0a2f931cf00f447",
            "value": "0.039 MB of 0.039 MB uploaded\r"
          }
        },
        "1c6aa3d60efe488f89a374cb54901756": {
          "model_module": "@jupyter-widgets/controls",
          "model_name": "FloatProgressModel",
          "model_module_version": "1.5.0",
          "state": {
            "_dom_classes": [],
            "_model_module": "@jupyter-widgets/controls",
            "_model_module_version": "1.5.0",
            "_model_name": "FloatProgressModel",
            "_view_count": null,
            "_view_module": "@jupyter-widgets/controls",
            "_view_module_version": "1.5.0",
            "_view_name": "ProgressView",
            "bar_style": "",
            "description": "",
            "description_tooltip": null,
            "layout": "IPY_MODEL_eac7b9379e42404a9f6efd021fed6af0",
            "max": 1,
            "min": 0,
            "orientation": "horizontal",
            "style": "IPY_MODEL_69abf0e7d6d1404dbdb884a8c5cd7b9a",
            "value": 1
          }
        },
        "c6a73ca8ab224394a2c84047b1a78287": {
          "model_module": "@jupyter-widgets/base",
          "model_name": "LayoutModel",
          "model_module_version": "1.2.0",
          "state": {
            "_model_module": "@jupyter-widgets/base",
            "_model_module_version": "1.2.0",
            "_model_name": "LayoutModel",
            "_view_count": null,
            "_view_module": "@jupyter-widgets/base",
            "_view_module_version": "1.2.0",
            "_view_name": "LayoutView",
            "align_content": null,
            "align_items": null,
            "align_self": null,
            "border": null,
            "bottom": null,
            "display": null,
            "flex": null,
            "flex_flow": null,
            "grid_area": null,
            "grid_auto_columns": null,
            "grid_auto_flow": null,
            "grid_auto_rows": null,
            "grid_column": null,
            "grid_gap": null,
            "grid_row": null,
            "grid_template_areas": null,
            "grid_template_columns": null,
            "grid_template_rows": null,
            "height": null,
            "justify_content": null,
            "justify_items": null,
            "left": null,
            "margin": null,
            "max_height": null,
            "max_width": null,
            "min_height": null,
            "min_width": null,
            "object_fit": null,
            "object_position": null,
            "order": null,
            "overflow": null,
            "overflow_x": null,
            "overflow_y": null,
            "padding": null,
            "right": null,
            "top": null,
            "visibility": null,
            "width": null
          }
        },
        "ee460838419d4e9baa07d46559118021": {
          "model_module": "@jupyter-widgets/base",
          "model_name": "LayoutModel",
          "model_module_version": "1.2.0",
          "state": {
            "_model_module": "@jupyter-widgets/base",
            "_model_module_version": "1.2.0",
            "_model_name": "LayoutModel",
            "_view_count": null,
            "_view_module": "@jupyter-widgets/base",
            "_view_module_version": "1.2.0",
            "_view_name": "LayoutView",
            "align_content": null,
            "align_items": null,
            "align_self": null,
            "border": null,
            "bottom": null,
            "display": null,
            "flex": null,
            "flex_flow": null,
            "grid_area": null,
            "grid_auto_columns": null,
            "grid_auto_flow": null,
            "grid_auto_rows": null,
            "grid_column": null,
            "grid_gap": null,
            "grid_row": null,
            "grid_template_areas": null,
            "grid_template_columns": null,
            "grid_template_rows": null,
            "height": null,
            "justify_content": null,
            "justify_items": null,
            "left": null,
            "margin": null,
            "max_height": null,
            "max_width": null,
            "min_height": null,
            "min_width": null,
            "object_fit": null,
            "object_position": null,
            "order": null,
            "overflow": null,
            "overflow_x": null,
            "overflow_y": null,
            "padding": null,
            "right": null,
            "top": null,
            "visibility": null,
            "width": null
          }
        },
        "dc83a5e7d9cd40c8a0a2f931cf00f447": {
          "model_module": "@jupyter-widgets/controls",
          "model_name": "DescriptionStyleModel",
          "model_module_version": "1.5.0",
          "state": {
            "_model_module": "@jupyter-widgets/controls",
            "_model_module_version": "1.5.0",
            "_model_name": "DescriptionStyleModel",
            "_view_count": null,
            "_view_module": "@jupyter-widgets/base",
            "_view_module_version": "1.2.0",
            "_view_name": "StyleView",
            "description_width": ""
          }
        },
        "eac7b9379e42404a9f6efd021fed6af0": {
          "model_module": "@jupyter-widgets/base",
          "model_name": "LayoutModel",
          "model_module_version": "1.2.0",
          "state": {
            "_model_module": "@jupyter-widgets/base",
            "_model_module_version": "1.2.0",
            "_model_name": "LayoutModel",
            "_view_count": null,
            "_view_module": "@jupyter-widgets/base",
            "_view_module_version": "1.2.0",
            "_view_name": "LayoutView",
            "align_content": null,
            "align_items": null,
            "align_self": null,
            "border": null,
            "bottom": null,
            "display": null,
            "flex": null,
            "flex_flow": null,
            "grid_area": null,
            "grid_auto_columns": null,
            "grid_auto_flow": null,
            "grid_auto_rows": null,
            "grid_column": null,
            "grid_gap": null,
            "grid_row": null,
            "grid_template_areas": null,
            "grid_template_columns": null,
            "grid_template_rows": null,
            "height": null,
            "justify_content": null,
            "justify_items": null,
            "left": null,
            "margin": null,
            "max_height": null,
            "max_width": null,
            "min_height": null,
            "min_width": null,
            "object_fit": null,
            "object_position": null,
            "order": null,
            "overflow": null,
            "overflow_x": null,
            "overflow_y": null,
            "padding": null,
            "right": null,
            "top": null,
            "visibility": null,
            "width": null
          }
        },
        "69abf0e7d6d1404dbdb884a8c5cd7b9a": {
          "model_module": "@jupyter-widgets/controls",
          "model_name": "ProgressStyleModel",
          "model_module_version": "1.5.0",
          "state": {
            "_model_module": "@jupyter-widgets/controls",
            "_model_module_version": "1.5.0",
            "_model_name": "ProgressStyleModel",
            "_view_count": null,
            "_view_module": "@jupyter-widgets/base",
            "_view_module_version": "1.2.0",
            "_view_name": "StyleView",
            "bar_color": null,
            "description_width": ""
          }
        },
        "6cecefe075b140eb92980b114ebeabeb": {
          "model_module": "@jupyter-widgets/controls",
          "model_name": "VBoxModel",
          "model_module_version": "1.5.0",
          "state": {
            "_dom_classes": [],
            "_model_module": "@jupyter-widgets/controls",
            "_model_module_version": "1.5.0",
            "_model_name": "VBoxModel",
            "_view_count": null,
            "_view_module": "@jupyter-widgets/controls",
            "_view_module_version": "1.5.0",
            "_view_name": "VBoxView",
            "box_style": "",
            "children": [
              "IPY_MODEL_45dab3891a7f4301affd1082e8af6ff7",
              "IPY_MODEL_d6a40f6ed6d04f14abba1ea28640b540"
            ],
            "layout": "IPY_MODEL_c3b7019b57c14f95b488102f896cc3cf"
          }
        },
        "45dab3891a7f4301affd1082e8af6ff7": {
          "model_module": "@jupyter-widgets/controls",
          "model_name": "LabelModel",
          "model_module_version": "1.5.0",
          "state": {
            "_dom_classes": [],
            "_model_module": "@jupyter-widgets/controls",
            "_model_module_version": "1.5.0",
            "_model_name": "LabelModel",
            "_view_count": null,
            "_view_module": "@jupyter-widgets/controls",
            "_view_module_version": "1.5.0",
            "_view_name": "LabelView",
            "description": "",
            "description_tooltip": null,
            "layout": "IPY_MODEL_3016eb0918b74f7db089043fecd133dc",
            "placeholder": "​",
            "style": "IPY_MODEL_a7d1c4df2ce548aebbddc6996ed264b2",
            "value": "0.039 MB of 0.039 MB uploaded\r"
          }
        },
        "d6a40f6ed6d04f14abba1ea28640b540": {
          "model_module": "@jupyter-widgets/controls",
          "model_name": "FloatProgressModel",
          "model_module_version": "1.5.0",
          "state": {
            "_dom_classes": [],
            "_model_module": "@jupyter-widgets/controls",
            "_model_module_version": "1.5.0",
            "_model_name": "FloatProgressModel",
            "_view_count": null,
            "_view_module": "@jupyter-widgets/controls",
            "_view_module_version": "1.5.0",
            "_view_name": "ProgressView",
            "bar_style": "",
            "description": "",
            "description_tooltip": null,
            "layout": "IPY_MODEL_c190f3ba3ded4be1b4dd727376ce78f6",
            "max": 1,
            "min": 0,
            "orientation": "horizontal",
            "style": "IPY_MODEL_3b023ca4c3964f3fb550945e756f7c78",
            "value": 1
          }
        },
        "c3b7019b57c14f95b488102f896cc3cf": {
          "model_module": "@jupyter-widgets/base",
          "model_name": "LayoutModel",
          "model_module_version": "1.2.0",
          "state": {
            "_model_module": "@jupyter-widgets/base",
            "_model_module_version": "1.2.0",
            "_model_name": "LayoutModel",
            "_view_count": null,
            "_view_module": "@jupyter-widgets/base",
            "_view_module_version": "1.2.0",
            "_view_name": "LayoutView",
            "align_content": null,
            "align_items": null,
            "align_self": null,
            "border": null,
            "bottom": null,
            "display": null,
            "flex": null,
            "flex_flow": null,
            "grid_area": null,
            "grid_auto_columns": null,
            "grid_auto_flow": null,
            "grid_auto_rows": null,
            "grid_column": null,
            "grid_gap": null,
            "grid_row": null,
            "grid_template_areas": null,
            "grid_template_columns": null,
            "grid_template_rows": null,
            "height": null,
            "justify_content": null,
            "justify_items": null,
            "left": null,
            "margin": null,
            "max_height": null,
            "max_width": null,
            "min_height": null,
            "min_width": null,
            "object_fit": null,
            "object_position": null,
            "order": null,
            "overflow": null,
            "overflow_x": null,
            "overflow_y": null,
            "padding": null,
            "right": null,
            "top": null,
            "visibility": null,
            "width": null
          }
        },
        "3016eb0918b74f7db089043fecd133dc": {
          "model_module": "@jupyter-widgets/base",
          "model_name": "LayoutModel",
          "model_module_version": "1.2.0",
          "state": {
            "_model_module": "@jupyter-widgets/base",
            "_model_module_version": "1.2.0",
            "_model_name": "LayoutModel",
            "_view_count": null,
            "_view_module": "@jupyter-widgets/base",
            "_view_module_version": "1.2.0",
            "_view_name": "LayoutView",
            "align_content": null,
            "align_items": null,
            "align_self": null,
            "border": null,
            "bottom": null,
            "display": null,
            "flex": null,
            "flex_flow": null,
            "grid_area": null,
            "grid_auto_columns": null,
            "grid_auto_flow": null,
            "grid_auto_rows": null,
            "grid_column": null,
            "grid_gap": null,
            "grid_row": null,
            "grid_template_areas": null,
            "grid_template_columns": null,
            "grid_template_rows": null,
            "height": null,
            "justify_content": null,
            "justify_items": null,
            "left": null,
            "margin": null,
            "max_height": null,
            "max_width": null,
            "min_height": null,
            "min_width": null,
            "object_fit": null,
            "object_position": null,
            "order": null,
            "overflow": null,
            "overflow_x": null,
            "overflow_y": null,
            "padding": null,
            "right": null,
            "top": null,
            "visibility": null,
            "width": null
          }
        },
        "a7d1c4df2ce548aebbddc6996ed264b2": {
          "model_module": "@jupyter-widgets/controls",
          "model_name": "DescriptionStyleModel",
          "model_module_version": "1.5.0",
          "state": {
            "_model_module": "@jupyter-widgets/controls",
            "_model_module_version": "1.5.0",
            "_model_name": "DescriptionStyleModel",
            "_view_count": null,
            "_view_module": "@jupyter-widgets/base",
            "_view_module_version": "1.2.0",
            "_view_name": "StyleView",
            "description_width": ""
          }
        },
        "c190f3ba3ded4be1b4dd727376ce78f6": {
          "model_module": "@jupyter-widgets/base",
          "model_name": "LayoutModel",
          "model_module_version": "1.2.0",
          "state": {
            "_model_module": "@jupyter-widgets/base",
            "_model_module_version": "1.2.0",
            "_model_name": "LayoutModel",
            "_view_count": null,
            "_view_module": "@jupyter-widgets/base",
            "_view_module_version": "1.2.0",
            "_view_name": "LayoutView",
            "align_content": null,
            "align_items": null,
            "align_self": null,
            "border": null,
            "bottom": null,
            "display": null,
            "flex": null,
            "flex_flow": null,
            "grid_area": null,
            "grid_auto_columns": null,
            "grid_auto_flow": null,
            "grid_auto_rows": null,
            "grid_column": null,
            "grid_gap": null,
            "grid_row": null,
            "grid_template_areas": null,
            "grid_template_columns": null,
            "grid_template_rows": null,
            "height": null,
            "justify_content": null,
            "justify_items": null,
            "left": null,
            "margin": null,
            "max_height": null,
            "max_width": null,
            "min_height": null,
            "min_width": null,
            "object_fit": null,
            "object_position": null,
            "order": null,
            "overflow": null,
            "overflow_x": null,
            "overflow_y": null,
            "padding": null,
            "right": null,
            "top": null,
            "visibility": null,
            "width": null
          }
        },
        "3b023ca4c3964f3fb550945e756f7c78": {
          "model_module": "@jupyter-widgets/controls",
          "model_name": "ProgressStyleModel",
          "model_module_version": "1.5.0",
          "state": {
            "_model_module": "@jupyter-widgets/controls",
            "_model_module_version": "1.5.0",
            "_model_name": "ProgressStyleModel",
            "_view_count": null,
            "_view_module": "@jupyter-widgets/base",
            "_view_module_version": "1.2.0",
            "_view_name": "StyleView",
            "bar_color": null,
            "description_width": ""
          }
        },
        "cdc9d5c98b704b22a069220b99d25ac5": {
          "model_module": "@jupyter-widgets/controls",
          "model_name": "VBoxModel",
          "model_module_version": "1.5.0",
          "state": {
            "_dom_classes": [],
            "_model_module": "@jupyter-widgets/controls",
            "_model_module_version": "1.5.0",
            "_model_name": "VBoxModel",
            "_view_count": null,
            "_view_module": "@jupyter-widgets/controls",
            "_view_module_version": "1.5.0",
            "_view_name": "VBoxView",
            "box_style": "",
            "children": [
              "IPY_MODEL_0a76947f8c86403fabd5cb888fbe6678",
              "IPY_MODEL_d3e36f6b65604661b1c7dbda2a8c3956"
            ],
            "layout": "IPY_MODEL_0a2a7d36d44245598c90d5ae614e2c30"
          }
        },
        "0a76947f8c86403fabd5cb888fbe6678": {
          "model_module": "@jupyter-widgets/controls",
          "model_name": "LabelModel",
          "model_module_version": "1.5.0",
          "state": {
            "_dom_classes": [],
            "_model_module": "@jupyter-widgets/controls",
            "_model_module_version": "1.5.0",
            "_model_name": "LabelModel",
            "_view_count": null,
            "_view_module": "@jupyter-widgets/controls",
            "_view_module_version": "1.5.0",
            "_view_name": "LabelView",
            "description": "",
            "description_tooltip": null,
            "layout": "IPY_MODEL_738a52cf5c6a44c080a481b066a53e78",
            "placeholder": "​",
            "style": "IPY_MODEL_7607ad3cf6a24abb8af6863ce5742777",
            "value": "0.054 MB of 0.054 MB uploaded\r"
          }
        },
        "d3e36f6b65604661b1c7dbda2a8c3956": {
          "model_module": "@jupyter-widgets/controls",
          "model_name": "FloatProgressModel",
          "model_module_version": "1.5.0",
          "state": {
            "_dom_classes": [],
            "_model_module": "@jupyter-widgets/controls",
            "_model_module_version": "1.5.0",
            "_model_name": "FloatProgressModel",
            "_view_count": null,
            "_view_module": "@jupyter-widgets/controls",
            "_view_module_version": "1.5.0",
            "_view_name": "ProgressView",
            "bar_style": "",
            "description": "",
            "description_tooltip": null,
            "layout": "IPY_MODEL_13bb52b08c6c4261a5bf4936deae5227",
            "max": 1,
            "min": 0,
            "orientation": "horizontal",
            "style": "IPY_MODEL_13adba5bac4e4b06aa33aa5d63b58ffd",
            "value": 1
          }
        },
        "0a2a7d36d44245598c90d5ae614e2c30": {
          "model_module": "@jupyter-widgets/base",
          "model_name": "LayoutModel",
          "model_module_version": "1.2.0",
          "state": {
            "_model_module": "@jupyter-widgets/base",
            "_model_module_version": "1.2.0",
            "_model_name": "LayoutModel",
            "_view_count": null,
            "_view_module": "@jupyter-widgets/base",
            "_view_module_version": "1.2.0",
            "_view_name": "LayoutView",
            "align_content": null,
            "align_items": null,
            "align_self": null,
            "border": null,
            "bottom": null,
            "display": null,
            "flex": null,
            "flex_flow": null,
            "grid_area": null,
            "grid_auto_columns": null,
            "grid_auto_flow": null,
            "grid_auto_rows": null,
            "grid_column": null,
            "grid_gap": null,
            "grid_row": null,
            "grid_template_areas": null,
            "grid_template_columns": null,
            "grid_template_rows": null,
            "height": null,
            "justify_content": null,
            "justify_items": null,
            "left": null,
            "margin": null,
            "max_height": null,
            "max_width": null,
            "min_height": null,
            "min_width": null,
            "object_fit": null,
            "object_position": null,
            "order": null,
            "overflow": null,
            "overflow_x": null,
            "overflow_y": null,
            "padding": null,
            "right": null,
            "top": null,
            "visibility": null,
            "width": null
          }
        },
        "738a52cf5c6a44c080a481b066a53e78": {
          "model_module": "@jupyter-widgets/base",
          "model_name": "LayoutModel",
          "model_module_version": "1.2.0",
          "state": {
            "_model_module": "@jupyter-widgets/base",
            "_model_module_version": "1.2.0",
            "_model_name": "LayoutModel",
            "_view_count": null,
            "_view_module": "@jupyter-widgets/base",
            "_view_module_version": "1.2.0",
            "_view_name": "LayoutView",
            "align_content": null,
            "align_items": null,
            "align_self": null,
            "border": null,
            "bottom": null,
            "display": null,
            "flex": null,
            "flex_flow": null,
            "grid_area": null,
            "grid_auto_columns": null,
            "grid_auto_flow": null,
            "grid_auto_rows": null,
            "grid_column": null,
            "grid_gap": null,
            "grid_row": null,
            "grid_template_areas": null,
            "grid_template_columns": null,
            "grid_template_rows": null,
            "height": null,
            "justify_content": null,
            "justify_items": null,
            "left": null,
            "margin": null,
            "max_height": null,
            "max_width": null,
            "min_height": null,
            "min_width": null,
            "object_fit": null,
            "object_position": null,
            "order": null,
            "overflow": null,
            "overflow_x": null,
            "overflow_y": null,
            "padding": null,
            "right": null,
            "top": null,
            "visibility": null,
            "width": null
          }
        },
        "7607ad3cf6a24abb8af6863ce5742777": {
          "model_module": "@jupyter-widgets/controls",
          "model_name": "DescriptionStyleModel",
          "model_module_version": "1.5.0",
          "state": {
            "_model_module": "@jupyter-widgets/controls",
            "_model_module_version": "1.5.0",
            "_model_name": "DescriptionStyleModel",
            "_view_count": null,
            "_view_module": "@jupyter-widgets/base",
            "_view_module_version": "1.2.0",
            "_view_name": "StyleView",
            "description_width": ""
          }
        },
        "13bb52b08c6c4261a5bf4936deae5227": {
          "model_module": "@jupyter-widgets/base",
          "model_name": "LayoutModel",
          "model_module_version": "1.2.0",
          "state": {
            "_model_module": "@jupyter-widgets/base",
            "_model_module_version": "1.2.0",
            "_model_name": "LayoutModel",
            "_view_count": null,
            "_view_module": "@jupyter-widgets/base",
            "_view_module_version": "1.2.0",
            "_view_name": "LayoutView",
            "align_content": null,
            "align_items": null,
            "align_self": null,
            "border": null,
            "bottom": null,
            "display": null,
            "flex": null,
            "flex_flow": null,
            "grid_area": null,
            "grid_auto_columns": null,
            "grid_auto_flow": null,
            "grid_auto_rows": null,
            "grid_column": null,
            "grid_gap": null,
            "grid_row": null,
            "grid_template_areas": null,
            "grid_template_columns": null,
            "grid_template_rows": null,
            "height": null,
            "justify_content": null,
            "justify_items": null,
            "left": null,
            "margin": null,
            "max_height": null,
            "max_width": null,
            "min_height": null,
            "min_width": null,
            "object_fit": null,
            "object_position": null,
            "order": null,
            "overflow": null,
            "overflow_x": null,
            "overflow_y": null,
            "padding": null,
            "right": null,
            "top": null,
            "visibility": null,
            "width": null
          }
        },
        "13adba5bac4e4b06aa33aa5d63b58ffd": {
          "model_module": "@jupyter-widgets/controls",
          "model_name": "ProgressStyleModel",
          "model_module_version": "1.5.0",
          "state": {
            "_model_module": "@jupyter-widgets/controls",
            "_model_module_version": "1.5.0",
            "_model_name": "ProgressStyleModel",
            "_view_count": null,
            "_view_module": "@jupyter-widgets/base",
            "_view_module_version": "1.2.0",
            "_view_name": "StyleView",
            "bar_color": null,
            "description_width": ""
          }
        },
        "a0b3c65b3eec451890975a56750cf4f1": {
          "model_module": "@jupyter-widgets/controls",
          "model_name": "VBoxModel",
          "model_module_version": "1.5.0",
          "state": {
            "_dom_classes": [],
            "_model_module": "@jupyter-widgets/controls",
            "_model_module_version": "1.5.0",
            "_model_name": "VBoxModel",
            "_view_count": null,
            "_view_module": "@jupyter-widgets/controls",
            "_view_module_version": "1.5.0",
            "_view_name": "VBoxView",
            "box_style": "",
            "children": [
              "IPY_MODEL_25397073cdc24685ae80de00f9663e97",
              "IPY_MODEL_06108cb7afeb4669aa4054291bba9416"
            ],
            "layout": "IPY_MODEL_e87282d1f43941488d7059ee09f86402"
          }
        },
        "25397073cdc24685ae80de00f9663e97": {
          "model_module": "@jupyter-widgets/controls",
          "model_name": "LabelModel",
          "model_module_version": "1.5.0",
          "state": {
            "_dom_classes": [],
            "_model_module": "@jupyter-widgets/controls",
            "_model_module_version": "1.5.0",
            "_model_name": "LabelModel",
            "_view_count": null,
            "_view_module": "@jupyter-widgets/controls",
            "_view_module_version": "1.5.0",
            "_view_name": "LabelView",
            "description": "",
            "description_tooltip": null,
            "layout": "IPY_MODEL_d3bd6b63b03a4496acc41f77105a2bba",
            "placeholder": "​",
            "style": "IPY_MODEL_b8bb1696754048f68fb68df633d1a63e",
            "value": "0.044 MB of 0.044 MB uploaded\r"
          }
        },
        "06108cb7afeb4669aa4054291bba9416": {
          "model_module": "@jupyter-widgets/controls",
          "model_name": "FloatProgressModel",
          "model_module_version": "1.5.0",
          "state": {
            "_dom_classes": [],
            "_model_module": "@jupyter-widgets/controls",
            "_model_module_version": "1.5.0",
            "_model_name": "FloatProgressModel",
            "_view_count": null,
            "_view_module": "@jupyter-widgets/controls",
            "_view_module_version": "1.5.0",
            "_view_name": "ProgressView",
            "bar_style": "",
            "description": "",
            "description_tooltip": null,
            "layout": "IPY_MODEL_73eefcf8d93448fdb697bdc7c3b45ec0",
            "max": 1,
            "min": 0,
            "orientation": "horizontal",
            "style": "IPY_MODEL_c2b757f819484cd78ab71f6bf8e40459",
            "value": 1
          }
        },
        "e87282d1f43941488d7059ee09f86402": {
          "model_module": "@jupyter-widgets/base",
          "model_name": "LayoutModel",
          "model_module_version": "1.2.0",
          "state": {
            "_model_module": "@jupyter-widgets/base",
            "_model_module_version": "1.2.0",
            "_model_name": "LayoutModel",
            "_view_count": null,
            "_view_module": "@jupyter-widgets/base",
            "_view_module_version": "1.2.0",
            "_view_name": "LayoutView",
            "align_content": null,
            "align_items": null,
            "align_self": null,
            "border": null,
            "bottom": null,
            "display": null,
            "flex": null,
            "flex_flow": null,
            "grid_area": null,
            "grid_auto_columns": null,
            "grid_auto_flow": null,
            "grid_auto_rows": null,
            "grid_column": null,
            "grid_gap": null,
            "grid_row": null,
            "grid_template_areas": null,
            "grid_template_columns": null,
            "grid_template_rows": null,
            "height": null,
            "justify_content": null,
            "justify_items": null,
            "left": null,
            "margin": null,
            "max_height": null,
            "max_width": null,
            "min_height": null,
            "min_width": null,
            "object_fit": null,
            "object_position": null,
            "order": null,
            "overflow": null,
            "overflow_x": null,
            "overflow_y": null,
            "padding": null,
            "right": null,
            "top": null,
            "visibility": null,
            "width": null
          }
        },
        "d3bd6b63b03a4496acc41f77105a2bba": {
          "model_module": "@jupyter-widgets/base",
          "model_name": "LayoutModel",
          "model_module_version": "1.2.0",
          "state": {
            "_model_module": "@jupyter-widgets/base",
            "_model_module_version": "1.2.0",
            "_model_name": "LayoutModel",
            "_view_count": null,
            "_view_module": "@jupyter-widgets/base",
            "_view_module_version": "1.2.0",
            "_view_name": "LayoutView",
            "align_content": null,
            "align_items": null,
            "align_self": null,
            "border": null,
            "bottom": null,
            "display": null,
            "flex": null,
            "flex_flow": null,
            "grid_area": null,
            "grid_auto_columns": null,
            "grid_auto_flow": null,
            "grid_auto_rows": null,
            "grid_column": null,
            "grid_gap": null,
            "grid_row": null,
            "grid_template_areas": null,
            "grid_template_columns": null,
            "grid_template_rows": null,
            "height": null,
            "justify_content": null,
            "justify_items": null,
            "left": null,
            "margin": null,
            "max_height": null,
            "max_width": null,
            "min_height": null,
            "min_width": null,
            "object_fit": null,
            "object_position": null,
            "order": null,
            "overflow": null,
            "overflow_x": null,
            "overflow_y": null,
            "padding": null,
            "right": null,
            "top": null,
            "visibility": null,
            "width": null
          }
        },
        "b8bb1696754048f68fb68df633d1a63e": {
          "model_module": "@jupyter-widgets/controls",
          "model_name": "DescriptionStyleModel",
          "model_module_version": "1.5.0",
          "state": {
            "_model_module": "@jupyter-widgets/controls",
            "_model_module_version": "1.5.0",
            "_model_name": "DescriptionStyleModel",
            "_view_count": null,
            "_view_module": "@jupyter-widgets/base",
            "_view_module_version": "1.2.0",
            "_view_name": "StyleView",
            "description_width": ""
          }
        },
        "73eefcf8d93448fdb697bdc7c3b45ec0": {
          "model_module": "@jupyter-widgets/base",
          "model_name": "LayoutModel",
          "model_module_version": "1.2.0",
          "state": {
            "_model_module": "@jupyter-widgets/base",
            "_model_module_version": "1.2.0",
            "_model_name": "LayoutModel",
            "_view_count": null,
            "_view_module": "@jupyter-widgets/base",
            "_view_module_version": "1.2.0",
            "_view_name": "LayoutView",
            "align_content": null,
            "align_items": null,
            "align_self": null,
            "border": null,
            "bottom": null,
            "display": null,
            "flex": null,
            "flex_flow": null,
            "grid_area": null,
            "grid_auto_columns": null,
            "grid_auto_flow": null,
            "grid_auto_rows": null,
            "grid_column": null,
            "grid_gap": null,
            "grid_row": null,
            "grid_template_areas": null,
            "grid_template_columns": null,
            "grid_template_rows": null,
            "height": null,
            "justify_content": null,
            "justify_items": null,
            "left": null,
            "margin": null,
            "max_height": null,
            "max_width": null,
            "min_height": null,
            "min_width": null,
            "object_fit": null,
            "object_position": null,
            "order": null,
            "overflow": null,
            "overflow_x": null,
            "overflow_y": null,
            "padding": null,
            "right": null,
            "top": null,
            "visibility": null,
            "width": null
          }
        },
        "c2b757f819484cd78ab71f6bf8e40459": {
          "model_module": "@jupyter-widgets/controls",
          "model_name": "ProgressStyleModel",
          "model_module_version": "1.5.0",
          "state": {
            "_model_module": "@jupyter-widgets/controls",
            "_model_module_version": "1.5.0",
            "_model_name": "ProgressStyleModel",
            "_view_count": null,
            "_view_module": "@jupyter-widgets/base",
            "_view_module_version": "1.2.0",
            "_view_name": "StyleView",
            "bar_color": null,
            "description_width": ""
          }
        },
        "47d1c01015d64d0fbe747a91dbc913a4": {
          "model_module": "@jupyter-widgets/controls",
          "model_name": "VBoxModel",
          "model_module_version": "1.5.0",
          "state": {
            "_dom_classes": [],
            "_model_module": "@jupyter-widgets/controls",
            "_model_module_version": "1.5.0",
            "_model_name": "VBoxModel",
            "_view_count": null,
            "_view_module": "@jupyter-widgets/controls",
            "_view_module_version": "1.5.0",
            "_view_name": "VBoxView",
            "box_style": "",
            "children": [
              "IPY_MODEL_913d2af2849e4f52a8d116cff4c2a1e5",
              "IPY_MODEL_97d1d2f41e4e46d7878b1218fc1665c1"
            ],
            "layout": "IPY_MODEL_0d8ce4a601384c44ae5e15f0263ac74d"
          }
        },
        "913d2af2849e4f52a8d116cff4c2a1e5": {
          "model_module": "@jupyter-widgets/controls",
          "model_name": "LabelModel",
          "model_module_version": "1.5.0",
          "state": {
            "_dom_classes": [],
            "_model_module": "@jupyter-widgets/controls",
            "_model_module_version": "1.5.0",
            "_model_name": "LabelModel",
            "_view_count": null,
            "_view_module": "@jupyter-widgets/controls",
            "_view_module_version": "1.5.0",
            "_view_name": "LabelView",
            "description": "",
            "description_tooltip": null,
            "layout": "IPY_MODEL_cb032c2216c64454930c35845b603d06",
            "placeholder": "​",
            "style": "IPY_MODEL_7a1da1276d404aa89060fc2ad535d9d2",
            "value": "0.068 MB of 0.068 MB uploaded\r"
          }
        },
        "97d1d2f41e4e46d7878b1218fc1665c1": {
          "model_module": "@jupyter-widgets/controls",
          "model_name": "FloatProgressModel",
          "model_module_version": "1.5.0",
          "state": {
            "_dom_classes": [],
            "_model_module": "@jupyter-widgets/controls",
            "_model_module_version": "1.5.0",
            "_model_name": "FloatProgressModel",
            "_view_count": null,
            "_view_module": "@jupyter-widgets/controls",
            "_view_module_version": "1.5.0",
            "_view_name": "ProgressView",
            "bar_style": "",
            "description": "",
            "description_tooltip": null,
            "layout": "IPY_MODEL_5359da0eec5045f087ae4bd571b2757d",
            "max": 1,
            "min": 0,
            "orientation": "horizontal",
            "style": "IPY_MODEL_bb3b44fbe39d4f35be6a14a0165e111c",
            "value": 1
          }
        },
        "0d8ce4a601384c44ae5e15f0263ac74d": {
          "model_module": "@jupyter-widgets/base",
          "model_name": "LayoutModel",
          "model_module_version": "1.2.0",
          "state": {
            "_model_module": "@jupyter-widgets/base",
            "_model_module_version": "1.2.0",
            "_model_name": "LayoutModel",
            "_view_count": null,
            "_view_module": "@jupyter-widgets/base",
            "_view_module_version": "1.2.0",
            "_view_name": "LayoutView",
            "align_content": null,
            "align_items": null,
            "align_self": null,
            "border": null,
            "bottom": null,
            "display": null,
            "flex": null,
            "flex_flow": null,
            "grid_area": null,
            "grid_auto_columns": null,
            "grid_auto_flow": null,
            "grid_auto_rows": null,
            "grid_column": null,
            "grid_gap": null,
            "grid_row": null,
            "grid_template_areas": null,
            "grid_template_columns": null,
            "grid_template_rows": null,
            "height": null,
            "justify_content": null,
            "justify_items": null,
            "left": null,
            "margin": null,
            "max_height": null,
            "max_width": null,
            "min_height": null,
            "min_width": null,
            "object_fit": null,
            "object_position": null,
            "order": null,
            "overflow": null,
            "overflow_x": null,
            "overflow_y": null,
            "padding": null,
            "right": null,
            "top": null,
            "visibility": null,
            "width": null
          }
        },
        "cb032c2216c64454930c35845b603d06": {
          "model_module": "@jupyter-widgets/base",
          "model_name": "LayoutModel",
          "model_module_version": "1.2.0",
          "state": {
            "_model_module": "@jupyter-widgets/base",
            "_model_module_version": "1.2.0",
            "_model_name": "LayoutModel",
            "_view_count": null,
            "_view_module": "@jupyter-widgets/base",
            "_view_module_version": "1.2.0",
            "_view_name": "LayoutView",
            "align_content": null,
            "align_items": null,
            "align_self": null,
            "border": null,
            "bottom": null,
            "display": null,
            "flex": null,
            "flex_flow": null,
            "grid_area": null,
            "grid_auto_columns": null,
            "grid_auto_flow": null,
            "grid_auto_rows": null,
            "grid_column": null,
            "grid_gap": null,
            "grid_row": null,
            "grid_template_areas": null,
            "grid_template_columns": null,
            "grid_template_rows": null,
            "height": null,
            "justify_content": null,
            "justify_items": null,
            "left": null,
            "margin": null,
            "max_height": null,
            "max_width": null,
            "min_height": null,
            "min_width": null,
            "object_fit": null,
            "object_position": null,
            "order": null,
            "overflow": null,
            "overflow_x": null,
            "overflow_y": null,
            "padding": null,
            "right": null,
            "top": null,
            "visibility": null,
            "width": null
          }
        },
        "7a1da1276d404aa89060fc2ad535d9d2": {
          "model_module": "@jupyter-widgets/controls",
          "model_name": "DescriptionStyleModel",
          "model_module_version": "1.5.0",
          "state": {
            "_model_module": "@jupyter-widgets/controls",
            "_model_module_version": "1.5.0",
            "_model_name": "DescriptionStyleModel",
            "_view_count": null,
            "_view_module": "@jupyter-widgets/base",
            "_view_module_version": "1.2.0",
            "_view_name": "StyleView",
            "description_width": ""
          }
        },
        "5359da0eec5045f087ae4bd571b2757d": {
          "model_module": "@jupyter-widgets/base",
          "model_name": "LayoutModel",
          "model_module_version": "1.2.0",
          "state": {
            "_model_module": "@jupyter-widgets/base",
            "_model_module_version": "1.2.0",
            "_model_name": "LayoutModel",
            "_view_count": null,
            "_view_module": "@jupyter-widgets/base",
            "_view_module_version": "1.2.0",
            "_view_name": "LayoutView",
            "align_content": null,
            "align_items": null,
            "align_self": null,
            "border": null,
            "bottom": null,
            "display": null,
            "flex": null,
            "flex_flow": null,
            "grid_area": null,
            "grid_auto_columns": null,
            "grid_auto_flow": null,
            "grid_auto_rows": null,
            "grid_column": null,
            "grid_gap": null,
            "grid_row": null,
            "grid_template_areas": null,
            "grid_template_columns": null,
            "grid_template_rows": null,
            "height": null,
            "justify_content": null,
            "justify_items": null,
            "left": null,
            "margin": null,
            "max_height": null,
            "max_width": null,
            "min_height": null,
            "min_width": null,
            "object_fit": null,
            "object_position": null,
            "order": null,
            "overflow": null,
            "overflow_x": null,
            "overflow_y": null,
            "padding": null,
            "right": null,
            "top": null,
            "visibility": null,
            "width": null
          }
        },
        "bb3b44fbe39d4f35be6a14a0165e111c": {
          "model_module": "@jupyter-widgets/controls",
          "model_name": "ProgressStyleModel",
          "model_module_version": "1.5.0",
          "state": {
            "_model_module": "@jupyter-widgets/controls",
            "_model_module_version": "1.5.0",
            "_model_name": "ProgressStyleModel",
            "_view_count": null,
            "_view_module": "@jupyter-widgets/base",
            "_view_module_version": "1.2.0",
            "_view_name": "StyleView",
            "bar_color": null,
            "description_width": ""
          }
        }
      }
    }
  },
  "nbformat": 4,
  "nbformat_minor": 0
}