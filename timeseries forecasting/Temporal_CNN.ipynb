{
  "cells": [
    {
      "cell_type": "code",
      "execution_count": 1,
      "metadata": {
        "id": "5VuOSHwwFIIj",
        "ExecuteTime": {
          "end_time": "2023-12-16T12:07:07.376930332Z",
          "start_time": "2023-12-16T12:07:07.310961931Z"
        },
        "colab": {
          "base_uri": "https://localhost:8080/"
        },
        "outputId": "3bb5ecbb-cc80-40d7-8b76-16c98a0d2047"
      },
      "outputs": [
        {
          "output_type": "stream",
          "name": "stdout",
          "text": [
            "Mounted at /content/drive\n",
            "/content/drive/My Drive/ann challenge\n"
          ]
        }
      ],
      "source": [
        "from google.colab import drive\n",
        "drive.mount('/content/drive')\n",
        "%cd /content/drive/My Drive/ann challenge"
      ]
    },
    {
      "cell_type": "markdown",
      "metadata": {
        "id": "ap3o8JayfgEM"
      },
      "source": [
        "### Import libraries"
      ]
    },
    {
      "cell_type": "code",
      "execution_count": 2,
      "metadata": {
        "id": "aR-w0eZ-ABIT",
        "ExecuteTime": {
          "end_time": "2023-12-16T12:07:07.394436219Z",
          "start_time": "2023-12-16T12:07:07.378043310Z"
        }
      },
      "outputs": [],
      "source": [
        "# Fix randomness and hide warnings\n",
        "seed = 42\n",
        "\n",
        "import os\n",
        "os.environ['TF_CPP_MIN_LOG_LEVEL'] = '3'\n",
        "os.environ['PYTHONHASHSEED'] = str(seed)\n",
        "os.environ['MPLCONFIGDIR'] = os.getcwd()+'/configs/'\n",
        "\n",
        "import warnings\n",
        "warnings.simplefilter(action='ignore', category=FutureWarning)\n",
        "warnings.simplefilter(action='ignore', category=Warning)\n",
        "\n",
        "import numpy as np\n",
        "np.random.seed(seed)\n",
        "\n",
        "import logging\n",
        "\n",
        "import random\n",
        "random.seed(seed)"
      ]
    },
    {
      "cell_type": "code",
      "execution_count": 3,
      "metadata": {
        "colab": {
          "base_uri": "https://localhost:8080/"
        },
        "id": "e06wPZJbADcv",
        "outputId": "6b496919-4ce7-409d-a7ed-c8b23c5ab1bc",
        "ExecuteTime": {
          "end_time": "2023-12-16T12:07:07.433987683Z",
          "start_time": "2023-12-16T12:07:07.390133334Z"
        }
      },
      "outputs": [
        {
          "output_type": "stream",
          "name": "stdout",
          "text": [
            "2.15.0\n"
          ]
        }
      ],
      "source": [
        "# Import tensorflow\n",
        "import tensorflow as tf\n",
        "from tensorflow import keras as tfk\n",
        "from tensorflow.keras import layers as tfkl\n",
        "tf.autograph.set_verbosity(0)\n",
        "tf.get_logger().setLevel(logging.ERROR)\n",
        "tf.compat.v1.logging.set_verbosity(tf.compat.v1.logging.ERROR)\n",
        "tf.random.set_seed(seed)\n",
        "tf.compat.v1.set_random_seed(seed)\n",
        "print(tf.__version__)"
      ]
    },
    {
      "cell_type": "code",
      "execution_count": 4,
      "metadata": {
        "id": "fN6wKImkADfL",
        "ExecuteTime": {
          "end_time": "2023-12-16T12:07:07.435377298Z",
          "start_time": "2023-12-16T12:07:07.420376636Z"
        }
      },
      "outputs": [],
      "source": [
        "# Import other libraries\n",
        "import pandas as pd\n",
        "from datetime import datetime\n",
        "import matplotlib.pyplot as plt\n",
        "from sklearn.preprocessing import MinMaxScaler, OneHotEncoder, RobustScaler\n",
        "from sklearn.model_selection import train_test_split\n",
        "from sklearn.metrics import mean_squared_error, mean_absolute_error\n",
        "from sklearn.utils import shuffle\n",
        "import seaborn as sns\n",
        "plt.rc('font', size=16)\n",
        "sns.set_theme()"
      ]
    },
    {
      "cell_type": "markdown",
      "metadata": {
        "id": "efzZcamrkckv"
      },
      "source": [
        "## Auxiliary functions"
      ]
    },
    {
      "cell_type": "code",
      "execution_count": 5,
      "metadata": {
        "id": "vb98Ss-flyym",
        "ExecuteTime": {
          "end_time": "2023-12-16T12:07:07.436558195Z",
          "start_time": "2023-12-16T12:07:07.420451212Z"
        }
      },
      "outputs": [],
      "source": [
        "def plot_time_series(x: np.ndarray) -> None:\n",
        "  plt.figure(figsize=(16, 4))\n",
        "  plt.plot(x)\n",
        "  plt.title(f\"Time series\")\n",
        "  plt.show()"
      ]
    },
    {
      "cell_type": "code",
      "execution_count": 6,
      "metadata": {
        "id": "O3NOqwcllyaU",
        "ExecuteTime": {
          "end_time": "2023-12-16T12:07:07.451035926Z",
          "start_time": "2023-12-16T12:07:07.434228274Z"
        }
      },
      "outputs": [],
      "source": [
        "def plot_history(history, log_scale: bool = False) -> None:\n",
        "  mae = history['mae']\n",
        "  val_mae = history['val_mae']\n",
        "  loss = history['loss']\n",
        "  val_loss = history['val_loss']\n",
        "  best_epoch = np.argmin(val_loss)\n",
        "\n",
        "  plt.figure(figsize=(18, 6))\n",
        "  plt.subplot(1, 2, 1)\n",
        "  plt.title('Training and validation MSE')\n",
        "  plt.xlabel('Epoch')\n",
        "  plt.ylabel('Mean Squared Error')\n",
        "\n",
        "  if log_scale:\n",
        "      plt.semilogy(loss, label='Training MSE', color='#ff7f0e')\n",
        "      plt.semilogy(val_loss, label='Validation MSE', color='#4D61E2')\n",
        "  else:\n",
        "      plt.plot(loss, label='Training MSE', color='#ff7f0e')\n",
        "      plt.plot(val_loss, label='Validation MSE', color='#4D61E2')\n",
        "\n",
        "  plt.plot(best_epoch, history['val_loss'][best_epoch], marker='*', alpha=0.8, markersize=10, color='#4D61E2')\n",
        "  plt.grid(True)\n",
        "  plt.legend()\n",
        "\n",
        "  plt.subplot(1, 2, 2)\n",
        "  plt.title('Training and validation MAE')\n",
        "  plt.xlabel('Epoch')\n",
        "  plt.ylabel('Mean Absolute Error')\n",
        "\n",
        "  if log_scale:\n",
        "     plt.semilogy(mae, label='Training MAE', color='#ff7f0e')\n",
        "     plt.semilogy(val_mae, label='Validation MAE', color='#4D61E2')\n",
        "  else:\n",
        "    plt.plot(mae, label='Training MAE', color='#ff7f0e')\n",
        "    plt.plot(val_mae, label='Validation MAE', color='#4D61E2')\n",
        "\n",
        "  plt.plot(best_epoch, history['val_mae'][best_epoch], marker='*', alpha=0.8, markersize=10, color='#4D61E2')\n",
        "  plt.grid(True)\n",
        "  plt.legend()\n",
        "  plt.show()"
      ]
    },
    {
      "cell_type": "markdown",
      "metadata": {
        "id": "effwKXIa8w_0"
      },
      "source": [
        "## Load data"
      ]
    },
    {
      "cell_type": "code",
      "execution_count": 7,
      "metadata": {
        "id": "-r3S-hwJU8Ez",
        "ExecuteTime": {
          "end_time": "2023-12-16T12:07:07.481993365Z",
          "start_time": "2023-12-16T12:07:07.450285950Z"
        }
      },
      "outputs": [],
      "source": [
        "data = np.load('preprocessed_data_stride_50.npz', allow_pickle=True)"
      ]
    },
    {
      "cell_type": "code",
      "execution_count": 8,
      "metadata": {
        "id": "ZxDloiGeVZh2",
        "ExecuteTime": {
          "end_time": "2023-12-16T12:07:08.956361451Z",
          "start_time": "2023-12-16T12:07:07.481951065Z"
        }
      },
      "outputs": [],
      "source": [
        "X_train, X_val, y_train, y_val = data[\"X_train\"], data[\"X_val\"], data[\"y_train\"], data[\"y_val\"]"
      ]
    },
    {
      "cell_type": "code",
      "execution_count": 9,
      "metadata": {
        "id": "_4NcSPQLfrkM",
        "ExecuteTime": {
          "end_time": "2023-12-16T12:07:09.003298876Z",
          "start_time": "2023-12-16T12:07:09.002511418Z"
        }
      },
      "outputs": [],
      "source": [
        "X_train = np.expand_dims(X_train, axis=-1)\n",
        "X_val = np.expand_dims(X_val, axis=-1)\n",
        "y_train = np.expand_dims(y_train, axis=-1)\n",
        "y_val= np.expand_dims(y_val, axis=-1)"
      ]
    },
    {
      "cell_type": "code",
      "execution_count": 10,
      "metadata": {
        "colab": {
          "base_uri": "https://localhost:8080/"
        },
        "id": "7eMPyLgIemFe",
        "outputId": "b4008b53-5599-49a6-9966-18319b3b8288",
        "ExecuteTime": {
          "end_time": "2023-12-16T12:07:09.003992491Z",
          "start_time": "2023-12-16T12:07:09.002689643Z"
        }
      },
      "outputs": [
        {
          "output_type": "stream",
          "name": "stdout",
          "text": [
            "Training Data Shape: (154277, 200, 1)\n",
            "Training Label Shape: (154277, 9, 1)\n",
            "Validation Data Shape: (17142, 200, 1)\n",
            "Validation Label Shape: (17142, 9, 1)\n"
          ]
        }
      ],
      "source": [
        "print(\"Training Data Shape:\", X_train.shape)\n",
        "print(\"Training Label Shape:\", y_train.shape)\n",
        "print(\"Validation Data Shape:\", X_val.shape)\n",
        "print(\"Validation Label Shape:\", y_val.shape)"
      ]
    },
    {
      "cell_type": "markdown",
      "metadata": {
        "id": "koD0CNhCet2J"
      },
      "source": [
        "## Build the model"
      ]
    },
    {
      "cell_type": "code",
      "execution_count": 11,
      "metadata": {
        "colab": {
          "base_uri": "https://localhost:8080/"
        },
        "id": "FyqqER01ent-",
        "outputId": "6c1d3fab-3343-4a5e-c83b-318ea086ddc7",
        "ExecuteTime": {
          "end_time": "2023-12-16T12:07:09.004545111Z",
          "start_time": "2023-12-16T12:07:09.002780063Z"
        }
      },
      "outputs": [
        {
          "output_type": "stream",
          "name": "stdout",
          "text": [
            "Epochs: 200\n",
            "Batch Size: 256\n",
            "Input Shape: (200, 1)\n",
            "Output Shape: (9, 1)\n"
          ]
        }
      ],
      "source": [
        "# Define key model parameters\n",
        "input_shape = X_train.shape[1:]         # Input shape for the model\n",
        "output_shape = y_train.shape[1:]        # Output shape for the model\n",
        "batch_size = 256                        # Batch size for training\n",
        "epochs = 200                            # Number of training epochs\n",
        "\n",
        "# Print the defined parameters\n",
        "print(\"Epochs:\", epochs)\n",
        "print(\"Batch Size:\", batch_size)\n",
        "print(\"Input Shape:\", input_shape)\n",
        "print(\"Output Shape:\", output_shape)"
      ]
    },
    {
      "cell_type": "code",
      "execution_count": 12,
      "outputs": [],
      "source": [
        "from tcn import TCN"
      ],
      "metadata": {
        "ExecuteTime": {
          "end_time": "2023-12-16T12:07:09.005046630Z",
          "start_time": "2023-12-16T12:07:09.002855740Z"
        },
        "id": "dd6aSSihlIUU"
      }
    },
    {
      "cell_type": "code",
      "execution_count": 13,
      "outputs": [],
      "source": [
        "def TemporalConvNet(num_filters, kernel_size, return_sequences, dilations, dropout_rate=0.0, nb_stacks=1):\n",
        "    return TCN(\n",
        "        nb_filters=num_filters,\n",
        "        kernel_size=kernel_size,\n",
        "        dilations=dilations,\n",
        "        nb_stacks=nb_stacks,\n",
        "        use_skip_connections=True,\n",
        "        dropout_rate=dropout_rate,\n",
        "        return_sequences=return_sequences,\n",
        "        activation='swish',\n",
        "        kernel_initializer=tf.keras.initializers.HeNormal(),\n",
        "        use_batch_norm=False,\n",
        "        go_backwards=False,\n",
        "        return_state=False\n",
        "    )"
      ],
      "metadata": {
        "ExecuteTime": {
          "end_time": "2023-12-16T12:07:09.005968874Z",
          "start_time": "2023-12-16T12:07:09.002921547Z"
        },
        "id": "YODESqX3lIUU"
      }
    },
    {
      "cell_type": "code",
      "execution_count": 14,
      "outputs": [],
      "source": [
        "# Helper function to compute the receptive field of a TemporalConv1D layer\n",
        "receptive_field = lambda k_size, dilations: 1 + 2 * (k_size - 1) * np.sum(dilations)"
      ],
      "metadata": {
        "ExecuteTime": {
          "end_time": "2023-12-16T12:07:09.006592295Z",
          "start_time": "2023-12-16T12:07:09.003054232Z"
        },
        "id": "tmD1Nk9HlIUU"
      }
    },
    {
      "cell_type": "code",
      "execution_count": 15,
      "outputs": [
        {
          "output_type": "stream",
          "name": "stdout",
          "text": [
            "255\n",
            "253\n",
            "249\n",
            "181\n",
            "241\n"
          ]
        }
      ],
      "source": [
        "print(receptive_field(2, (1, 2, 4, 8, 16, 32, 64)))\n",
        "print(receptive_field(3, (1, 2, 4, 8, 16, 32)))\n",
        "print(receptive_field(5, (1, 2, 4, 8, 16)))\n",
        "print(receptive_field(7, (1, 2, 4, 8)))\n",
        "print(receptive_field(9, (1, 2, 4, 8)))"
      ],
      "metadata": {
        "ExecuteTime": {
          "end_time": "2023-12-16T12:22:09.166604882Z",
          "start_time": "2023-12-16T12:22:09.155213476Z"
        },
        "id": "rWk-IBzOlIUU",
        "outputId": "4b313753-17f1-460b-c5fe-9453f827ae53",
        "colab": {
          "base_uri": "https://localhost:8080/"
        }
      }
    },
    {
      "cell_type": "code",
      "execution_count": 16,
      "outputs": [],
      "source": [
        "def build_model(input_shape, output_shape, conv_dropout=0.0, dense_dropout=0.0):\n",
        "    # Ensure the input time steps are at least as many as the output time steps\n",
        "    assert input_shape[0] >= output_shape[0]\n",
        "\n",
        "    # Define hyperparameters\n",
        "    initializer = tf.keras.initializers.HeNormal()\n",
        "    num_filters = 16\n",
        "    kernel_size = 9\n",
        "\n",
        "    match kernel_size:\n",
        "      case 5:\n",
        "        dilations = (1, 2, 4, 8, 16)\n",
        "      case 7:\n",
        "        dilations = (1, 2, 4, 8)\n",
        "      case 9:\n",
        "        dilations = (1, 2, 4, 8)\n",
        "      case _:\n",
        "          raise ValueError(\"Unknown dilation size\")\n",
        "\n",
        "    # Define the input layer with the specified shape\n",
        "    input_layer = tfkl.Input(shape=input_shape, name='input_layer')\n",
        "\n",
        "    # Feature extractor\n",
        "    x = TemporalConvNet(num_filters, kernel_size, return_sequences=True, dilations=dilations, dropout_rate=conv_dropout)(input_layer)\n",
        "    x = tfkl.Flatten()(x)\n",
        "\n",
        "    # Dense regressor\n",
        "    while x.shape[1] > 512:\n",
        "        x = tfkl.Dense(x.shape[1] // 4, kernel_initializer=initializer)(x)\n",
        "        x = tfkl.Activation('swish')(x)\n",
        "        x = tfkl.Dropout(dense_dropout)(x)\n",
        "\n",
        "    output_layer = tfkl.Dense(9, activation='linear')(x)\n",
        "\n",
        "    # Construct the model by connecting input and output layers\n",
        "    model = tf.keras.Model(inputs=input_layer, outputs=output_layer, name='Temporal_CNN')\n",
        "\n",
        "    # Compile the model with Mean Squared Error loss and Adam optimizer\n",
        "    num_batches = int(np.ceil(X_train.shape[0] / batch_size))\n",
        "    lr_scheduler = tf.keras.optimizers.schedules.ExponentialDecay(initial_learning_rate=1e-3, decay_steps=(num_batches * 5), decay_rate=0.9, staircase=True)\n",
        "    model.compile(loss=tf.keras.losses.MeanSquaredError(), optimizer=tf.keras.optimizers.AdamW(learning_rate=lr_scheduler), metrics=['mae'])\n",
        "\n",
        "    return model"
      ],
      "metadata": {
        "id": "GBrgXzV6QQ0_",
        "ExecuteTime": {
          "end_time": "2023-12-16T12:07:09.008331047Z",
          "start_time": "2023-12-16T12:07:09.003319083Z"
        }
      }
    },
    {
      "cell_type": "code",
      "execution_count": 17,
      "metadata": {
        "colab": {
          "base_uri": "https://localhost:8080/"
        },
        "id": "I2FODZMLxw74",
        "outputId": "d4ac4d17-b6c4-43ed-efc8-93a0020cfb87",
        "ExecuteTime": {
          "end_time": "2023-12-16T12:07:09.281389946Z",
          "start_time": "2023-12-16T12:07:09.003392694Z"
        }
      },
      "outputs": [
        {
          "output_type": "stream",
          "name": "stdout",
          "text": [
            "Model: \"Temporal_CNN\"\n",
            "_________________________________________________________________\n",
            " Layer (type)                Output Shape              Param #   \n",
            "=================================================================\n",
            " input_layer (InputLayer)    [(None, 200, 1)]          0         \n",
            "                                                                 \n",
            " tcn (TCN)                   (None, 200, 16)           16432     \n",
            "                                                                 \n",
            " flatten (Flatten)           (None, 3200)              0         \n",
            "                                                                 \n",
            " dense (Dense)               (None, 800)               2560800   \n",
            "                                                                 \n",
            " activation (Activation)     (None, 800)               0         \n",
            "                                                                 \n",
            " dropout (Dropout)           (None, 800)               0         \n",
            "                                                                 \n",
            " dense_1 (Dense)             (None, 200)               160200    \n",
            "                                                                 \n",
            " activation_1 (Activation)   (None, 200)               0         \n",
            "                                                                 \n",
            " dropout_1 (Dropout)         (None, 200)               0         \n",
            "                                                                 \n",
            " dense_2 (Dense)             (None, 9)                 1809      \n",
            "                                                                 \n",
            "=================================================================\n",
            "Total params: 2739241 (10.45 MB)\n",
            "Trainable params: 2739241 (10.45 MB)\n",
            "Non-trainable params: 0 (0.00 Byte)\n",
            "_________________________________________________________________\n"
          ]
        }
      ],
      "source": [
        "model = build_model(input_shape, output_shape, conv_dropout=0.2, dense_dropout=0.45)\n",
        "model_name = model.name\n",
        "model.summary()"
      ]
    },
    {
      "cell_type": "code",
      "execution_count": 18,
      "outputs": [
        {
          "output_type": "execute_result",
          "data": {
            "image/png": "[encoded data removed]",
            "text/plain": [
              "<IPython.core.display.Image object>"
            ]
          },
          "metadata": {},
          "execution_count": 18
        }
      ],
      "source": [
        "tfk.utils.plot_model(model, show_shapes=True)"
      ],
      "metadata": {
        "ExecuteTime": {
          "end_time": "2023-12-16T12:07:09.298492814Z",
          "start_time": "2023-12-16T12:07:09.278768277Z"
        },
        "id": "jn42PznflIUV",
        "outputId": "b73e1a8c-9d32-4b51-c303-2cba855e9afb",
        "colab": {
          "base_uri": "https://localhost:8080/",
          "height": 1000
        }
      }
    },
    {
      "cell_type": "code",
      "execution_count": 19,
      "metadata": {
        "id": "b9VmdepRUQlw",
        "ExecuteTime": {
          "end_time": "2023-12-16T12:07:09.338571787Z",
          "start_time": "2023-12-16T12:07:09.297777051Z"
        }
      },
      "outputs": [],
      "source": [
        "lr_patience = 5\n",
        "es_patience = 15\n",
        "num_batches = int(np.ceil(X_train.shape[0] / batch_size))\n",
        "callbacks = [\n",
        "  tfk.callbacks.TerminateOnNaN(),\n",
        "  tfk.callbacks.ReduceLROnPlateau('val_loss', patience=lr_patience, factor=0.3, min_lr=1e-5, verbose=1),\n",
        "  tfk.callbacks.EarlyStopping('val_loss', patience=es_patience, min_delta=1e-4, restore_best_weights=True, verbose=1),\n",
        "  tfk.callbacks.ModelCheckpoint('checkpoints/' + model_name + '_{epoch:02d}', monitor='val_loss', save_freq=(num_batches * 3))\n",
        "]"
      ]
    },
    {
      "cell_type": "markdown",
      "metadata": {
        "id": "dBVNFfVK3rLC"
      },
      "source": [
        "## Train model"
      ]
    },
    {
      "cell_type": "code",
      "execution_count": 20,
      "metadata": {
        "colab": {
          "base_uri": "https://localhost:8080/"
        },
        "id": "PsvRE4Sg3OfX",
        "outputId": "b5384851-12ae-4518-d8b1-47e20418555d",
        "ExecuteTime": {
          "end_time": "2023-12-16T12:20:39.056433252Z",
          "start_time": "2023-12-16T12:07:09.338503247Z"
        }
      },
      "outputs": [
        {
          "output_type": "stream",
          "name": "stdout",
          "text": [
            "Epoch 1/200\n",
            "603/603 [==============================] - 26s 25ms/step - loss: 0.0346 - mae: 0.1279 - val_loss: 0.0105 - val_mae: 0.0710 - lr: 0.0010\n",
            "Epoch 2/200\n",
            "603/603 [==============================] - 15s 25ms/step - loss: 0.0150 - mae: 0.0890 - val_loss: 0.0105 - val_mae: 0.0688 - lr: 0.0010\n",
            "Epoch 3/200\n",
            "603/603 [==============================] - 21s 35ms/step - loss: 0.0132 - mae: 0.0820 - val_loss: 0.0098 - val_mae: 0.0656 - lr: 0.0010\n",
            "Epoch 4/200\n",
            "603/603 [==============================] - 12s 21ms/step - loss: 0.0122 - mae: 0.0779 - val_loss: 0.0097 - val_mae: 0.0665 - lr: 0.0010\n",
            "Epoch 5/200\n",
            "603/603 [==============================] - 13s 21ms/step - loss: 0.0117 - mae: 0.0756 - val_loss: 0.0099 - val_mae: 0.0678 - lr: 0.0010\n",
            "Epoch 6/200\n",
            "603/603 [==============================] - 21s 35ms/step - loss: 0.0112 - mae: 0.0733 - val_loss: 0.0093 - val_mae: 0.0636 - lr: 9.0000e-04\n",
            "Epoch 7/200\n",
            "603/603 [==============================] - 13s 21ms/step - loss: 0.0109 - mae: 0.0723 - val_loss: 0.0092 - val_mae: 0.0635 - lr: 9.0000e-04\n",
            "Epoch 8/200\n",
            "603/603 [==============================] - 13s 21ms/step - loss: 0.0106 - mae: 0.0713 - val_loss: 0.0091 - val_mae: 0.0615 - lr: 9.0000e-04\n",
            "Epoch 9/200\n",
            "603/603 [==============================] - 20s 32ms/step - loss: 0.0105 - mae: 0.0708 - val_loss: 0.0091 - val_mae: 0.0637 - lr: 9.0000e-04\n",
            "Epoch 10/200\n",
            "603/603 [==============================] - 13s 21ms/step - loss: 0.0104 - mae: 0.0705 - val_loss: 0.0088 - val_mae: 0.0610 - lr: 9.0000e-04\n",
            "Epoch 11/200\n",
            "603/603 [==============================] - 13s 21ms/step - loss: 0.0101 - mae: 0.0696 - val_loss: 0.0087 - val_mae: 0.0618 - lr: 8.1000e-04\n",
            "Epoch 12/200\n",
            "603/603 [==============================] - 20s 33ms/step - loss: 0.0101 - mae: 0.0696 - val_loss: 0.0085 - val_mae: 0.0598 - lr: 8.1000e-04\n",
            "Epoch 13/200\n",
            "603/603 [==============================] - 13s 21ms/step - loss: 0.0100 - mae: 0.0692 - val_loss: 0.0085 - val_mae: 0.0618 - lr: 8.1000e-04\n",
            "Epoch 14/200\n",
            "603/603 [==============================] - 13s 21ms/step - loss: 0.0099 - mae: 0.0692 - val_loss: 0.0085 - val_mae: 0.0615 - lr: 8.1000e-04\n",
            "Epoch 15/200\n",
            "603/603 [==============================] - 19s 32ms/step - loss: 0.0098 - mae: 0.0687 - val_loss: 0.0083 - val_mae: 0.0588 - lr: 8.1000e-04\n",
            "Epoch 16/200\n",
            "603/603 [==============================] - 14s 22ms/step - loss: 0.0097 - mae: 0.0682 - val_loss: 0.0082 - val_mae: 0.0589 - lr: 7.2900e-04\n",
            "Epoch 17/200\n",
            "603/603 [==============================] - 13s 21ms/step - loss: 0.0096 - mae: 0.0679 - val_loss: 0.0082 - val_mae: 0.0596 - lr: 7.2900e-04\n",
            "Epoch 18/200\n",
            "603/603 [==============================] - 19s 32ms/step - loss: 0.0095 - mae: 0.0678 - val_loss: 0.0081 - val_mae: 0.0591 - lr: 7.2900e-04\n",
            "Epoch 19/200\n",
            "603/603 [==============================] - 13s 21ms/step - loss: 0.0094 - mae: 0.0675 - val_loss: 0.0080 - val_mae: 0.0587 - lr: 7.2900e-04\n",
            "Epoch 20/200\n",
            "603/603 [==============================] - 13s 21ms/step - loss: 0.0094 - mae: 0.0672 - val_loss: 0.0078 - val_mae: 0.0570 - lr: 7.2900e-04\n",
            "Epoch 21/200\n",
            "603/603 [==============================] - 20s 32ms/step - loss: 0.0092 - mae: 0.0667 - val_loss: 0.0080 - val_mae: 0.0583 - lr: 6.5610e-04\n",
            "Epoch 22/200\n",
            "603/603 [==============================] - 14s 23ms/step - loss: 0.0091 - mae: 0.0663 - val_loss: 0.0079 - val_mae: 0.0587 - lr: 6.5610e-04\n",
            "Epoch 23/200\n",
            "603/603 [==============================] - 13s 21ms/step - loss: 0.0090 - mae: 0.0662 - val_loss: 0.0077 - val_mae: 0.0571 - lr: 6.5610e-04\n",
            "Epoch 24/200\n",
            "603/603 [==============================] - 20s 33ms/step - loss: 0.0090 - mae: 0.0660 - val_loss: 0.0080 - val_mae: 0.0607 - lr: 6.5610e-04\n",
            "Epoch 25/200\n",
            "603/603 [==============================] - 13s 21ms/step - loss: 0.0089 - mae: 0.0659 - val_loss: 0.0075 - val_mae: 0.0558 - lr: 6.5610e-04\n",
            "Epoch 26/200\n",
            "603/603 [==============================] - 13s 21ms/step - loss: 0.0088 - mae: 0.0652 - val_loss: 0.0075 - val_mae: 0.0565 - lr: 5.9049e-04\n",
            "Epoch 27/200\n",
            "603/603 [==============================] - 19s 31ms/step - loss: 0.0087 - mae: 0.0651 - val_loss: 0.0078 - val_mae: 0.0591 - lr: 5.9049e-04\n",
            "Epoch 28/200\n",
            "603/603 [==============================] - 13s 21ms/step - loss: 0.0086 - mae: 0.0647 - val_loss: 0.0078 - val_mae: 0.0589 - lr: 5.9049e-04\n",
            "Epoch 29/200\n",
            "603/603 [==============================] - 13s 21ms/step - loss: 0.0086 - mae: 0.0648 - val_loss: 0.0075 - val_mae: 0.0564 - lr: 5.9049e-04\n",
            "Epoch 30/200\n",
            "603/603 [==============================] - 20s 33ms/step - loss: 0.0085 - mae: 0.0644 - val_loss: 0.0073 - val_mae: 0.0550 - lr: 5.9049e-04\n",
            "Epoch 31/200\n",
            "603/603 [==============================] - 13s 21ms/step - loss: 0.0084 - mae: 0.0641 - val_loss: 0.0073 - val_mae: 0.0557 - lr: 5.3144e-04\n",
            "Epoch 32/200\n",
            "603/603 [==============================] - 13s 21ms/step - loss: 0.0083 - mae: 0.0636 - val_loss: 0.0074 - val_mae: 0.0566 - lr: 5.3144e-04\n",
            "Epoch 33/200\n",
            "603/603 [==============================] - 19s 31ms/step - loss: 0.0082 - mae: 0.0636 - val_loss: 0.0073 - val_mae: 0.0554 - lr: 5.3144e-04\n",
            "Epoch 34/200\n",
            "603/603 [==============================] - 13s 21ms/step - loss: 0.0082 - mae: 0.0635 - val_loss: 0.0073 - val_mae: 0.0561 - lr: 5.3144e-04\n",
            "Epoch 35/200\n",
            "601/603 [============================>.] - ETA: 0s - loss: 0.0081 - mae: 0.0633\n",
            "Epoch 35: ReduceLROnPlateau reducing learning rate to 0.00015943228499963879.\n",
            "603/603 [==============================] - 14s 23ms/step - loss: 0.0081 - mae: 0.0633 - val_loss: 0.0073 - val_mae: 0.0555 - lr: 5.3144e-04\n",
            "Epoch 36/200\n",
            "603/603 [==============================] - 20s 33ms/step - loss: 0.0080 - mae: 0.0628 - val_loss: 0.0072 - val_mae: 0.0549 - lr: 4.7830e-04\n",
            "Epoch 37/200\n",
            "603/603 [==============================] - 13s 21ms/step - loss: 0.0079 - mae: 0.0626 - val_loss: 0.0070 - val_mae: 0.0540 - lr: 4.7830e-04\n",
            "Epoch 38/200\n",
            "603/603 [==============================] - 13s 21ms/step - loss: 0.0079 - mae: 0.0624 - val_loss: 0.0070 - val_mae: 0.0536 - lr: 4.7830e-04\n",
            "Epoch 39/200\n",
            "603/603 [==============================] - 19s 31ms/step - loss: 0.0078 - mae: 0.0623 - val_loss: 0.0070 - val_mae: 0.0535 - lr: 4.7830e-04\n",
            "Epoch 40/200\n",
            "603/603 [==============================] - 13s 21ms/step - loss: 0.0078 - mae: 0.0622 - val_loss: 0.0069 - val_mae: 0.0534 - lr: 4.7830e-04\n",
            "Epoch 41/200\n",
            "603/603 [==============================] - 13s 21ms/step - loss: 0.0077 - mae: 0.0616 - val_loss: 0.0069 - val_mae: 0.0530 - lr: 4.3047e-04\n",
            "Epoch 42/200\n",
            "603/603 [==============================] - 19s 32ms/step - loss: 0.0076 - mae: 0.0615 - val_loss: 0.0070 - val_mae: 0.0543 - lr: 4.3047e-04\n",
            "Epoch 43/200\n",
            "603/603 [==============================] - 13s 21ms/step - loss: 0.0076 - mae: 0.0613 - val_loss: 0.0070 - val_mae: 0.0549 - lr: 4.3047e-04\n",
            "Epoch 44/200\n",
            "603/603 [==============================] - 13s 21ms/step - loss: 0.0075 - mae: 0.0611 - val_loss: 0.0072 - val_mae: 0.0568 - lr: 4.3047e-04\n",
            "Epoch 45/200\n",
            "603/603 [==============================] - ETA: 0s - loss: 0.0075 - mae: 0.0610\n",
            "Epoch 45: ReduceLROnPlateau reducing learning rate to 0.0001291401480557397.\n",
            "603/603 [==============================] - 20s 34ms/step - loss: 0.0075 - mae: 0.0610 - val_loss: 0.0069 - val_mae: 0.0536 - lr: 4.3047e-04\n",
            "Epoch 46/200\n",
            "603/603 [==============================] - 13s 21ms/step - loss: 0.0074 - mae: 0.0607 - val_loss: 0.0068 - val_mae: 0.0524 - lr: 3.8742e-04\n",
            "Epoch 47/200\n",
            "603/603 [==============================] - 13s 21ms/step - loss: 0.0073 - mae: 0.0605 - val_loss: 0.0069 - val_mae: 0.0535 - lr: 3.8742e-04\n",
            "Epoch 48/200\n",
            "603/603 [==============================] - 19s 32ms/step - loss: 0.0073 - mae: 0.0602 - val_loss: 0.0069 - val_mae: 0.0548 - lr: 3.8742e-04\n",
            "Epoch 49/200\n",
            "603/603 [==============================] - 13s 21ms/step - loss: 0.0073 - mae: 0.0603 - val_loss: 0.0068 - val_mae: 0.0528 - lr: 3.8742e-04\n",
            "Epoch 50/200\n",
            "603/603 [==============================] - 13s 21ms/step - loss: 0.0072 - mae: 0.0600 - val_loss: 0.0067 - val_mae: 0.0526 - lr: 3.8742e-04\n",
            "Epoch 51/200\n",
            "603/603 [==============================] - ETA: 0s - loss: 0.0072 - mae: 0.0598\n",
            "Epoch 51: ReduceLROnPlateau reducing learning rate to 0.00010460350604262203.\n",
            "603/603 [==============================] - 19s 32ms/step - loss: 0.0072 - mae: 0.0598 - val_loss: 0.0069 - val_mae: 0.0538 - lr: 3.4868e-04\n",
            "Epoch 52/200\n",
            "603/603 [==============================] - 13s 21ms/step - loss: 0.0071 - mae: 0.0595 - val_loss: 0.0067 - val_mae: 0.0521 - lr: 3.4868e-04\n",
            "Epoch 53/200\n",
            "603/603 [==============================] - 13s 21ms/step - loss: 0.0071 - mae: 0.0595 - val_loss: 0.0067 - val_mae: 0.0526 - lr: 3.4868e-04\n",
            "Epoch 54/200\n",
            "603/603 [==============================] - 20s 33ms/step - loss: 0.0070 - mae: 0.0594 - val_loss: 0.0067 - val_mae: 0.0522 - lr: 3.4868e-04\n",
            "Epoch 55/200\n",
            "603/603 [==============================] - 13s 21ms/step - loss: 0.0070 - mae: 0.0593 - val_loss: 0.0066 - val_mae: 0.0519 - lr: 3.4868e-04\n",
            "Epoch 56/200\n",
            "603/603 [==============================] - 12s 21ms/step - loss: 0.0070 - mae: 0.0590 - val_loss: 0.0066 - val_mae: 0.0513 - lr: 3.1381e-04\n",
            "Epoch 57/200\n",
            "603/603 [==============================] - 19s 32ms/step - loss: 0.0069 - mae: 0.0588 - val_loss: 0.0066 - val_mae: 0.0519 - lr: 3.1381e-04\n",
            "Epoch 58/200\n",
            "603/603 [==============================] - 13s 21ms/step - loss: 0.0069 - mae: 0.0588 - val_loss: 0.0065 - val_mae: 0.0514 - lr: 3.1381e-04\n",
            "Epoch 59/200\n",
            "603/603 [==============================] - 13s 21ms/step - loss: 0.0068 - mae: 0.0586 - val_loss: 0.0067 - val_mae: 0.0538 - lr: 3.1381e-04\n",
            "Epoch 60/200\n",
            "603/603 [==============================] - 18s 31ms/step - loss: 0.0068 - mae: 0.0585 - val_loss: 0.0066 - val_mae: 0.0518 - lr: 3.1381e-04\n",
            "Epoch 61/200\n",
            "603/603 [==============================] - ETA: 0s - loss: 0.0068 - mae: 0.0582\n",
            "Epoch 61: ReduceLROnPlateau reducing learning rate to 8.472883491776884e-05.\n",
            "603/603 [==============================] - 13s 21ms/step - loss: 0.0068 - mae: 0.0582 - val_loss: 0.0065 - val_mae: 0.0519 - lr: 2.8243e-04\n",
            "Epoch 62/200\n",
            "603/603 [==============================] - 13s 21ms/step - loss: 0.0067 - mae: 0.0581 - val_loss: 0.0066 - val_mae: 0.0523 - lr: 2.8243e-04\n",
            "Epoch 63/200\n",
            "603/603 [==============================] - 19s 32ms/step - loss: 0.0067 - mae: 0.0581 - val_loss: 0.0065 - val_mae: 0.0515 - lr: 2.8243e-04\n",
            "Epoch 64/200\n",
            "603/603 [==============================] - 13s 21ms/step - loss: 0.0067 - mae: 0.0580 - val_loss: 0.0065 - val_mae: 0.0510 - lr: 2.8243e-04\n",
            "Epoch 65/200\n",
            "603/603 [==============================] - 13s 21ms/step - loss: 0.0067 - mae: 0.0580 - val_loss: 0.0065 - val_mae: 0.0509 - lr: 2.8243e-04\n",
            "Epoch 66/200\n",
            "603/603 [==============================] - ETA: 0s - loss: 0.0066 - mae: 0.0577\n",
            "Epoch 66: ReduceLROnPlateau reducing learning rate to 7.625594444107264e-05.\n",
            "603/603 [==============================] - 18s 31ms/step - loss: 0.0066 - mae: 0.0577 - val_loss: 0.0065 - val_mae: 0.0512 - lr: 2.5419e-04\n",
            "Epoch 67/200\n",
            "603/603 [==============================] - 13s 21ms/step - loss: 0.0066 - mae: 0.0576 - val_loss: 0.0064 - val_mae: 0.0508 - lr: 2.5419e-04\n",
            "Epoch 68/200\n",
            "603/603 [==============================] - 13s 22ms/step - loss: 0.0066 - mae: 0.0575 - val_loss: 0.0064 - val_mae: 0.0512 - lr: 2.5419e-04\n",
            "Epoch 69/200\n",
            "603/603 [==============================] - 19s 32ms/step - loss: 0.0065 - mae: 0.0573 - val_loss: 0.0064 - val_mae: 0.0508 - lr: 2.5419e-04\n",
            "Epoch 70/200\n",
            "603/603 [==============================] - 13s 21ms/step - loss: 0.0065 - mae: 0.0573 - val_loss: 0.0064 - val_mae: 0.0507 - lr: 2.5419e-04\n",
            "Epoch 71/200\n",
            "603/603 [==============================] - 13s 21ms/step - loss: 0.0065 - mae: 0.0572 - val_loss: 0.0064 - val_mae: 0.0509 - lr: 2.2877e-04\n",
            "Epoch 72/200\n",
            "603/603 [==============================] - ETA: 0s - loss: 0.0064 - mae: 0.0570\n",
            "Epoch 72: ReduceLROnPlateau reducing learning rate to 6.863035087008029e-05.\n",
            "603/603 [==============================] - 20s 33ms/step - loss: 0.0064 - mae: 0.0570 - val_loss: 0.0064 - val_mae: 0.0506 - lr: 2.2877e-04\n",
            "Epoch 73/200\n",
            "603/603 [==============================] - 13s 21ms/step - loss: 0.0064 - mae: 0.0568 - val_loss: 0.0064 - val_mae: 0.0507 - lr: 2.2877e-04\n",
            "Epoch 74/200\n",
            "603/603 [==============================] - 12s 21ms/step - loss: 0.0064 - mae: 0.0568 - val_loss: 0.0063 - val_mae: 0.0503 - lr: 2.2877e-04\n",
            "Epoch 75/200\n",
            "603/603 [==============================] - 18s 31ms/step - loss: 0.0064 - mae: 0.0568 - val_loss: 0.0063 - val_mae: 0.0504 - lr: 2.2877e-04\n",
            "Epoch 76/200\n",
            "603/603 [==============================] - 13s 21ms/step - loss: 0.0063 - mae: 0.0565 - val_loss: 0.0063 - val_mae: 0.0504 - lr: 2.0589e-04\n",
            "Epoch 77/200\n",
            "603/603 [==============================] - 12s 21ms/step - loss: 0.0063 - mae: 0.0564 - val_loss: 0.0063 - val_mae: 0.0507 - lr: 2.0589e-04\n",
            "Epoch 78/200\n",
            "603/603 [==============================] - 19s 32ms/step - loss: 0.0063 - mae: 0.0565 - val_loss: 0.0063 - val_mae: 0.0507 - lr: 2.0589e-04\n",
            "Epoch 79/200\n",
            "603/603 [==============================] - 13s 21ms/step - loss: 0.0063 - mae: 0.0563 - val_loss: 0.0063 - val_mae: 0.0503 - lr: 2.0589e-04\n",
            "Epoch 80/200\n",
            "603/603 [==============================] - 13s 21ms/step - loss: 0.0062 - mae: 0.0562 - val_loss: 0.0063 - val_mae: 0.0510 - lr: 2.0589e-04\n",
            "Epoch 81/200\n",
            "603/603 [==============================] - ETA: 0s - loss: 0.0062 - mae: 0.0561\n",
            "Epoch 81: ReduceLROnPlateau reducing learning rate to 5.55905804503709e-05.\n",
            "603/603 [==============================] - 19s 31ms/step - loss: 0.0062 - mae: 0.0561 - val_loss: 0.0063 - val_mae: 0.0504 - lr: 1.8530e-04\n",
            "Epoch 82/200\n",
            "603/603 [==============================] - 13s 21ms/step - loss: 0.0062 - mae: 0.0560 - val_loss: 0.0063 - val_mae: 0.0501 - lr: 1.8530e-04\n",
            "Epoch 83/200\n",
            "603/603 [==============================] - 13s 21ms/step - loss: 0.0062 - mae: 0.0559 - val_loss: 0.0063 - val_mae: 0.0499 - lr: 1.8530e-04\n",
            "Epoch 84/200\n",
            "603/603 [==============================] - 19s 32ms/step - loss: 0.0062 - mae: 0.0560 - val_loss: 0.0063 - val_mae: 0.0502 - lr: 1.8530e-04\n",
            "Epoch 85/200\n",
            "603/603 [==============================] - 13s 21ms/step - loss: 0.0062 - mae: 0.0560 - val_loss: 0.0063 - val_mae: 0.0501 - lr: 1.8530e-04\n",
            "Epoch 86/200\n",
            "603/603 [==============================] - ETA: 0s - loss: 0.0061 - mae: 0.0556\n",
            "Epoch 86: ReduceLROnPlateau reducing learning rate to 5.003151891287416e-05.\n",
            "603/603 [==============================] - 13s 21ms/step - loss: 0.0061 - mae: 0.0556 - val_loss: 0.0062 - val_mae: 0.0497 - lr: 1.6677e-04\n",
            "Epoch 87/200\n",
            "603/603 [==============================] - 19s 31ms/step - loss: 0.0061 - mae: 0.0556 - val_loss: 0.0062 - val_mae: 0.0498 - lr: 1.6677e-04\n",
            "Epoch 88/200\n",
            "603/603 [==============================] - 13s 21ms/step - loss: 0.0061 - mae: 0.0556 - val_loss: 0.0063 - val_mae: 0.0501 - lr: 1.6677e-04\n",
            "Epoch 89/200\n",
            "603/603 [==============================] - 13s 21ms/step - loss: 0.0061 - mae: 0.0555 - val_loss: 0.0062 - val_mae: 0.0498 - lr: 1.6677e-04\n",
            "Epoch 90/200\n",
            "603/603 [==============================] - 21s 35ms/step - loss: 0.0061 - mae: 0.0554 - val_loss: 0.0062 - val_mae: 0.0499 - lr: 1.6677e-04\n",
            "Epoch 91/200\n",
            "603/603 [==============================] - 13s 21ms/step - loss: 0.0060 - mae: 0.0552 - val_loss: 0.0062 - val_mae: 0.0496 - lr: 1.5009e-04\n",
            "Epoch 92/200\n",
            "603/603 [==============================] - 13s 21ms/step - loss: 0.0060 - mae: 0.0552 - val_loss: 0.0062 - val_mae: 0.0496 - lr: 1.5009e-04\n",
            "Epoch 93/200\n",
            "603/603 [==============================] - 19s 31ms/step - loss: 0.0060 - mae: 0.0552 - val_loss: 0.0062 - val_mae: 0.0500 - lr: 1.5009e-04\n",
            "Epoch 94/200\n",
            "603/603 [==============================] - 12s 20ms/step - loss: 0.0060 - mae: 0.0551 - val_loss: 0.0062 - val_mae: 0.0497 - lr: 1.5009e-04\n",
            "Epoch 95/200\n",
            "603/603 [==============================] - 13s 21ms/step - loss: 0.0060 - mae: 0.0552 - val_loss: 0.0062 - val_mae: 0.0496 - lr: 1.5009e-04\n",
            "Epoch 96/200\n",
            "603/603 [==============================] - ETA: 0s - loss: 0.0059 - mae: 0.0550\n",
            "Epoch 96: ReduceLROnPlateau reducing learning rate to 4.052552831126377e-05.\n",
            "603/603 [==============================] - 19s 31ms/step - loss: 0.0059 - mae: 0.0550 - val_loss: 0.0062 - val_mae: 0.0493 - lr: 1.3509e-04\n",
            "Epoch 97/200\n",
            "603/603 [==============================] - 12s 21ms/step - loss: 0.0059 - mae: 0.0549 - val_loss: 0.0062 - val_mae: 0.0498 - lr: 1.3509e-04\n",
            "Epoch 98/200\n",
            "603/603 [==============================] - 13s 21ms/step - loss: 0.0059 - mae: 0.0548 - val_loss: 0.0062 - val_mae: 0.0496 - lr: 1.3509e-04\n",
            "Epoch 99/200\n",
            "603/603 [==============================] - 20s 33ms/step - loss: 0.0059 - mae: 0.0547 - val_loss: 0.0062 - val_mae: 0.0499 - lr: 1.3509e-04\n",
            "Epoch 100/200\n",
            "603/603 [==============================] - 12s 20ms/step - loss: 0.0059 - mae: 0.0547 - val_loss: 0.0062 - val_mae: 0.0495 - lr: 1.3509e-04\n",
            "Epoch 101/200\n",
            "603/603 [==============================] - ETA: 0s - loss: 0.0059 - mae: 0.0546\n",
            "Epoch 101: ReduceLROnPlateau reducing learning rate to 3.647297853603959e-05.\n",
            "603/603 [==============================] - 13s 21ms/step - loss: 0.0059 - mae: 0.0546 - val_loss: 0.0062 - val_mae: 0.0495 - lr: 1.2158e-04\n",
            "Epoch 102/200\n",
            "603/603 [==============================] - 20s 32ms/step - loss: 0.0059 - mae: 0.0546 - val_loss: 0.0062 - val_mae: 0.0494 - lr: 1.2158e-04\n",
            "Epoch 103/200\n",
            "603/603 [==============================] - 12s 20ms/step - loss: 0.0059 - mae: 0.0546 - val_loss: 0.0062 - val_mae: 0.0496 - lr: 1.2158e-04\n",
            "Epoch 104/200\n",
            "603/603 [==============================] - 12s 21ms/step - loss: 0.0059 - mae: 0.0546 - val_loss: 0.0061 - val_mae: 0.0493 - lr: 1.2158e-04\n",
            "Epoch 105/200\n",
            "603/603 [==============================] - 21s 34ms/step - loss: 0.0058 - mae: 0.0544 - val_loss: 0.0061 - val_mae: 0.0492 - lr: 1.2158e-04\n",
            "Epoch 106/200\n",
            "603/603 [==============================] - ETA: 0s - loss: 0.0058 - mae: 0.0544\n",
            "Epoch 106: ReduceLROnPlateau reducing learning rate to 3.282568068243563e-05.\n",
            "Restoring model weights from the end of the best epoch: 91.\n",
            "603/603 [==============================] - 13s 21ms/step - loss: 0.0058 - mae: 0.0544 - val_loss: 0.0061 - val_mae: 0.0490 - lr: 1.0942e-04\n",
            "Epoch 106: early stopping\n"
          ]
        },
        {
          "output_type": "execute_result",
          "data": {
            "text/plain": [
              "<keras.src.callbacks.History at 0x7bc1fcadf160>"
            ]
          },
          "metadata": {},
          "execution_count": 20
        }
      ],
      "source": [
        "# Train the model and save its history\n",
        "model.fit(\n",
        "    x=X_train,\n",
        "    y=y_train,\n",
        "    batch_size=batch_size,\n",
        "    epochs=epochs,\n",
        "    validation_data=(X_val, y_val),\n",
        "    callbacks=callbacks,\n",
        ")"
      ]
    },
    {
      "cell_type": "code",
      "execution_count": 21,
      "metadata": {
        "colab": {
          "base_uri": "https://localhost:8080/",
          "height": 573
        },
        "id": "rLc4fM9JjQt4",
        "outputId": "bc081e06-446c-4e50-b2a5-2f9c7bcb5707",
        "ExecuteTime": {
          "end_time": "2023-12-16T12:20:39.580011460Z",
          "start_time": "2023-12-16T12:20:39.053792604Z"
        }
      },
      "outputs": [
        {
          "output_type": "display_data",
          "data": {
            "text/plain": [
              "<Figure size 1800x600 with 2 Axes>"
            ],
            "image/png": "[encoded data removed]"
          },
          "metadata": {}
        }
      ],
      "source": [
        "plot_history(model.history.history, log_scale=True)"
      ]
    },
    {
      "cell_type": "code",
      "execution_count": 22,
      "metadata": {
        "id": "4RVLDpOTwvhw",
        "ExecuteTime": {
          "end_time": "2023-12-16T12:20:43.011822999Z",
          "start_time": "2023-12-16T12:20:39.587930299Z"
        }
      },
      "outputs": [],
      "source": [
        "# Save the trained model\n",
        "model.save('models/' + model_name)\n",
        "del model"
      ]
    },
    {
      "cell_type": "code",
      "execution_count": 23,
      "outputs": [],
      "source": [
        "model = tfk.models.load_model('checkpoints/' + model_name + '_78')"
      ],
      "metadata": {
        "ExecuteTime": {
          "end_time": "2023-12-16T12:20:44.952477460Z",
          "start_time": "2023-12-16T12:20:43.035356536Z"
        },
        "id": "YEIvkAhalIUV"
      }
    },
    {
      "cell_type": "code",
      "source": [
        "mse, mae = model.evaluate(X_train, y_train)\n",
        "print(f\"Mean Squared Error: {mse}\")\n",
        "print(f\"Mean Absolute Error: {mae}\")"
      ],
      "metadata": {
        "colab": {
          "base_uri": "https://localhost:8080/"
        },
        "id": "bcjEmJLw2pyz",
        "outputId": "72e4c4f0-040f-4b51-beef-d64f3d5d5e65"
      },
      "execution_count": 24,
      "outputs": [
        {
          "output_type": "stream",
          "name": "stdout",
          "text": [
            "4822/4822 [==============================] - 22s 4ms/step - loss: 0.0042 - mae: 0.0424\n",
            "Mean Squared Error: 0.004153034649789333\n",
            "Mean Absolute Error: 0.042432352900505066\n"
          ]
        }
      ]
    },
    {
      "cell_type": "code",
      "execution_count": 25,
      "outputs": [
        {
          "output_type": "stream",
          "name": "stdout",
          "text": [
            "536/536 [==============================] - 2s 4ms/step - loss: 0.0063 - mae: 0.0507\n",
            "Mean Squared Error: 0.006344767287373543\n",
            "Mean Absolute Error: 0.05066679045557976\n"
          ]
        }
      ],
      "source": [
        "mse, mae = model.evaluate(X_val, y_val)\n",
        "print(f\"Mean Squared Error: {mse}\")\n",
        "print(f\"Mean Absolute Error: {mae}\")"
      ],
      "metadata": {
        "ExecuteTime": {
          "end_time": "2023-12-16T12:20:47.110757120Z",
          "start_time": "2023-12-16T12:20:44.954718228Z"
        },
        "id": "mKBbGS6UlIUV",
        "colab": {
          "base_uri": "https://localhost:8080/"
        },
        "outputId": "98dea75d-d1c7-4a29-fae9-5893d21b4870"
      }
    }
  ],
  "metadata": {
    "accelerator": "GPU",
    "colab": {
      "provenance": [],
      "collapsed_sections": [
        "ap3o8JayfgEM",
        "efzZcamrkckv"
      ]
    },
    "kernelspec": {
      "name": "python3",
      "language": "python",
      "display_name": "Python 3 (ipykernel)"
    },
    "language_info": {
      "name": "python"
    }
  },
  "nbformat": 4,
  "nbformat_minor": 0
}